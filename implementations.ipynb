{
 "cells": [
  {
   "cell_type": "markdown",
   "metadata": {},
   "source": [
    "# Project 1"
   ]
  },
  {
   "cell_type": "markdown",
   "metadata": {},
   "source": [
    "TODO: add small description, imports and comments once the functions are written"
   ]
  },
  {
   "cell_type": "code",
   "execution_count": 1,
   "metadata": {},
   "outputs": [],
   "source": [
    "#import section\n",
    "import numpy as np\n",
    "import math"
   ]
  },
  {
   "cell_type": "code",
   "execution_count": null,
   "metadata": {},
   "outputs": [],
   "source": [
    "# Linear regression using gradient descent\n",
    "def least_squares_GD(y, tx, initial_w,max_iters, gamma):\n",
    "    "
   ]
  },
  {
   "cell_type": "code",
   "execution_count": null,
   "metadata": {},
   "outputs": [],
   "source": [
    "#Linear regression using stochastic gradient descent\n",
    "def least_squares_SGD(y, tx, initial w,max_iters, gamma):\n",
    "    "
   ]
  },
  {
   "cell_type": "code",
   "execution_count": 4,
   "metadata": {},
   "outputs": [],
   "source": [
    "#Least squares regression using normal equations\n",
    "def least_squares(y, tx):\n",
    "    w_opt = (np.linalg.inv((tx.T).dot(tx)).dot(tx.T)).dot(y)\n",
    "    y_pred = tx.dot(w_opt)\n",
    "    return (w_opt,y_pred)"
   ]
  },
  {
   "cell_type": "code",
   "execution_count": null,
   "metadata": {},
   "outputs": [],
   "source": [
    "#Ridge regression using normal equations\n",
    "def ridge_regression(y, tx, lambda_):\n",
    "    "
   ]
  },
  {
   "cell_type": "code",
   "execution_count": null,
   "metadata": {},
   "outputs": [],
   "source": [
    "#Logistic regression using gradient descent or SGD\n",
    "def logistic_regression(y, tx, initial_w,max_iters, gamma):\n",
    "    "
   ]
  },
  {
   "cell_type": "code",
   "execution_count": null,
   "metadata": {},
   "outputs": [],
   "source": [
    "#Regularized logistic regression using gradient descent or SGD\n",
    "def reg_logistic_regression(y, tx, lambda_ ,initial_w, max_iters, gamma):\n",
    "    sig = 1/(1 + math.exp(tx.dot(initial_w)))\n",
    "    ws = initial_w\n",
    "    w_len = len(initial_w)\n",
    "    for i in range max_iters:\n",
    "        for j in range w_len:\n",
    "            ws[j] -= lambda_*#derivative of sig?\n",
    "    w_opt = ws[np.argmin(ws)]\n",
    "    sig_opt = 1/(1 + math.exp(tx.dot(w_opt)))\n",
    "    y_pred = np.zeros(len(y))\n",
    "    for k in range len(y):\n",
    "        if sig_opt[k] >= 0.5:\n",
    "            w_pred[k] = 1\n",
    "    return (w_opt,y_pred)"
   ]
  },
  {
   "cell_type": "code",
   "execution_count": null,
   "metadata": {},
   "outputs": [],
   "source": [
    "# Test: TODO: should plot the results and have test functions to validate \n",
    "# the results that we obtain"
   ]
  }
 ],
 "metadata": {
  "kernelspec": {
   "display_name": "Python 3",
   "language": "python",
   "name": "python3"
  },
  "language_info": {
   "codemirror_mode": {
    "name": "ipython",
    "version": 3
   },
   "file_extension": ".py",
   "mimetype": "text/x-python",
   "name": "python",
   "nbconvert_exporter": "python",
   "pygments_lexer": "ipython3",
   "version": "3.7.3"
  }
 },
 "nbformat": 4,
 "nbformat_minor": 2
}
