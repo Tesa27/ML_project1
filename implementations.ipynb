{
 "cells": [
  {
   "cell_type": "markdown",
   "metadata": {},
   "source": [
    "# Project 1"
   ]
  },
  {
   "cell_type": "markdown",
   "metadata": {},
   "source": [
    "TODO: add small description, imports and comments once the functions are written"
   ]
  },
  {
   "cell_type": "code",
   "execution_count": null,
   "metadata": {},
   "outputs": [],
   "source": [
    "def split (train_data, train_ratio, seed):\n",
    "    np.random.seed(seed)\n",
    "    train_size = round(train_ratio * len(train_data))\n",
    "    boson = train_data[train_data['Prediction']=='b'].to_numpy()\n",
    "    spiner = train_data[train_data['Prediction']=='s'].to_numpy()\n",
    "    np.random.shuffle(boson)\n",
    "    np.random.shuffle(spiner)\n",
    "    train = np.concatenate((boson[:round(train_size/2)], spiner[:round(train_size/2)]))\n",
    "    test = np.concatenate((boson[round(train_size/2):], spiner[round(train_size/2):]))\n",
    "    return train, test\n",
    "\n",
    "train, test = split(train_data, 0.66, 1)\n",
    "\n",
    "t_b = train[train[:,1]=='b']\n",
    "t_s = train[train[:,1]=='s']\n",
    "plot_balance(t_b.shape[0], t_s.shape[0])\n",
    "te_b = test[test[:,1]=='b']\n",
    "te_s = test[test[:,1]=='s']\n",
    "plot_balance(te_b.shape[0], te_s.shape[0])"
   ]
  }
 ],
 "metadata": {
  "kernelspec": {
   "display_name": "Python",
   "language": "python",
   "name": "python3"
  },
  "language_info": {
   "codemirror_mode": {
    "name": "ipython",
    "version": 3
   },
   "file_extension": ".py",
   "mimetype": "text/x-python",
   "name": "python",
   "nbconvert_exporter": "python",
   "pygments_lexer": "ipython3",
   "version": "3.8.10"
  }
 },
 "nbformat": 4,
 "nbformat_minor": 4
}
