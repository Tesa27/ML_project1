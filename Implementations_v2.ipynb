{
 "cells": [
  {
   "cell_type": "markdown",
   "metadata": {},
   "source": [
    "# Project 1"
   ]
  },
  {
   "cell_type": "code",
   "execution_count": 2,
   "metadata": {},
   "outputs": [],
   "source": [
    "#import section\n",
    "import numpy as np\n",
    "import pandas as pd\n",
    "import matplotlib.pyplot as plt\n",
    "import random\n",
    "import timeit"
   ]
  },
  {
   "cell_type": "code",
   "execution_count": 3,
   "metadata": {},
   "outputs": [],
   "source": [
    "# Linear regression using gradient descent\n",
    "# y:          vector of outputs (dimension N)\n",
    "# tx:         matrix of data (dimension N x D), such that tx[:, 0] = 1\n",
    "# initial_w:  vector (dimension D)\n",
    "# max_iters:  scalar\n",
    "# gamma:      scalar respresenting step size\n",
    "# return parameters w for the regression and loss\n",
    "\n",
    "def least_squares_GD(y, tx, initial_w,max_iters, gamma):\n",
    "    N, D = tx.shape\n",
    "    \n",
    "    # Iterations of gradient descent\n",
    "    w = initial_w\n",
    "    for _ in range(max_iters):\n",
    "        grad = -np.dot(tx.T, (y - np.dot(tx,w))) / N\n",
    "        w = w - gamma * grad\n",
    "        \n",
    "    # Calculating the loss\n",
    "    r = y - np.dot(tx,w)\n",
    "    loss = np.dot(r,r) / (2*N)\n",
    "    \n",
    "    return w, loss"
   ]
  },
  {
   "cell_type": "code",
   "execution_count": 4,
   "metadata": {},
   "outputs": [],
   "source": [
    "#Linear regression using stochastic gradient descent\n",
    "def least_squares_SGD(y, tx, initial_w,max_iters, gamma, frequency=0):\n",
    "    N, D = tx.shape\n",
    "    \n",
    "    loss = []\n",
    "    \n",
    "    \n",
    "    # Iterations of stochastic gradient descent\n",
    "    w = initial_w\n",
    "    for i in range(max_iters):\n",
    "        k = random.randint(0,N-1)\n",
    "        grad = -(y[k]-np.dot(tx[k,:], w))*tx[k,:]\n",
    "        w = w - gamma * grad\n",
    "        # Calculating the loss\n",
    "        if frequency != 0 and i % frequency == 0:\n",
    "            r = y - np.dot(tx,w)\n",
    "            loss.append(np.dot(r,r) / (2*N))\n",
    "            \n",
    "    r = y - np.dot(tx,w)\n",
    "    loss.append(np.dot(r,r) / (2*N))        \n",
    "    \n",
    "    return w, loss\n"
   ]
  },
  {
   "cell_type": "code",
   "execution_count": 5,
   "metadata": {},
   "outputs": [],
   "source": [
    "#Least squares regression using normal equations\n",
    "def least_squares(y, tx):\n",
    "    N, _ = tx\n",
    "    \n",
    "    # Calculating w\n",
    "    w = (np.linalg.inv((tx.T).dot(tx)).dot(tx.T)).dot(y)\n",
    "    \n",
    "    #Calculating loss\n",
    "    r = y - tx.dot(w_opt)\n",
    "    loss = np.dot(r,r)/(2*N)\n",
    "    return w_opt, loss"
   ]
  },
  {
   "cell_type": "code",
   "execution_count": 6,
   "metadata": {},
   "outputs": [],
   "source": [
    "#Ridge regression using normal equations\n",
    "# y:          vector of outputs (dimension N)\n",
    "# tx:         matrix of data (dimension N x D), such that tx[:, 0] = 1\n",
    "#lambda_:     regularization parameter\n",
    "\n",
    "def ridge_regression(y, tx, lambda_):\n",
    "    N,D = tx.shape\n",
    "    \n",
    "    A = np.dot(tx.T, tx) + lambda_ * np.ones(D)\n",
    "    B = np.linalg.inv(A)\n",
    "    w = np.dot(np.dot(B,tx.T), y)\n",
    "    \n",
    "    # Calculating loss\n",
    "    r = y - np.dot(tx,w)\n",
    "    loss = (np.dot(r,r)+ lambda_ * np.dot(w,w)) / (2*N)\n",
    "    \n",
    "    return w, loss\n",
    "    \n",
    "    "
   ]
  },
  {
   "cell_type": "code",
   "execution_count": 7,
   "metadata": {},
   "outputs": [],
   "source": [
    "# Returns exp(x)/(1+exp(x))\n",
    "# x is scalar or numpy array\n",
    "def sigmoid(x):\n",
    "    tmp = np.exp(-x)\n",
    "    return 1/(1+tmp)\n",
    "\n",
    "\n",
    "\n",
    "#Logistic regression using SGD\n",
    "# y:          vector of outputs (dimension N)\n",
    "# tx:         matrix of data (dimension N x D), such that tx[:, 0] = 1\n",
    "# initial_w:  vector (dimension D)\n",
    "# max_iters:  scalar\n",
    "# gamma:      scalar respresenting step size\n",
    "# return parameters w for the regression and loss\n",
    "def logistic_regression(y, tx, initial_w,max_iters, gamma):\n",
    "    N, _ = tx.shape\n",
    "    w = initial_w\n",
    "    \n",
    "    for _ in range(max_iter):\n",
    "        k = random.randint(0,N-1)\n",
    "        tmp = np.dot(tx[k,:],w)\n",
    "        grad = -y[k]*tx[k,:]+sigmoid(tmp)*tx[k,:]\n",
    "        w = w - gamma*grad\n",
    "    \n",
    "    tmp = np.dot(tx,w)\n",
    "    loss = - np.dot(y,tmp)+np.sum(np.log(1+np.exp(tmp)))\n",
    "    return (w, loss)\n",
    "\n",
    "\n",
    "def logistic_regression_GD(y, tx, initial_w,max_iters, gamma):\n",
    "    w = initial_w\n",
    "    \n",
    "    for _ in range(max_iter):\n",
    "        tmp = np.dot(tx, w)\n",
    "        grad = np.dot((sigmoid(tmp) - y), tx)\n",
    "        w = w - gamma*grad\n",
    "    \n",
    "    tmp = np.dot(tx,w)\n",
    "    loss = - np.dot(y,tmp)+np.sum(np.log(1+np.exp(tmp)))\n",
    "    return (w, loss)"
   ]
  },
  {
   "cell_type": "code",
   "execution_count": 8,
   "metadata": {},
   "outputs": [],
   "source": [
    "#Regularized logistic regression using SGD\n",
    "# y:          vector of outputs (dimension N)\n",
    "# tx:         matrix of data (dimension N x D), such that tx[:, 0] = 1\n",
    "# lambda:     scalar representing regularization parameter\n",
    "# initial_w:  vector (dimension D)\n",
    "# max_iters:  scalar\n",
    "# gamma:      scalar respresenting step size\n",
    "# return parameters w for the regression and loss\n",
    "\n",
    "def reg_logistic_regression(y, tx, lambda_ ,initial_w, max_iters, gamma, frequency=0, x_test=None, y_test=None, log=None):\n",
    "    N, _ = tx.shape\n",
    "    w = initial_w\n",
    "    \n",
    "    losses = []\n",
    "    \n",
    "    info = pd.DataFrame()\n",
    "    \n",
    "    for i in range(max_iters):\n",
    "        k = random.randint(0,N-1)\n",
    "        tmp = np.dot(tx[k,:],w)\n",
    "        grad = -y[k]*tx[k,:]+sigmoid(tmp)*tx[k,:]+lambda_*w\n",
    "        w = w - gamma*grad\n",
    "        \n",
    "        if frequency != 0 and i % frequency == 0:\n",
    "            tmp = np.dot(tx,w)\n",
    "            loss = (- np.dot(y,tmp)+np.sum(np.log(1+np.exp(tmp))))/N\n",
    "            if loss == float('inf') or loss == float('nan'):\n",
    "                print(\"Overflow\")\n",
    "                return w, losses\n",
    "            losses.append(loss)\n",
    "            train_evaluation = evaluate_on_set(w,tx,y)\n",
    "            print(f'iteration {i}: loss: {losses[-1]}, precision on train: {train_evaluation}')\n",
    "            if x_test is not None and y_test is not None:\n",
    "                test_evaluation = evaluate_on_set(w,x_test,y_test)\n",
    "                print(f'precision on test: {test_evaluation}\\n')\n",
    "            if log != None:\n",
    "                row = {'lambda':[lambda_], 'gamma': [gamma], 'iteration': [i], 'loss': [loss]}\n",
    "                row.update({'acc_train': [train_evaluation['accuracy']], 'prec_train': [train_evaluation['precision']], \n",
    "                       'recall_train': [train_evaluation['recall']], 'f1_train': [train_evaluation['f1_score']] })\n",
    "                \n",
    "                row.update({'acc_test': [test_evaluation['accuracy']], 'prec_test': [test_evaluation['precision']], \n",
    "                       'recall_test': [test_evaluation['recall']], 'f1_test': [test_evaluation['f1_score']] })\n",
    "                for j in range(len(w)):\n",
    "                    row[f'w_{j}'] = [w[j]]      \n",
    "                info = pd.concat([info, pd.DataFrame.from_dict(row)])\n",
    "                    \n",
    "    ### \n",
    "    tmp = np.dot(tx,w)\n",
    "    losses.append(loss)\n",
    "    \n",
    "    if log != None:\n",
    "        info.to_csv(log)\n",
    "    \n",
    "    return w, losses, info\n",
    "\n",
    "def reg_logistic_regression_GD(y, tx, lambda_ ,initial_w, max_iters, gamma):\n",
    "    w = initial_w\n",
    "    \n",
    "    for _ in range(max_iter):\n",
    "        tmp = np.dot(tx, w)\n",
    "        grad = np.dot((sigmoid(tmp) - y), tx) + lambda_*w\n",
    "        w = w - gamma*grad\n",
    "    \n",
    "    ### \n",
    "    tmp = np.dot(tx,w)\n",
    "    loss = - np.dot(y,tmp)+np.sum(np.log(1+np.exp(tmp)))\n",
    "    return w, loss"
   ]
  },
  {
   "cell_type": "markdown",
   "metadata": {},
   "source": [
    "# Loading data"
   ]
  },
  {
   "cell_type": "code",
   "execution_count": 9,
   "metadata": {},
   "outputs": [],
   "source": [
    "path_train = './data/train.csv.zip'\n",
    "path_test = './data/test.csv.zip'\n",
    "\n",
    "train_data = pd.read_csv(path_train, compression='zip')\n",
    "test_data = pd.read_csv(path_test, compression='zip')"
   ]
  },
  {
   "cell_type": "markdown",
   "metadata": {},
   "source": [
    "# Cleaning data"
   ]
  },
  {
   "cell_type": "code",
   "execution_count": 10,
   "metadata": {},
   "outputs": [],
   "source": [
    "for column in train_data.columns:\n",
    "    indexes = train_data[train_data[column] == -999].index\n",
    "    train_data.drop(indexes, inplace=True)\n",
    "    \n",
    "for column in train_data.columns:\n",
    "    if train_data[column].min() == -999:\n",
    "        print(column)"
   ]
  },
  {
   "cell_type": "code",
   "execution_count": 11,
   "metadata": {},
   "outputs": [
    {
     "data": {
      "image/png": "[encoded data removed]",
      "text/plain": [
       "<Figure size 432x288 with 1 Axes>"
      ]
     },
     "metadata": {
      "needs_background": "light"
     },
     "output_type": "display_data"
    },
    {
     "data": {
      "image/png": "[encoded data removed]",
      "text/plain": [
       "<Figure size 432x288 with 1 Axes>"
      ]
     },
     "metadata": {
      "needs_background": "light"
     },
     "output_type": "display_data"
    },
    {
     "data": {
      "image/png": "[encoded data removed]",
      "text/plain": [
       "<Figure size 432x288 with 1 Axes>"
      ]
     },
     "metadata": {
      "needs_background": "light"
     },
     "output_type": "display_data"
    },
    {
     "data": {
      "image/png": "[encoded data removed]",
      "text/plain": [
       "<Figure size 432x288 with 1 Axes>"
      ]
     },
     "metadata": {
      "needs_background": "light"
     },
     "output_type": "display_data"
    },
    {
     "data": {
      "image/png": "[encoded data removed]",
      "text/plain": [
       "<Figure size 432x288 with 1 Axes>"
      ]
     },
     "metadata": {
      "needs_background": "light"
     },
     "output_type": "display_data"
    },
    {
     "data": {
      "image/png": "[encoded data removed]",
      "text/plain": [
       "<Figure size 432x288 with 1 Axes>"
      ]
     },
     "metadata": {
      "needs_background": "light"
     },
     "output_type": "display_data"
    },
    {
     "data": {
      "image/png": "[encoded data removed]",
      "text/plain": [
       "<Figure size 432x288 with 1 Axes>"
      ]
     },
     "metadata": {
      "needs_background": "light"
     },
     "output_type": "display_data"
    },
    {
     "data": {
      "image/png": "[encoded data removed]",
      "text/plain": [
       "<Figure size 432x288 with 1 Axes>"
      ]
     },
     "metadata": {
      "needs_background": "light"
     },
     "output_type": "display_data"
    },
    {
     "data": {
      "image/png": "[encoded data removed]",
      "text/plain": [
       "<Figure size 432x288 with 1 Axes>"
      ]
     },
     "metadata": {
      "needs_background": "light"
     },
     "output_type": "display_data"
    },
    {
     "data": {
      "image/png": "[encoded data removed]",
      "text/plain": [
       "<Figure size 432x288 with 1 Axes>"
      ]
     },
     "metadata": {
      "needs_background": "light"
     },
     "output_type": "display_data"
    },
    {
     "data": {
      "image/png": "[encoded data removed]",
      "text/plain": [
       "<Figure size 432x288 with 1 Axes>"
      ]
     },
     "metadata": {
      "needs_background": "light"
     },
     "output_type": "display_data"
    },
    {
     "data": {
      "image/png": "[encoded data removed]",
      "text/plain": [
       "<Figure size 432x288 with 1 Axes>"
      ]
     },
     "metadata": {
      "needs_background": "light"
     },
     "output_type": "display_data"
    },
    {
     "data": {
      "image/png": "[encoded data removed]",
      "text/plain": [
       "<Figure size 432x288 with 1 Axes>"
      ]
     },
     "metadata": {
      "needs_background": "light"
     },
     "output_type": "display_data"
    },
    {
     "data": {
      "image/png": "[encoded data removed]",
      "text/plain": [
       "<Figure size 432x288 with 1 Axes>"
      ]
     },
     "metadata": {
      "needs_background": "light"
     },
     "output_type": "display_data"
    },
    {
     "data": {
      "image/png": "[encoded data removed]",
      "text/plain": [
       "<Figure size 432x288 with 1 Axes>"
      ]
     },
     "metadata": {
      "needs_background": "light"
     },
     "output_type": "display_data"
    },
    {
     "data": {
      "image/png": "[encoded data removed]",
      "text/plain": [
       "<Figure size 432x288 with 1 Axes>"
      ]
     },
     "metadata": {
      "needs_background": "light"
     },
     "output_type": "display_data"
    },
    {
     "data": {
      "image/png": "[encoded data removed]",
      "text/plain": [
       "<Figure size 432x288 with 1 Axes>"
      ]
     },
     "metadata": {
      "needs_background": "light"
     },
     "output_type": "display_data"
    },
    {
     "data": {
      "image/png": "[encoded data removed]",
      "text/plain": [
       "<Figure size 432x288 with 1 Axes>"
      ]
     },
     "metadata": {
      "needs_background": "light"
     },
     "output_type": "display_data"
    },
    {
     "data": {
      "image/png": "[encoded data removed]",
      "text/plain": [
       "<Figure size 432x288 with 1 Axes>"
      ]
     },
     "metadata": {
      "needs_background": "light"
     },
     "output_type": "display_data"
    },
    {
     "data": {
      "image/png": "[encoded data removed]",
      "text/plain": [
       "<Figure size 432x288 with 1 Axes>"
      ]
     },
     "metadata": {
      "needs_background": "light"
     },
     "output_type": "display_data"
    },
    {
     "data": {
      "image/png": "[encoded data removed]",
      "text/plain": [
       "<Figure size 432x288 with 1 Axes>"
      ]
     },
     "metadata": {
      "needs_background": "light"
     },
     "output_type": "display_data"
    },
    {
     "data": {
      "image/png": "[encoded data removed]",
      "text/plain": [
       "<Figure size 432x288 with 1 Axes>"
      ]
     },
     "metadata": {
      "needs_background": "light"
     },
     "output_type": "display_data"
    },
    {
     "data": {
      "image/png": "[encoded data removed]",
      "text/plain": [
       "<Figure size 432x288 with 1 Axes>"
      ]
     },
     "metadata": {
      "needs_background": "light"
     },
     "output_type": "display_data"
    },
    {
     "data": {
      "image/png": "[encoded data removed]",
      "text/plain": [
       "<Figure size 432x288 with 1 Axes>"
      ]
     },
     "metadata": {
      "needs_background": "light"
     },
     "output_type": "display_data"
    },
    {
     "data": {
      "image/png": "[encoded data removed]",
      "text/plain": [
       "<Figure size 432x288 with 1 Axes>"
      ]
     },
     "metadata": {
      "needs_background": "light"
     },
     "output_type": "display_data"
    },
    {
     "data": {
      "image/png": "[encoded data removed]",
      "text/plain": [
       "<Figure size 432x288 with 1 Axes>"
      ]
     },
     "metadata": {
      "needs_background": "light"
     },
     "output_type": "display_data"
    },
    {
     "data": {
      "image/png": "[encoded data removed]",
      "text/plain": [
       "<Figure size 432x288 with 1 Axes>"
      ]
     },
     "metadata": {
      "needs_background": "light"
     },
     "output_type": "display_data"
    },
    {
     "data": {
      "image/png": "[encoded data removed]",
      "text/plain": [
       "<Figure size 432x288 with 1 Axes>"
      ]
     },
     "metadata": {
      "needs_background": "light"
     },
     "output_type": "display_data"
    },
    {
     "data": {
      "image/png": "[encoded data removed]",
      "text/plain": [
       "<Figure size 432x288 with 1 Axes>"
      ]
     },
     "metadata": {
      "needs_background": "light"
     },
     "output_type": "display_data"
    },
    {
     "data": {
      "image/png": "[encoded data removed]",
      "text/plain": [
       "<Figure size 432x288 with 1 Axes>"
      ]
     },
     "metadata": {
      "needs_background": "light"
     },
     "output_type": "display_data"
    },
    {
     "data": {
      "image/png": "[encoded data removed]",
      "text/plain": [
       "<Figure size 432x288 with 1 Axes>"
      ]
     },
     "metadata": {
      "needs_background": "light"
     },
     "output_type": "display_data"
    },
    {
     "data": {
      "image/png": "[encoded data removed]",
      "text/plain": [
       "<Figure size 432x288 with 1 Axes>"
      ]
     },
     "metadata": {
      "needs_background": "light"
     },
     "output_type": "display_data"
    }
   ],
   "source": [
    "for column in train_data.columns:\n",
    "    train_data[column].hist(bins=100)\n",
    "    plt.show()"
   ]
  },
  {
   "cell_type": "code",
   "execution_count": 12,
   "metadata": {},
   "outputs": [
    {
     "data": {
      "text/plain": [
       "(68114, 32)"
      ]
     },
     "execution_count": 12,
     "metadata": {},
     "output_type": "execute_result"
    }
   ],
   "source": [
    "train_data.shape"
   ]
  },
  {
   "cell_type": "code",
   "execution_count": 13,
   "metadata": {},
   "outputs": [
    {
     "data": {
      "text/html": [
       "<div>\n",
       "<style scoped>\n",
       "    .dataframe tbody tr th:only-of-type {\n",
       "        vertical-align: middle;\n",
       "    }\n",
       "\n",
       "    .dataframe tbody tr th {\n",
       "        vertical-align: top;\n",
       "    }\n",
       "\n",
       "    .dataframe thead th {\n",
       "        text-align: right;\n",
       "    }\n",
       "</style>\n",
       "<table border=\"1\" class=\"dataframe\">\n",
       "  <thead>\n",
       "    <tr style=\"text-align: right;\">\n",
       "      <th></th>\n",
       "      <th>Id</th>\n",
       "      <th>Prediction</th>\n",
       "      <th>DER_mass_MMC</th>\n",
       "      <th>DER_mass_transverse_met_lep</th>\n",
       "      <th>DER_mass_vis</th>\n",
       "      <th>DER_pt_h</th>\n",
       "      <th>DER_deltaeta_jet_jet</th>\n",
       "      <th>DER_mass_jet_jet</th>\n",
       "      <th>DER_prodeta_jet_jet</th>\n",
       "      <th>DER_deltar_tau_lep</th>\n",
       "      <th>...</th>\n",
       "      <th>PRI_met_phi</th>\n",
       "      <th>PRI_met_sumet</th>\n",
       "      <th>PRI_jet_num</th>\n",
       "      <th>PRI_jet_leading_pt</th>\n",
       "      <th>PRI_jet_leading_eta</th>\n",
       "      <th>PRI_jet_leading_phi</th>\n",
       "      <th>PRI_jet_subleading_pt</th>\n",
       "      <th>PRI_jet_subleading_eta</th>\n",
       "      <th>PRI_jet_subleading_phi</th>\n",
       "      <th>PRI_jet_all_pt</th>\n",
       "    </tr>\n",
       "  </thead>\n",
       "  <tbody>\n",
       "    <tr>\n",
       "      <th>0</th>\n",
       "      <td>100000</td>\n",
       "      <td>0</td>\n",
       "      <td>138.470</td>\n",
       "      <td>51.655</td>\n",
       "      <td>97.827</td>\n",
       "      <td>27.980</td>\n",
       "      <td>0.910</td>\n",
       "      <td>124.711</td>\n",
       "      <td>2.666</td>\n",
       "      <td>3.064</td>\n",
       "      <td>...</td>\n",
       "      <td>-0.277</td>\n",
       "      <td>258.733</td>\n",
       "      <td>2</td>\n",
       "      <td>67.435</td>\n",
       "      <td>2.150</td>\n",
       "      <td>0.444</td>\n",
       "      <td>46.062</td>\n",
       "      <td>1.240</td>\n",
       "      <td>-2.475</td>\n",
       "      <td>113.497</td>\n",
       "    </tr>\n",
       "    <tr>\n",
       "      <th>5</th>\n",
       "      <td>100005</td>\n",
       "      <td>1</td>\n",
       "      <td>89.744</td>\n",
       "      <td>13.550</td>\n",
       "      <td>59.149</td>\n",
       "      <td>116.344</td>\n",
       "      <td>2.636</td>\n",
       "      <td>284.584</td>\n",
       "      <td>-0.540</td>\n",
       "      <td>1.362</td>\n",
       "      <td>...</td>\n",
       "      <td>2.237</td>\n",
       "      <td>282.849</td>\n",
       "      <td>3</td>\n",
       "      <td>90.547</td>\n",
       "      <td>-2.412</td>\n",
       "      <td>-0.653</td>\n",
       "      <td>56.165</td>\n",
       "      <td>0.224</td>\n",
       "      <td>3.106</td>\n",
       "      <td>193.660</td>\n",
       "    </tr>\n",
       "    <tr>\n",
       "      <th>6</th>\n",
       "      <td>100006</td>\n",
       "      <td>0</td>\n",
       "      <td>148.754</td>\n",
       "      <td>28.862</td>\n",
       "      <td>107.782</td>\n",
       "      <td>106.130</td>\n",
       "      <td>0.733</td>\n",
       "      <td>158.359</td>\n",
       "      <td>0.113</td>\n",
       "      <td>2.941</td>\n",
       "      <td>...</td>\n",
       "      <td>-1.443</td>\n",
       "      <td>294.074</td>\n",
       "      <td>2</td>\n",
       "      <td>123.010</td>\n",
       "      <td>0.864</td>\n",
       "      <td>1.450</td>\n",
       "      <td>56.867</td>\n",
       "      <td>0.131</td>\n",
       "      <td>-2.767</td>\n",
       "      <td>179.877</td>\n",
       "    </tr>\n",
       "    <tr>\n",
       "      <th>11</th>\n",
       "      <td>100011</td>\n",
       "      <td>1</td>\n",
       "      <td>114.744</td>\n",
       "      <td>10.286</td>\n",
       "      <td>75.712</td>\n",
       "      <td>30.816</td>\n",
       "      <td>2.563</td>\n",
       "      <td>252.599</td>\n",
       "      <td>-1.401</td>\n",
       "      <td>2.888</td>\n",
       "      <td>...</td>\n",
       "      <td>2.148</td>\n",
       "      <td>290.547</td>\n",
       "      <td>3</td>\n",
       "      <td>76.773</td>\n",
       "      <td>-0.790</td>\n",
       "      <td>0.303</td>\n",
       "      <td>56.876</td>\n",
       "      <td>1.773</td>\n",
       "      <td>-2.079</td>\n",
       "      <td>165.640</td>\n",
       "    </tr>\n",
       "    <tr>\n",
       "      <th>23</th>\n",
       "      <td>100023</td>\n",
       "      <td>0</td>\n",
       "      <td>141.481</td>\n",
       "      <td>0.736</td>\n",
       "      <td>111.581</td>\n",
       "      <td>174.075</td>\n",
       "      <td>1.955</td>\n",
       "      <td>364.344</td>\n",
       "      <td>-0.923</td>\n",
       "      <td>1.335</td>\n",
       "      <td>...</td>\n",
       "      <td>-0.973</td>\n",
       "      <td>454.785</td>\n",
       "      <td>2</td>\n",
       "      <td>195.533</td>\n",
       "      <td>1.156</td>\n",
       "      <td>1.416</td>\n",
       "      <td>82.477</td>\n",
       "      <td>-0.798</td>\n",
       "      <td>-2.785</td>\n",
       "      <td>278.009</td>\n",
       "    </tr>\n",
       "  </tbody>\n",
       "</table>\n",
       "<p>5 rows × 32 columns</p>\n",
       "</div>"
      ],
      "text/plain": [
       "        Id  Prediction  DER_mass_MMC  DER_mass_transverse_met_lep  \\\n",
       "0   100000           0       138.470                       51.655   \n",
       "5   100005           1        89.744                       13.550   \n",
       "6   100006           0       148.754                       28.862   \n",
       "11  100011           1       114.744                       10.286   \n",
       "23  100023           0       141.481                        0.736   \n",
       "\n",
       "    DER_mass_vis  DER_pt_h  DER_deltaeta_jet_jet  DER_mass_jet_jet  \\\n",
       "0         97.827    27.980                 0.910           124.711   \n",
       "5         59.149   116.344                 2.636           284.584   \n",
       "6        107.782   106.130                 0.733           158.359   \n",
       "11        75.712    30.816                 2.563           252.599   \n",
       "23       111.581   174.075                 1.955           364.344   \n",
       "\n",
       "    DER_prodeta_jet_jet  DER_deltar_tau_lep  ...  PRI_met_phi  PRI_met_sumet  \\\n",
       "0                 2.666               3.064  ...       -0.277        258.733   \n",
       "5                -0.540               1.362  ...        2.237        282.849   \n",
       "6                 0.113               2.941  ...       -1.443        294.074   \n",
       "11               -1.401               2.888  ...        2.148        290.547   \n",
       "23               -0.923               1.335  ...       -0.973        454.785   \n",
       "\n",
       "    PRI_jet_num  PRI_jet_leading_pt  PRI_jet_leading_eta  PRI_jet_leading_phi  \\\n",
       "0             2              67.435                2.150                0.444   \n",
       "5             3              90.547               -2.412               -0.653   \n",
       "6             2             123.010                0.864                1.450   \n",
       "11            3              76.773               -0.790                0.303   \n",
       "23            2             195.533                1.156                1.416   \n",
       "\n",
       "    PRI_jet_subleading_pt  PRI_jet_subleading_eta  PRI_jet_subleading_phi  \\\n",
       "0                  46.062                   1.240                  -2.475   \n",
       "5                  56.165                   0.224                   3.106   \n",
       "6                  56.867                   0.131                  -2.767   \n",
       "11                 56.876                   1.773                  -2.079   \n",
       "23                 82.477                  -0.798                  -2.785   \n",
       "\n",
       "    PRI_jet_all_pt  \n",
       "0          113.497  \n",
       "5          193.660  \n",
       "6          179.877  \n",
       "11         165.640  \n",
       "23         278.009  \n",
       "\n",
       "[5 rows x 32 columns]"
      ]
     },
     "execution_count": 13,
     "metadata": {},
     "output_type": "execute_result"
    }
   ],
   "source": [
    "train_data['Prediction'] = train_data['Prediction'].apply(lambda x: int(x=='b'))\n",
    "train_data.head()"
   ]
  },
  {
   "cell_type": "code",
   "execution_count": 14,
   "metadata": {},
   "outputs": [
    {
     "name": "stdout",
     "output_type": "stream",
     "text": [
      "36220\n",
      "31894\n"
     ]
    }
   ],
   "source": [
    "print(train_data[train_data['Prediction']==1]['Id'].count())\n",
    "print(train_data[train_data['Prediction']==0]['Id'].count())"
   ]
  },
  {
   "cell_type": "markdown",
   "metadata": {},
   "source": [
    "# Standardizing data"
   ]
  },
  {
   "cell_type": "code",
   "execution_count": 15,
   "metadata": {},
   "outputs": [],
   "source": [
    "def standardize(df):\n",
    "    for column in df.columns:\n",
    "        if column == 'Id':\n",
    "            continue\n",
    "        df[column] = (df[column]-df[column].min())/(df[column].max()-df[column].min())\n",
    "    return df"
   ]
  },
  {
   "cell_type": "code",
   "execution_count": 16,
   "metadata": {},
   "outputs": [
    {
     "data": {
      "text/html": [
       "<div>\n",
       "<style scoped>\n",
       "    .dataframe tbody tr th:only-of-type {\n",
       "        vertical-align: middle;\n",
       "    }\n",
       "\n",
       "    .dataframe tbody tr th {\n",
       "        vertical-align: top;\n",
       "    }\n",
       "\n",
       "    .dataframe thead th {\n",
       "        text-align: right;\n",
       "    }\n",
       "</style>\n",
       "<table border=\"1\" class=\"dataframe\">\n",
       "  <thead>\n",
       "    <tr style=\"text-align: right;\">\n",
       "      <th></th>\n",
       "      <th>Id</th>\n",
       "      <th>Prediction</th>\n",
       "      <th>DER_mass_MMC</th>\n",
       "      <th>DER_mass_transverse_met_lep</th>\n",
       "      <th>DER_mass_vis</th>\n",
       "      <th>DER_pt_h</th>\n",
       "      <th>DER_deltaeta_jet_jet</th>\n",
       "      <th>DER_mass_jet_jet</th>\n",
       "      <th>DER_prodeta_jet_jet</th>\n",
       "      <th>DER_deltar_tau_lep</th>\n",
       "      <th>...</th>\n",
       "      <th>PRI_met_phi</th>\n",
       "      <th>PRI_met_sumet</th>\n",
       "      <th>PRI_jet_num</th>\n",
       "      <th>PRI_jet_leading_pt</th>\n",
       "      <th>PRI_jet_leading_eta</th>\n",
       "      <th>PRI_jet_leading_phi</th>\n",
       "      <th>PRI_jet_subleading_pt</th>\n",
       "      <th>PRI_jet_subleading_eta</th>\n",
       "      <th>PRI_jet_subleading_phi</th>\n",
       "      <th>PRI_jet_all_pt</th>\n",
       "    </tr>\n",
       "  </thead>\n",
       "  <tbody>\n",
       "    <tr>\n",
       "      <th>count</th>\n",
       "      <td>68114.000000</td>\n",
       "      <td>68114.000000</td>\n",
       "      <td>68114.000000</td>\n",
       "      <td>68114.000000</td>\n",
       "      <td>68114.000000</td>\n",
       "      <td>68114.000000</td>\n",
       "      <td>68114.000000</td>\n",
       "      <td>68114.000000</td>\n",
       "      <td>68114.000000</td>\n",
       "      <td>68114.000000</td>\n",
       "      <td>...</td>\n",
       "      <td>68114.000000</td>\n",
       "      <td>68114.000000</td>\n",
       "      <td>68114.000000</td>\n",
       "      <td>68114.000000</td>\n",
       "      <td>68114.000000</td>\n",
       "      <td>68114.000000</td>\n",
       "      <td>68114.000000</td>\n",
       "      <td>68114.000000</td>\n",
       "      <td>68114.000000</td>\n",
       "      <td>68114.000000</td>\n",
       "    </tr>\n",
       "    <tr>\n",
       "      <th>mean</th>\n",
       "      <td>225035.224154</td>\n",
       "      <td>0.531756</td>\n",
       "      <td>0.115441</td>\n",
       "      <td>0.059349</td>\n",
       "      <td>0.090982</td>\n",
       "      <td>0.105639</td>\n",
       "      <td>0.286279</td>\n",
       "      <td>0.073483</td>\n",
       "      <td>0.495045</td>\n",
       "      <td>0.330504</td>\n",
       "      <td>...</td>\n",
       "      <td>0.501112</td>\n",
       "      <td>0.152491</td>\n",
       "      <td>0.303711</td>\n",
       "      <td>0.070328</td>\n",
       "      <td>0.499245</td>\n",
       "      <td>0.498239</td>\n",
       "      <td>0.040372</td>\n",
       "      <td>0.498563</td>\n",
       "      <td>0.499239</td>\n",
       "      <td>0.078280</td>\n",
       "    </tr>\n",
       "    <tr>\n",
       "      <th>std</th>\n",
       "      <td>72243.940540</td>\n",
       "      <td>0.498994</td>\n",
       "      <td>0.062098</td>\n",
       "      <td>0.051743</td>\n",
       "      <td>0.052069</td>\n",
       "      <td>0.072430</td>\n",
       "      <td>0.205892</td>\n",
       "      <td>0.080781</td>\n",
       "      <td>0.103492</td>\n",
       "      <td>0.144765</td>\n",
       "      <td>...</td>\n",
       "      <td>0.288653</td>\n",
       "      <td>0.071011</td>\n",
       "      <td>0.459863</td>\n",
       "      <td>0.062516</td>\n",
       "      <td>0.194135</td>\n",
       "      <td>0.287964</td>\n",
       "      <td>0.046604</td>\n",
       "      <td>0.227118</td>\n",
       "      <td>0.289186</td>\n",
       "      <td>0.068848</td>\n",
       "    </tr>\n",
       "    <tr>\n",
       "      <th>min</th>\n",
       "      <td>100000.000000</td>\n",
       "      <td>0.000000</td>\n",
       "      <td>0.000000</td>\n",
       "      <td>0.000000</td>\n",
       "      <td>0.000000</td>\n",
       "      <td>0.000000</td>\n",
       "      <td>0.000000</td>\n",
       "      <td>0.000000</td>\n",
       "      <td>0.000000</td>\n",
       "      <td>0.000000</td>\n",
       "      <td>...</td>\n",
       "      <td>0.000000</td>\n",
       "      <td>0.000000</td>\n",
       "      <td>0.000000</td>\n",
       "      <td>0.000000</td>\n",
       "      <td>0.000000</td>\n",
       "      <td>0.000000</td>\n",
       "      <td>0.000000</td>\n",
       "      <td>0.000000</td>\n",
       "      <td>0.000000</td>\n",
       "      <td>0.000000</td>\n",
       "    </tr>\n",
       "    <tr>\n",
       "      <th>25%</th>\n",
       "      <td>162349.750000</td>\n",
       "      <td>0.000000</td>\n",
       "      <td>0.085291</td>\n",
       "      <td>0.019048</td>\n",
       "      <td>0.063850</td>\n",
       "      <td>0.054767</td>\n",
       "      <td>0.105492</td>\n",
       "      <td>0.020128</td>\n",
       "      <td>0.441810</td>\n",
       "      <td>0.218464</td>\n",
       "      <td>...</td>\n",
       "      <td>0.253342</td>\n",
       "      <td>0.104001</td>\n",
       "      <td>0.000000</td>\n",
       "      <td>0.028108</td>\n",
       "      <td>0.351045</td>\n",
       "      <td>0.249562</td>\n",
       "      <td>0.010691</td>\n",
       "      <td>0.319028</td>\n",
       "      <td>0.248727</td>\n",
       "      <td>0.031305</td>\n",
       "    </tr>\n",
       "    <tr>\n",
       "      <th>50%</th>\n",
       "      <td>225288.000000</td>\n",
       "      <td>1.000000</td>\n",
       "      <td>0.105642</td>\n",
       "      <td>0.045372</td>\n",
       "      <td>0.081308</td>\n",
       "      <td>0.089774</td>\n",
       "      <td>0.252440</td>\n",
       "      <td>0.044094</td>\n",
       "      <td>0.512243</td>\n",
       "      <td>0.319940</td>\n",
       "      <td>...</td>\n",
       "      <td>0.500796</td>\n",
       "      <td>0.137510</td>\n",
       "      <td>0.000000</td>\n",
       "      <td>0.052434</td>\n",
       "      <td>0.499889</td>\n",
       "      <td>0.494986</td>\n",
       "      <td>0.026185</td>\n",
       "      <td>0.498444</td>\n",
       "      <td>0.498727</td>\n",
       "      <td>0.059695</td>\n",
       "    </tr>\n",
       "    <tr>\n",
       "      <th>75%</th>\n",
       "      <td>287772.750000</td>\n",
       "      <td>1.000000</td>\n",
       "      <td>0.126316</td>\n",
       "      <td>0.087841</td>\n",
       "      <td>0.103607</td>\n",
       "      <td>0.138281</td>\n",
       "      <td>0.439962</td>\n",
       "      <td>0.095910</td>\n",
       "      <td>0.546955</td>\n",
       "      <td>0.438423</td>\n",
       "      <td>...</td>\n",
       "      <td>0.750318</td>\n",
       "      <td>0.183819</td>\n",
       "      <td>1.000000</td>\n",
       "      <td>0.092512</td>\n",
       "      <td>0.647732</td>\n",
       "      <td>0.748050</td>\n",
       "      <td>0.053433</td>\n",
       "      <td>0.678222</td>\n",
       "      <td>0.750318</td>\n",
       "      <td>0.103846</td>\n",
       "    </tr>\n",
       "    <tr>\n",
       "      <th>max</th>\n",
       "      <td>349994.000000</td>\n",
       "      <td>1.000000</td>\n",
       "      <td>1.000000</td>\n",
       "      <td>1.000000</td>\n",
       "      <td>1.000000</td>\n",
       "      <td>1.000000</td>\n",
       "      <td>1.000000</td>\n",
       "      <td>1.000000</td>\n",
       "      <td>1.000000</td>\n",
       "      <td>1.000000</td>\n",
       "      <td>...</td>\n",
       "      <td>1.000000</td>\n",
       "      <td>1.000000</td>\n",
       "      <td>1.000000</td>\n",
       "      <td>1.000000</td>\n",
       "      <td>1.000000</td>\n",
       "      <td>1.000000</td>\n",
       "      <td>1.000000</td>\n",
       "      <td>1.000000</td>\n",
       "      <td>1.000000</td>\n",
       "      <td>1.000000</td>\n",
       "    </tr>\n",
       "  </tbody>\n",
       "</table>\n",
       "<p>8 rows × 32 columns</p>\n",
       "</div>"
      ],
      "text/plain": [
       "                  Id    Prediction  DER_mass_MMC  DER_mass_transverse_met_lep  \\\n",
       "count   68114.000000  68114.000000  68114.000000                 68114.000000   \n",
       "mean   225035.224154      0.531756      0.115441                     0.059349   \n",
       "std     72243.940540      0.498994      0.062098                     0.051743   \n",
       "min    100000.000000      0.000000      0.000000                     0.000000   \n",
       "25%    162349.750000      0.000000      0.085291                     0.019048   \n",
       "50%    225288.000000      1.000000      0.105642                     0.045372   \n",
       "75%    287772.750000      1.000000      0.126316                     0.087841   \n",
       "max    349994.000000      1.000000      1.000000                     1.000000   \n",
       "\n",
       "       DER_mass_vis      DER_pt_h  DER_deltaeta_jet_jet  DER_mass_jet_jet  \\\n",
       "count  68114.000000  68114.000000          68114.000000      68114.000000   \n",
       "mean       0.090982      0.105639              0.286279          0.073483   \n",
       "std        0.052069      0.072430              0.205892          0.080781   \n",
       "min        0.000000      0.000000              0.000000          0.000000   \n",
       "25%        0.063850      0.054767              0.105492          0.020128   \n",
       "50%        0.081308      0.089774              0.252440          0.044094   \n",
       "75%        0.103607      0.138281              0.439962          0.095910   \n",
       "max        1.000000      1.000000              1.000000          1.000000   \n",
       "\n",
       "       DER_prodeta_jet_jet  DER_deltar_tau_lep  ...   PRI_met_phi  \\\n",
       "count         68114.000000        68114.000000  ...  68114.000000   \n",
       "mean              0.495045            0.330504  ...      0.501112   \n",
       "std               0.103492            0.144765  ...      0.288653   \n",
       "min               0.000000            0.000000  ...      0.000000   \n",
       "25%               0.441810            0.218464  ...      0.253342   \n",
       "50%               0.512243            0.319940  ...      0.500796   \n",
       "75%               0.546955            0.438423  ...      0.750318   \n",
       "max               1.000000            1.000000  ...      1.000000   \n",
       "\n",
       "       PRI_met_sumet   PRI_jet_num  PRI_jet_leading_pt  PRI_jet_leading_eta  \\\n",
       "count   68114.000000  68114.000000        68114.000000         68114.000000   \n",
       "mean        0.152491      0.303711            0.070328             0.499245   \n",
       "std         0.071011      0.459863            0.062516             0.194135   \n",
       "min         0.000000      0.000000            0.000000             0.000000   \n",
       "25%         0.104001      0.000000            0.028108             0.351045   \n",
       "50%         0.137510      0.000000            0.052434             0.499889   \n",
       "75%         0.183819      1.000000            0.092512             0.647732   \n",
       "max         1.000000      1.000000            1.000000             1.000000   \n",
       "\n",
       "       PRI_jet_leading_phi  PRI_jet_subleading_pt  PRI_jet_subleading_eta  \\\n",
       "count         68114.000000           68114.000000            68114.000000   \n",
       "mean              0.498239               0.040372                0.498563   \n",
       "std               0.287964               0.046604                0.227118   \n",
       "min               0.000000               0.000000                0.000000   \n",
       "25%               0.249562               0.010691                0.319028   \n",
       "50%               0.494986               0.026185                0.498444   \n",
       "75%               0.748050               0.053433                0.678222   \n",
       "max               1.000000               1.000000                1.000000   \n",
       "\n",
       "       PRI_jet_subleading_phi  PRI_jet_all_pt  \n",
       "count            68114.000000    68114.000000  \n",
       "mean                 0.499239        0.078280  \n",
       "std                  0.289186        0.068848  \n",
       "min                  0.000000        0.000000  \n",
       "25%                  0.248727        0.031305  \n",
       "50%                  0.498727        0.059695  \n",
       "75%                  0.750318        0.103846  \n",
       "max                  1.000000        1.000000  \n",
       "\n",
       "[8 rows x 32 columns]"
      ]
     },
     "execution_count": 16,
     "metadata": {},
     "output_type": "execute_result"
    }
   ],
   "source": [
    "train_data = standardize(train_data)\n",
    "train_data.describe()"
   ]
  },
  {
   "cell_type": "markdown",
   "metadata": {},
   "source": [
    "# Augmentation functions"
   ]
  },
  {
   "cell_type": "code",
   "execution_count": 17,
   "metadata": {},
   "outputs": [],
   "source": [
    "def feature_polynomial_expansion(x, columns, d):\n",
    "    if d == 0:\n",
    "        new_x = x.drop(columns, axis=1)\n",
    "        return new_x\n",
    "    \n",
    "    new_x = x.copy()\n",
    "    for column in columns:\n",
    "        for i in range(2,d+1):\n",
    "            new_x[f'{column}^{i}'] = x[column] ** i\n",
    "            \n",
    "    return new_x"
   ]
  },
  {
   "cell_type": "code",
   "execution_count": 18,
   "metadata": {},
   "outputs": [],
   "source": [
    "def add_constant_attribute(x):\n",
    "    N, _ = x.shape\n",
    "    new_x = x.copy()\n",
    "    new_x['Constant'] = 1\n",
    "    return new_x"
   ]
  },
  {
   "cell_type": "markdown",
   "metadata": {},
   "source": [
    "# Splitting function"
   ]
  },
  {
   "cell_type": "code",
   "execution_count": 19,
   "metadata": {},
   "outputs": [],
   "source": [
    "def split (data, ycolumn, train_ratio=0.75, seed=42):\n",
    "    np.random.seed(seed)\n",
    "    \n",
    "    # default extreme value for train_ratio\n",
    "    if train_ratio > 0.90:\n",
    "        train_ratio = 0.90\n",
    "    train_size = round(train_ratio * len(data))\n",
    "    \n",
    "    boson = data[data[ycolumn]==1].to_numpy()\n",
    "    spiner = data[data[ycolumn]==0].to_numpy()\n",
    "    np.random.shuffle(boson)\n",
    "    np.random.shuffle(spiner)\n",
    "    train = np.concatenate((boson[:round(train_size/2)], spiner[:round(train_size/2)]))\n",
    "    test = np.concatenate((boson[round(train_size/2):], spiner[round(train_size/2):]))\n",
    "    \n",
    "    columns = data.columns\n",
    "    return pd.DataFrame(train, columns=columns), pd.DataFrame(test, columns=columns)"
   ]
  },
  {
   "cell_type": "markdown",
   "metadata": {},
   "source": [
    "# Predicting functions"
   ]
  },
  {
   "cell_type": "code",
   "execution_count": 20,
   "metadata": {},
   "outputs": [],
   "source": [
    "def predict(x, w):\n",
    "    p = sigmoid(np.dot(x,w))\n",
    "    return np.array([int(i>0.5) for i in p])\n",
    "\n",
    "def get_accuracy(y,y_predict):\n",
    "    return 1 - np.sum(abs(y-y_predict))/ len(y)     \n",
    "\n",
    "def get_recall(y,y_predict):\n",
    "    return np.count_nonzero(np.logical_and(y,y_predict)) / np.count_nonzero(y)\n",
    "\n",
    "def get_precision(y,y_predict):\n",
    "    return np.count_nonzero(np.logical_and(y,y_predict)) / np.count_nonzero(y_predict)\n",
    "\n",
    "def evaluate_on_set(w, x, y):\n",
    "    y_predict = predict(x, w)\n",
    "    accuracy = get_accuracy(y,y_predict)\n",
    "    recall = get_recall(y,y_predict)\n",
    "    precision = get_precision(y,y_predict)\n",
    "    f1_score = 2*recall*precision/(recall+precision)\n",
    "    return {'accuracy' : accuracy, 'recall': recall, 'precision':precision, 'f1_score':f1_score}\n"
   ]
  },
  {
   "cell_type": "code",
   "execution_count": 21,
   "metadata": {},
   "outputs": [
    {
     "data": {
      "text/plain": [
       "1"
      ]
     },
     "execution_count": 21,
     "metadata": {},
     "output_type": "execute_result"
    }
   ],
   "source": [
    "y = np.array([0,1,23])\n",
    "x = np.array([1,0,2])\n",
    "r = np.logical_and(x, y)\n",
    "np.count_nonzero(r)"
   ]
  },
  {
   "cell_type": "markdown",
   "metadata": {},
   "source": [
    "# Transform data"
   ]
  },
  {
   "cell_type": "code",
   "execution_count": 22,
   "metadata": {},
   "outputs": [],
   "source": [
    "def split_train_test(data):\n",
    "    train_df, test_df = split(data, 'Prediction')\n",
    "    x_train = train_df.drop(['Id', 'Prediction'], axis=1)\n",
    "    y_train = train_df['Prediction']\n",
    "    x_test = test_df.drop(['Id', 'Prediction'], axis=1)\n",
    "    y_test = test_df['Prediction']\n",
    "    return x_train.values, y_train.values, x_test.values, y_test.values"
   ]
  },
  {
   "cell_type": "markdown",
   "metadata": {},
   "source": [
    "# Experiment 1"
   ]
  },
  {
   "cell_type": "code",
   "execution_count": 23,
   "metadata": {},
   "outputs": [
    {
     "data": {
      "text/plain": [
       "\"\\ncolumns = train_data.columns[2:]\\ncurr_data = feature_polynomial_expansion(train_data, columns, 5)\\ncurr_data = add_constant_attribute(curr_data)\\n\\nx_train, y_train, x_test, y_test = split_train_test(curr_data)\\n\\nlambda_ = 0.01\\ngamma = 0.001\\nmax_iters = 100\\ninitial_w = x_train.mean(axis=0)\\n\\nw, loss, df = reg_logistic_regression(y_train, x_train, lambda_, initial_w, max_iters, gamma, frequency=max_iters/100, x_test=x_test, y_test=y_test, log=f'Test.csv')\\nplt.plot(loss)\\nplt.show()\\n    \\nprint(f'lambda = {lambda_}; gamma = {gamma}')\\nprint(f'TRAIN precision: {evaluate_on_set(w,x_train, y_train)}')\\nprint(f'TEST precision: {evaluate_on_set(w,x_test, y_test)}')\\n\\ndf.head()\\n\""
      ]
     },
     "execution_count": 23,
     "metadata": {},
     "output_type": "execute_result"
    }
   ],
   "source": [
    "'''\n",
    "columns = train_data.columns[2:]\n",
    "curr_data = feature_polynomial_expansion(train_data, columns, 5)\n",
    "curr_data = add_constant_attribute(curr_data)\n",
    "\n",
    "x_train, y_train, x_test, y_test = split_train_test(curr_data)\n",
    "\n",
    "lambda_ = 0.01\n",
    "gamma = 0.001\n",
    "max_iters = 100\n",
    "initial_w = x_train.mean(axis=0)\n",
    "\n",
    "w, loss, df = reg_logistic_regression(y_train, x_train, lambda_, initial_w, max_iters, gamma, frequency=max_iters/100, x_test=x_test, y_test=y_test, log=f'Test.csv')\n",
    "plt.plot(loss)\n",
    "plt.show()\n",
    "    \n",
    "print(f'lambda = {lambda_}; gamma = {gamma}')\n",
    "print(f'TRAIN precision: {evaluate_on_set(w,x_train, y_train)}')\n",
    "print(f'TEST precision: {evaluate_on_set(w,x_test, y_test)}')\n",
    "\n",
    "df.head()\n",
    "'''"
   ]
  },
  {
   "cell_type": "code",
   "execution_count": 30,
   "metadata": {},
   "outputs": [
    {
     "name": "stdout",
     "output_type": "stream",
     "text": [
      "iteration 0: loss: 3.2291898950274556, precision on train: {'accuracy': 0.5, 'recall': 1.0, 'precision': 0.5, 'f1_score': 0.6666666666666666}\n",
      "precision on test: {'accuracy': 0.6270260747004933, 'recall': 1.0, 'precision': 0.6270260747004933, 'f1_score': 0.7707634001082838}\n",
      "\n",
      "iteration 100000: loss: 0.5928193139753032, precision on train: {'accuracy': 0.6796186822221353, 'recall': 0.6934189406099518, 'precision': 0.6747942700396221, 'f1_score': 0.6839798420575004}\n",
      "precision on test: {'accuracy': 0.6747709654686399, 'recall': 0.6840872904373888, 'precision': 0.7713591720350618, 'f1_score': 0.7251067209371587}\n",
      "\n"
     ]
    },
    {
     "ename": "KeyboardInterrupt",
     "evalue": "",
     "output_type": "error",
     "traceback": [
      "\u001b[0;31m---------------------------------------------------------------------------\u001b[0m",
      "\u001b[0;31mKeyboardInterrupt\u001b[0m                         Traceback (most recent call last)",
      "\u001b[0;32m<ipython-input-30-f8ef1583c5bc>\u001b[0m in \u001b[0;36m<module>\u001b[0;34m\u001b[0m\n\u001b[1;32m     18\u001b[0m     w, loss, df = reg_logistic_regression(y_train, x_train, def_lambda_, initial_w, max_iters, \n\u001b[1;32m     19\u001b[0m                                             \u001b[0mdef_gamma\u001b[0m\u001b[0;34m,\u001b[0m \u001b[0mfrequency\u001b[0m\u001b[0;34m=\u001b[0m\u001b[0mmax_iters\u001b[0m\u001b[0;34m/\u001b[0m\u001b[0;36m100\u001b[0m\u001b[0;34m,\u001b[0m \u001b[0mx_test\u001b[0m\u001b[0;34m=\u001b[0m\u001b[0mx_test\u001b[0m\u001b[0;34m,\u001b[0m \u001b[0my_test\u001b[0m\u001b[0;34m=\u001b[0m\u001b[0my_test\u001b[0m\u001b[0;34m,\u001b[0m\u001b[0;34m\u001b[0m\u001b[0;34m\u001b[0m\u001b[0m\n\u001b[0;32m---> 20\u001b[0;31m                                           log=f'd={d};gamma={def_gamma};lambda={def_lambda_}.csv')\n\u001b[0m\u001b[1;32m     21\u001b[0m     \u001b[0mplt\u001b[0m\u001b[0;34m.\u001b[0m\u001b[0mplot\u001b[0m\u001b[0;34m(\u001b[0m\u001b[0mloss\u001b[0m\u001b[0;34m)\u001b[0m\u001b[0;34m\u001b[0m\u001b[0;34m\u001b[0m\u001b[0m\n\u001b[1;32m     22\u001b[0m     \u001b[0mplt\u001b[0m\u001b[0;34m.\u001b[0m\u001b[0mylim\u001b[0m\u001b[0;34m(\u001b[0m\u001b[0;36m0\u001b[0m\u001b[0;34m,\u001b[0m\u001b[0;36m1\u001b[0m\u001b[0;34m)\u001b[0m\u001b[0;34m\u001b[0m\u001b[0;34m\u001b[0m\u001b[0m\n",
      "\u001b[0;32m<ipython-input-8-08be82d95614>\u001b[0m in \u001b[0;36mreg_logistic_regression\u001b[0;34m(y, tx, lambda_, initial_w, max_iters, gamma, frequency, x_test, y_test, log)\u001b[0m\n\u001b[1;32m     19\u001b[0m         \u001b[0mk\u001b[0m \u001b[0;34m=\u001b[0m \u001b[0mrandom\u001b[0m\u001b[0;34m.\u001b[0m\u001b[0mrandint\u001b[0m\u001b[0;34m(\u001b[0m\u001b[0;36m0\u001b[0m\u001b[0;34m,\u001b[0m\u001b[0mN\u001b[0m\u001b[0;34m-\u001b[0m\u001b[0;36m1\u001b[0m\u001b[0;34m)\u001b[0m\u001b[0;34m\u001b[0m\u001b[0;34m\u001b[0m\u001b[0m\n\u001b[1;32m     20\u001b[0m         \u001b[0mtmp\u001b[0m \u001b[0;34m=\u001b[0m \u001b[0mnp\u001b[0m\u001b[0;34m.\u001b[0m\u001b[0mdot\u001b[0m\u001b[0;34m(\u001b[0m\u001b[0mtx\u001b[0m\u001b[0;34m[\u001b[0m\u001b[0mk\u001b[0m\u001b[0;34m,\u001b[0m\u001b[0;34m:\u001b[0m\u001b[0;34m]\u001b[0m\u001b[0;34m,\u001b[0m\u001b[0mw\u001b[0m\u001b[0;34m)\u001b[0m\u001b[0;34m\u001b[0m\u001b[0;34m\u001b[0m\u001b[0m\n\u001b[0;32m---> 21\u001b[0;31m         \u001b[0mgrad\u001b[0m \u001b[0;34m=\u001b[0m \u001b[0;34m-\u001b[0m\u001b[0my\u001b[0m\u001b[0;34m[\u001b[0m\u001b[0mk\u001b[0m\u001b[0;34m]\u001b[0m\u001b[0;34m*\u001b[0m\u001b[0mtx\u001b[0m\u001b[0;34m[\u001b[0m\u001b[0mk\u001b[0m\u001b[0;34m,\u001b[0m\u001b[0;34m:\u001b[0m\u001b[0;34m]\u001b[0m\u001b[0;34m+\u001b[0m\u001b[0msigmoid\u001b[0m\u001b[0;34m(\u001b[0m\u001b[0mtmp\u001b[0m\u001b[0;34m)\u001b[0m\u001b[0;34m*\u001b[0m\u001b[0mtx\u001b[0m\u001b[0;34m[\u001b[0m\u001b[0mk\u001b[0m\u001b[0;34m,\u001b[0m\u001b[0;34m:\u001b[0m\u001b[0;34m]\u001b[0m\u001b[0;34m+\u001b[0m\u001b[0mlambda_\u001b[0m\u001b[0;34m*\u001b[0m\u001b[0mw\u001b[0m\u001b[0;34m\u001b[0m\u001b[0;34m\u001b[0m\u001b[0m\n\u001b[0m\u001b[1;32m     22\u001b[0m         \u001b[0mw\u001b[0m \u001b[0;34m=\u001b[0m \u001b[0mw\u001b[0m \u001b[0;34m-\u001b[0m \u001b[0mgamma\u001b[0m\u001b[0;34m*\u001b[0m\u001b[0mgrad\u001b[0m\u001b[0;34m\u001b[0m\u001b[0;34m\u001b[0m\u001b[0m\n\u001b[1;32m     23\u001b[0m \u001b[0;34m\u001b[0m\u001b[0m\n",
      "\u001b[0;31mKeyboardInterrupt\u001b[0m: "
     ]
    }
   ],
   "source": [
    "def_lambda_ = 0.01\n",
    "def_gamma = 0.001\n",
    "def_d = 3\n",
    "max_iters = 10000000\n",
    "\n",
    "lambda_range = [0.0001, 0.0005, 0.001, 0.005, 0.01, 0.05, 0.1, 0.5, 1]\n",
    "gamma_range = [0.00001, 0.0005, 0.001, 0.005, 0.01]\n",
    "d_range = [2,3,4,5]\n",
    "\n",
    "for d in d_range:\n",
    "    columns = train_data.columns[2:]\n",
    "    curr_data = feature_polynomial_expansion(train_data, columns, d)\n",
    "    curr_data = add_constant_attribute(curr_data)\n",
    "\n",
    "    x_train, y_train, x_test, y_test = split_train_test(curr_data)\n",
    "    initial_w = x_train.mean(axis=0)\n",
    "    \n",
    "    w, loss, df = reg_logistic_regression(y_train, x_train, def_lambda_, initial_w, max_iters, \n",
    "                                            def_gamma, frequency=max_iters/100, x_test=x_test, y_test=y_test, \n",
    "                                          log=f'd={d};gamma={def_gamma};lambda={def_lambda_}.csv')\n",
    "    plt.plot(loss)\n",
    "    plt.ylim(0,1)\n",
    "    plt.title(f'd={d};gamma={def_gamma};lambda={def_lambda_}.png')\n",
    "    plt.savefig(f'd={d};gamma={def_gamma};lambda={def_lambda_}.png')\n",
    "    plt.show()\n",
    "    \n",
    "    print(f'lambda = {def_lambda_}; gamma = {def_gamma}')\n",
    "    print(f'TRAIN precision: {evaluate_on_set(w,x_train, y_train)}')\n",
    "    print(f'TEST precision: {evaluate_on_set(w,x_test, y_test)}')\n",
    "\n",
    "columns = train_data.columns[2:]\n",
    "curr_data = feature_polynomial_expansion(train_data, columns, def_d)\n",
    "curr_data = add_constant_attribute(curr_data)\n",
    "x_train, y_train, x_test, y_test = split_train_test(curr_data)\n",
    "initial_w = x_train.mean(axis=0)\n",
    "\n",
    "for lambda_ in lambda_range:\n",
    "    w, loss, df = reg_logistic_regression(y_train, x_train, lambda_, initial_w, max_iters, \n",
    "                                            def_gamma, frequency=max_iters/100, x_test=x_test, y_test=y_test, \n",
    "                                          log=f'd={def_d};gamma={def_gamma};lambda={lambda_}.csv')\n",
    "    plt.plot(loss)\n",
    "    plt.ylim(0,1)\n",
    "    plt.savefig(f'd={def_d};gamma={def_gamma};lambda={lambda_}.png')\n",
    "    plt.title(f'd={def_d};gamma={def_gamma};lambda={lambda_}.png')\n",
    "    plt.show()\n",
    "    \n",
    "    print(f'lambda = {lambda_}; gamma = {def_gamma}')\n",
    "    print(f'TRAIN precision: {evaluate_on_set(w,x_train, y_train)}')\n",
    "    print(f'TEST precision: {evaluate_on_set(w,x_test, y_test)}')\n",
    "\n",
    "    \n",
    "    \n",
    "for gamma in gamma_range:\n",
    "    w, loss, df = reg_logistic_regression(y_train, x_train, def_lambda_, initial_w, max_iters, \n",
    "                                            gamma, frequency=max_iters/100, x_test=x_test, y_test=y_test, \n",
    "                                          log=f'd={def_d};gamma={gamma};lambda={def_lambda_}.csv')\n",
    "    plt.plot(loss)\n",
    "    plt.title(f'd={def_d};gamma={gamma};lambda={def_lambda_}.png')\n",
    "    plt.savefig(f'd={def_d};gamma={gamma};lambda={def_lambda_}.png')\n",
    "    plt.ylim(0,1)\n",
    "    plt.show()\n",
    "    \n",
    "    print(f'lambda = {def_lambda_}; gamma = {gamma}')\n",
    "    print(f'TRAIN precision: {evaluate_on_set(w,x_train, y_train)}')\n",
    "    print(f'TEST precision: {evaluate_on_set(w,x_test, y_test)}')"
   ]
  },
  {
   "cell_type": "code",
   "execution_count": 126,
   "metadata": {},
   "outputs": [
    {
     "data": {
      "text/plain": [
       "array([2. , 2.5, 3. ])"
      ]
     },
     "execution_count": 126,
     "metadata": {},
     "output_type": "execute_result"
    }
   ],
   "source": []
  },
  {
   "cell_type": "code",
   "execution_count": 51,
   "metadata": {},
   "outputs": [],
   "source": [
    "from sklearn import feature_selection\n",
    "\n",
    "columns = train_data.columns[2:]\n",
    "data = feature_polynomial_expansion(train_data, columns, 10).drop(['Prediction','Id'], axis=1)\n",
    "p_val = feature_selection.f_classif(data, train_data['Prediction'])[1]\n"
   ]
  },
  {
   "cell_type": "code",
   "execution_count": 52,
   "metadata": {},
   "outputs": [],
   "source": [
    "useful_stat = pd.DataFrame(p_val, columns=['p_value'], index=data.columns).sort_values('p_value', ascending=False)"
   ]
  },
  {
   "cell_type": "code",
   "execution_count": 53,
   "metadata": {},
   "outputs": [
    {
     "data": {
      "text/html": [
       "<div>\n",
       "<style scoped>\n",
       "    .dataframe tbody tr th:only-of-type {\n",
       "        vertical-align: middle;\n",
       "    }\n",
       "\n",
       "    .dataframe tbody tr th {\n",
       "        vertical-align: top;\n",
       "    }\n",
       "\n",
       "    .dataframe thead th {\n",
       "        text-align: right;\n",
       "    }\n",
       "</style>\n",
       "<table border=\"1\" class=\"dataframe\">\n",
       "  <thead>\n",
       "    <tr style=\"text-align: right;\">\n",
       "      <th></th>\n",
       "      <th>p_value</th>\n",
       "    </tr>\n",
       "  </thead>\n",
       "  <tbody>\n",
       "    <tr>\n",
       "      <th>PRI_met_phi^9</th>\n",
       "      <td>0.944833</td>\n",
       "    </tr>\n",
       "    <tr>\n",
       "      <th>PRI_met_phi^8</th>\n",
       "      <td>0.919454</td>\n",
       "    </tr>\n",
       "    <tr>\n",
       "      <th>DER_pt_h^7</th>\n",
       "      <td>0.869661</td>\n",
       "    </tr>\n",
       "    <tr>\n",
       "      <th>PRI_met^5</th>\n",
       "      <td>0.858020</td>\n",
       "    </tr>\n",
       "    <tr>\n",
       "      <th>PRI_lep_phi^10</th>\n",
       "      <td>0.842669</td>\n",
       "    </tr>\n",
       "    <tr>\n",
       "      <th>...</th>\n",
       "      <td>...</td>\n",
       "    </tr>\n",
       "    <tr>\n",
       "      <th>PRI_jet_subleading_phi^3</th>\n",
       "      <td>0.059529</td>\n",
       "    </tr>\n",
       "    <tr>\n",
       "      <th>PRI_jet_leading_phi^3</th>\n",
       "      <td>0.058573</td>\n",
       "    </tr>\n",
       "    <tr>\n",
       "      <th>PRI_lep_pt^8</th>\n",
       "      <td>0.057125</td>\n",
       "    </tr>\n",
       "    <tr>\n",
       "      <th>PRI_jet_subleading_phi</th>\n",
       "      <td>0.056163</td>\n",
       "    </tr>\n",
       "    <tr>\n",
       "      <th>PRI_jet_subleading_phi^2</th>\n",
       "      <td>0.050760</td>\n",
       "    </tr>\n",
       "  </tbody>\n",
       "</table>\n",
       "<p>89 rows × 1 columns</p>\n",
       "</div>"
      ],
      "text/plain": [
       "                           p_value\n",
       "PRI_met_phi^9             0.944833\n",
       "PRI_met_phi^8             0.919454\n",
       "DER_pt_h^7                0.869661\n",
       "PRI_met^5                 0.858020\n",
       "PRI_lep_phi^10            0.842669\n",
       "...                            ...\n",
       "PRI_jet_subleading_phi^3  0.059529\n",
       "PRI_jet_leading_phi^3     0.058573\n",
       "PRI_lep_pt^8              0.057125\n",
       "PRI_jet_subleading_phi    0.056163\n",
       "PRI_jet_subleading_phi^2  0.050760\n",
       "\n",
       "[89 rows x 1 columns]"
      ]
     },
     "execution_count": 53,
     "metadata": {},
     "output_type": "execute_result"
    }
   ],
   "source": [
    "useful_stat[useful_stat['p_value']>0.05]"
   ]
  },
  {
   "cell_type": "code",
   "execution_count": 29,
   "metadata": {},
   "outputs": [
    {
     "data": {
      "image/png": "[encoded data removed]",
      "text/plain": [
       "<Figure size 432x288 with 1 Axes>"
      ]
     },
     "metadata": {
      "needs_background": "light"
     },
     "output_type": "display_data"
    },
    {
     "data": {
      "text/plain": [
       "<Figure size 432x288 with 0 Axes>"
      ]
     },
     "metadata": {},
     "output_type": "display_data"
    }
   ],
   "source": [
    "plt.plot([1,2,3])\n",
    "plt.show()\n",
    "plt.savefig(\"lala.png\")\n"
   ]
  },
  {
   "cell_type": "code",
   "execution_count": null,
   "metadata": {},
   "outputs": [],
   "source": []
  }
 ],
 "metadata": {
  "kernelspec": {
   "display_name": "Python 3",
   "language": "python",
   "name": "python3"
  },
  "language_info": {
   "codemirror_mode": {
    "name": "ipython",
    "version": 3
   },
   "file_extension": ".py",
   "mimetype": "text/x-python",
   "name": "python",
   "nbconvert_exporter": "python",
   "pygments_lexer": "ipython3",
   "version": "3.7.6"
  }
 },
 "nbformat": 4,
 "nbformat_minor": 4
}
