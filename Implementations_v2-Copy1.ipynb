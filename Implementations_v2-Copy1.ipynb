{
 "cells": [
  {
   "cell_type": "markdown",
   "metadata": {},
   "source": [
    "# Project 1"
   ]
  },
  {
   "cell_type": "code",
   "execution_count": 24,
   "metadata": {},
   "outputs": [],
   "source": [
    "#import section\n",
    "import numpy as np\n",
    "import pandas as pd\n",
    "import matplotlib.pyplot as plt\n",
    "import random\n",
    "import timeit"
   ]
  },
  {
   "cell_type": "code",
   "execution_count": 25,
   "metadata": {},
   "outputs": [],
   "source": [
    "# Linear regression using gradient descent\n",
    "# y:          vector of outputs (dimension N)\n",
    "# tx:         matrix of data (dimension N x D), such that tx[:, 0] = 1\n",
    "# initial_w:  vector (dimension D)\n",
    "# max_iters:  scalar\n",
    "# gamma:      scalar respresenting step size\n",
    "# return parameters w for the regression and loss\n",
    "\n",
    "def least_squares_GD(y, tx, initial_w,max_iters, gamma):\n",
    "    N, D = tx.shape\n",
    "    \n",
    "    # Iterations of gradient descent\n",
    "    w = initial_w\n",
    "    for _ in range(max_iters):\n",
    "        grad = -np.dot(tx.T, (y - np.dot(tx,w))) / N\n",
    "        w = w - gamma * grad\n",
    "        \n",
    "    # Calculating the loss\n",
    "    r = y - np.dot(tx,w)\n",
    "    loss = np.dot(r,r) / (2*N)\n",
    "    \n",
    "    return w, loss"
   ]
  },
  {
   "cell_type": "code",
   "execution_count": 26,
   "metadata": {},
   "outputs": [],
   "source": [
    "#Linear regression using stochastic gradient descent\n",
    "def least_squares_SGD(y, tx, initial_w,max_iters, gamma, frequency=0):\n",
    "    N, D = tx.shape\n",
    "    \n",
    "    # Iterations of stochastic gradient descent\n",
    "    w = initial_w\n",
    "    for i in range(max_iters):\n",
    "        k = random.randint(0,N-1)\n",
    "        grad = -(y[k]-np.dot(tx[k,:], w))*tx[k,:]\n",
    "        w = w - gamma * grad\n",
    "        # Calculating the loss\n",
    "        if frequency != 0 and i % frequency == 0:\n",
    "            r = y - np.dot(tx,w)\n",
    "            loss.append(np.dot(r,r) / (2*N))\n",
    "            \n",
    "    r = y - np.dot(tx,w)\n",
    "    loss = np.dot(r,r) / (2*N)    \n",
    "    \n",
    "    return w, loss\n"
   ]
  },
  {
   "cell_type": "code",
   "execution_count": 27,
   "metadata": {},
   "outputs": [],
   "source": [
    "#Least squares regression using normal equations\n",
    "def least_squares(y, tx):\n",
    "    N, _ = tx\n",
    "    \n",
    "    # Calculating w\n",
    "    w = (np.linalg.inv((tx.T).dot(tx)).dot(tx.T)).dot(y)\n",
    "    \n",
    "    #Calculating loss\n",
    "    r = y - tx.dot(w_opt)\n",
    "    loss = np.dot(r,r)/(2*N)\n",
    "    return w_opt, loss"
   ]
  },
  {
   "cell_type": "code",
   "execution_count": 28,
   "metadata": {},
   "outputs": [],
   "source": [
    "#Ridge regression using normal equations\n",
    "# y:          vector of outputs (dimension N)\n",
    "# tx:         matrix of data (dimension N x D)\n",
    "#lambda_:     regularization parameter\n",
    "\n",
    "def ridge_regression(y, tx, lambda_):\n",
    "    N,D = tx.shape\n",
    "    \n",
    "    A = np.dot(tx.T, tx) + lambda_ * np.ones(D)\n",
    "    B = np.linalg.inv(A)\n",
    "    w = np.dot(np.dot(B,tx.T), y)\n",
    "    \n",
    "    # Calculating loss\n",
    "    r = y - np.dot(tx,w)\n",
    "    loss = (np.dot(r,r)+ lambda_ * np.dot(w,w)) / (2*N)\n",
    "    \n",
    "    return w, loss\n",
    "    \n",
    "    "
   ]
  },
  {
   "cell_type": "code",
   "execution_count": 29,
   "metadata": {},
   "outputs": [],
   "source": [
    "# Returns 1/(1+exp(-x))\n",
    "# x is scalar or numpy array\n",
    "def sigmoid(x):\n",
    "    tmp = np.exp(-x)\n",
    "    return 1/(1+tmp)\n",
    "\n",
    "\n",
    "\n",
    "#Logistic regression using SGD\n",
    "# y:          vector of outputs (dimension N)\n",
    "# tx:         matrix of data (dimension N x D), such that tx[:, 0] = 1\n",
    "# initial_w:  vector (dimension D)\n",
    "# max_iters:  scalar\n",
    "# gamma:      scalar respresenting step size\n",
    "# return parameters w for the regression and loss\n",
    "def logistic_regression(y, tx, initial_w,max_iters, gamma):\n",
    "    N, _ = tx.shape\n",
    "    w = initial_w\n",
    "    \n",
    "    for _ in range(max_iter):\n",
    "        k = random.randint(0,N-1)\n",
    "        tmp = np.dot(tx[k,:],w)\n",
    "        grad = -y[k]*tx[k,:]+sigmoid(tmp)*tx[k,:]\n",
    "        w = w - gamma*grad\n",
    "    \n",
    "    tmp = np.dot(tx,w)\n",
    "    loss = - np.dot(y,tmp)+np.sum(np.log(1+np.exp(tmp)))\n",
    "    return (w, loss)\n",
    "\n",
    "\n",
    "def logistic_regression_GD(y, tx, initial_w,max_iters, gamma):\n",
    "    w = initial_w\n",
    "    \n",
    "    for _ in range(max_iter):\n",
    "        tmp = np.dot(tx, w)\n",
    "        grad = np.dot((sigmoid(tmp) - y), tx)\n",
    "        w = w - gamma*grad\n",
    "    \n",
    "    tmp = np.dot(tx,w)\n",
    "    loss = - np.dot(y,tmp)+np.sum(np.log(1+np.exp(tmp)))\n",
    "    return (w, loss)"
   ]
  },
  {
   "cell_type": "code",
   "execution_count": 30,
   "metadata": {},
   "outputs": [],
   "source": [
    "#Regularized logistic regression using SGD\n",
    "# y:          vector of outputs (dimension N)\n",
    "# tx:         matrix of data (dimension N x D), such that tx[:, 0] = 1\n",
    "# lambda:     scalar representing regularization parameter\n",
    "# initial_w:  vector (dimension D)\n",
    "# max_iters:  scalar\n",
    "# gamma:      scalar respresenting step size\n",
    "# return parameters w for the regression and loss\n",
    "\n",
    "def reg_logistic_regression(y, tx, lambda_ ,initial_w, max_iters, gamma, frequency=0, x_test=None, y_test=None, log=None):\n",
    "    N, _ = tx.shape\n",
    "    w = initial_w\n",
    "    \n",
    "    \n",
    "    \n",
    "    for i in range(max_iters):\n",
    "        k = random.randint(0,N-1)\n",
    "        tmp = np.sum(tx[k,:]*w)\n",
    "        grad = -y[k]*tx[k,:]+sigmoid(tmp)*tx[k,:]+lambda_*w\n",
    "        w = w - gamma*grad\n",
    "        \n",
    "        if frequency != 0 and i % frequency == 0:\n",
    "            tmp = np.dot(tx,w)\n",
    "            loss = (- np.dot(y,tmp)+np.sum(np.log(1+np.exp(tmp))))/N\n",
    "            if loss == float('inf') or loss == float('nan'):\n",
    "                print(\"Overflow\")\n",
    "                return w, losses\n",
    "            losses.append(loss)\n",
    "            train_evaluation = evaluate_on_set(w,tx,y)\n",
    "            print(f'iteration {i}: loss: {losses[-1]}, precision on train: {train_evaluation}')\n",
    "            if x_test is not None and y_test is not None:\n",
    "                test_evaluation = evaluate_on_set(w,x_test,y_test)\n",
    "                print(f'precision on test: {test_evaluation}\\n')\n",
    "            if log != None:\n",
    "                row = {'lambda':[lambda_], 'gamma': [gamma], 'iteration': [i], 'loss': [loss]}\n",
    "                row.update({'acc_train': [train_evaluation['accuracy']], 'prec_train': [train_evaluation['precision']], \n",
    "                       'recall_train': [train_evaluation['recall']], 'f1_train': [train_evaluation['f1_score']] })\n",
    "                \n",
    "                row.update({'acc_test': [test_evaluation['accuracy']], 'prec_test': [test_evaluation['precision']], \n",
    "                       'recall_test': [test_evaluation['recall']], 'f1_test': [test_evaluation['f1_score']] })\n",
    "                for j in range(len(w)):\n",
    "                    row[f'w_{j}'] = [w[j]]      \n",
    "                info = pd.concat([info, pd.DataFrame.from_dict(row)])\n",
    "                    \n",
    "    ### \n",
    "    tmp = np.dot(tx,w)\n",
    "    loss = (- np.dot(y,tmp)+np.sum(np.log(1+np.exp(tmp))))/N\n",
    "    #losses.append(loss)\n",
    "    \n",
    "    if log != None:\n",
    "        info.to_csv(log)\n",
    "    \n",
    "    return w, loss\n",
    "\n",
    "def reg_logistic_regression_GD(y, tx, lambda_ ,initial_w, max_iters, gamma):\n",
    "    w = initial_w\n",
    "    \n",
    "    for _ in range(max_iters):\n",
    "        tmp = np.dot(tx, w)\n",
    "        grad = np.dot((sigmoid(tmp) - y), tx) + lambda_*w\n",
    "        w = w - gamma*grad\n",
    "    \n",
    "    ### \n",
    "    tmp = np.dot(tx,w)\n",
    "    loss = - np.dot(y,tmp)+np.sum(np.log(1+np.exp(tmp)))\n",
    "    return w, loss"
   ]
  },
  {
   "cell_type": "markdown",
   "metadata": {},
   "source": [
    "# Loading data"
   ]
  },
  {
   "cell_type": "code",
   "execution_count": 31,
   "metadata": {},
   "outputs": [],
   "source": [
    "def load_data():\n",
    "    path_train = './data/train.csv.zip'\n",
    "    path_test = './data/test.csv.zip'\n",
    "\n",
    "    train_data = pd.read_csv(path_train, compression='zip')\n",
    "    test_data = pd.read_csv(path_test, compression='zip')\n",
    "    return train_data, test_data\n",
    "\n"
   ]
  },
  {
   "cell_type": "markdown",
   "metadata": {},
   "source": [
    "# Transform categorical data"
   ]
  },
  {
   "cell_type": "code",
   "execution_count": 32,
   "metadata": {},
   "outputs": [],
   "source": [
    "def transform_categorical_data(train_data, test_data):\n",
    "    ccolumn = 'PRI_jet_num'\n",
    "\n",
    "    for i in range(4):\n",
    "        train_data[ccolumn+str(i)] = (train_data[ccolumn] == i).apply(lambda x: int(x))\n",
    "        test_data[ccolumn+str(i)] = (test_data[ccolumn] == i).apply(lambda x: int(x))\n",
    "     \n",
    "    test_data.drop([ccolumn], axis=1, inplace=True)\n",
    "    train_data.drop([ccolumn], axis=1, inplace=True)\n",
    "    \n",
    "    return train_data, test_data"
   ]
  },
  {
   "cell_type": "markdown",
   "metadata": {},
   "source": [
    "# Cleaning data"
   ]
  },
  {
   "cell_type": "code",
   "execution_count": 33,
   "metadata": {},
   "outputs": [],
   "source": [
    "def fill_nans_with_median(train_data):\n",
    "    columns_with_nan = []\n",
    "    for column in train_data.columns:\n",
    "        if train_data[column].min() == -999:\n",
    "            columns_with_nan.append(column)\n",
    "    \n",
    "    for column in columns_with_nan:\n",
    "        tmp = train_data[train_data[column] != -999][column].describe()['50%']\n",
    "        train_data.loc[train_data[column] == -999, [column]] = tmp\n",
    "\n",
    "    return train_data\n"
   ]
  },
  {
   "cell_type": "markdown",
   "metadata": {},
   "source": [
    "## KNN for filling nan data - Johann"
   ]
  },
  {
   "cell_type": "code",
   "execution_count": 34,
   "metadata": {},
   "outputs": [
    {
     "ename": "NameError",
     "evalue": "name 'train_data1' is not defined",
     "output_type": "error",
     "traceback": [
      "\u001b[0;31m---------------------------------------------------------------------------\u001b[0m",
      "\u001b[0;31mNameError\u001b[0m                                 Traceback (most recent call last)",
      "\u001b[0;32m<ipython-input-34-c7e40d35a81c>\u001b[0m in \u001b[0;36m<module>\u001b[0;34m\u001b[0m\n\u001b[0;32m----> 1\u001b[0;31m \u001b[0mtrain_data2\u001b[0m \u001b[0;34m=\u001b[0m \u001b[0mtrain_data1\u001b[0m\u001b[0;34m.\u001b[0m\u001b[0mcopy\u001b[0m\u001b[0;34m(\u001b[0m\u001b[0;34m)\u001b[0m\u001b[0;34m\u001b[0m\u001b[0;34m\u001b[0m\u001b[0m\n\u001b[0m\u001b[1;32m      2\u001b[0m \u001b[0mcompletely_valid_data\u001b[0m \u001b[0;34m=\u001b[0m \u001b[0mtrain_data2\u001b[0m\u001b[0;34m[\u001b[0m\u001b[0;34m(\u001b[0m\u001b[0mtrain_data2\u001b[0m\u001b[0;34m.\u001b[0m\u001b[0mmin\u001b[0m\u001b[0;34m(\u001b[0m\u001b[0maxis\u001b[0m\u001b[0;34m=\u001b[0m\u001b[0;36m1\u001b[0m\u001b[0;34m)\u001b[0m \u001b[0;34m!=\u001b[0m \u001b[0;34m-\u001b[0m\u001b[0;36m999\u001b[0m\u001b[0;34m)\u001b[0m\u001b[0;34m]\u001b[0m\u001b[0;34m\u001b[0m\u001b[0;34m\u001b[0m\u001b[0m\n\u001b[1;32m      3\u001b[0m \u001b[0mcompletely_valid_data\u001b[0m\u001b[0;34m.\u001b[0m\u001b[0mshape\u001b[0m\u001b[0;34m\u001b[0m\u001b[0;34m\u001b[0m\u001b[0m\n",
      "\u001b[0;31mNameError\u001b[0m: name 'train_data1' is not defined"
     ]
    }
   ],
   "source": [
    "train_data2 = train_data1.copy()\n",
    "completely_valid_data = train_data2[(train_data2.min(axis=1) != -999)]\n",
    "completely_valid_data.shape"
   ]
  },
  {
   "cell_type": "code",
   "execution_count": 35,
   "metadata": {},
   "outputs": [
    {
     "ename": "NameError",
     "evalue": "name 'completely_valid_data' is not defined",
     "output_type": "error",
     "traceback": [
      "\u001b[0;31m---------------------------------------------------------------------------\u001b[0m",
      "\u001b[0;31mNameError\u001b[0m                                 Traceback (most recent call last)",
      "\u001b[0;32m<ipython-input-35-104d243aad8d>\u001b[0m in \u001b[0;36m<module>\u001b[0;34m\u001b[0m\n\u001b[0;32m----> 1\u001b[0;31m \u001b[0mcompletely_valid_data\u001b[0m\u001b[0;34m=\u001b[0m \u001b[0mcompletely_valid_data\u001b[0m\u001b[0;34m.\u001b[0m\u001b[0mdrop\u001b[0m\u001b[0;34m(\u001b[0m\u001b[0;34m[\u001b[0m\u001b[0;34m'Id'\u001b[0m\u001b[0;34m,\u001b[0m \u001b[0;34m'Prediction'\u001b[0m\u001b[0;34m]\u001b[0m\u001b[0;34m,\u001b[0m \u001b[0maxis\u001b[0m\u001b[0;34m=\u001b[0m\u001b[0;36m1\u001b[0m\u001b[0;34m)\u001b[0m\u001b[0;34m\u001b[0m\u001b[0;34m\u001b[0m\u001b[0m\n\u001b[0m\u001b[1;32m      2\u001b[0m \u001b[0;34m\u001b[0m\u001b[0m\n\u001b[1;32m      3\u001b[0m \u001b[0mpc\u001b[0m \u001b[0;34m=\u001b[0m \u001b[0mcompletely_valid_data\u001b[0m\u001b[0;34m.\u001b[0m\u001b[0mcorr\u001b[0m\u001b[0;34m(\u001b[0m\u001b[0mmethod\u001b[0m\u001b[0;34m=\u001b[0m\u001b[0;34m'pearson'\u001b[0m\u001b[0;34m,\u001b[0m \u001b[0mmin_periods\u001b[0m\u001b[0;34m=\u001b[0m\u001b[0;36m1\u001b[0m\u001b[0;34m)\u001b[0m\u001b[0;34m\u001b[0m\u001b[0;34m\u001b[0m\u001b[0m\n",
      "\u001b[0;31mNameError\u001b[0m: name 'completely_valid_data' is not defined"
     ]
    }
   ],
   "source": [
    "completely_valid_data= completely_valid_data.drop(['Id', 'Prediction'], axis=1)\n",
    "\n",
    "pc = completely_valid_data.corr(method='pearson', min_periods=1)"
   ]
  },
  {
   "cell_type": "code",
   "execution_count": null,
   "metadata": {},
   "outputs": [],
   "source": [
    "pc = pc[columns_with_nan]"
   ]
  },
  {
   "cell_type": "code",
   "execution_count": 36,
   "metadata": {},
   "outputs": [
    {
     "ename": "NameError",
     "evalue": "name 'columns_with_nan' is not defined",
     "output_type": "error",
     "traceback": [
      "\u001b[0;31m---------------------------------------------------------------------------\u001b[0m",
      "\u001b[0;31mNameError\u001b[0m                                 Traceback (most recent call last)",
      "\u001b[0;32m<ipython-input-36-06689136d8f1>\u001b[0m in \u001b[0;36m<module>\u001b[0;34m\u001b[0m\n\u001b[1;32m      1\u001b[0m \u001b[0mclosest_columns\u001b[0m \u001b[0;34m=\u001b[0m \u001b[0;34m{\u001b[0m\u001b[0;34m}\u001b[0m\u001b[0;34m\u001b[0m\u001b[0;34m\u001b[0m\u001b[0m\n\u001b[0;32m----> 2\u001b[0;31m \u001b[0;32mfor\u001b[0m \u001b[0mcolumn\u001b[0m \u001b[0;32min\u001b[0m \u001b[0mcolumns_with_nan\u001b[0m\u001b[0;34m:\u001b[0m\u001b[0;34m\u001b[0m\u001b[0;34m\u001b[0m\u001b[0m\n\u001b[0m\u001b[1;32m      3\u001b[0m     \u001b[0mpc\u001b[0m\u001b[0;34m[\u001b[0m\u001b[0;34mf'{column}-abs'\u001b[0m\u001b[0;34m]\u001b[0m \u001b[0;34m=\u001b[0m \u001b[0mabs\u001b[0m\u001b[0;34m(\u001b[0m\u001b[0mpc\u001b[0m\u001b[0;34m[\u001b[0m\u001b[0mcolumn\u001b[0m\u001b[0;34m]\u001b[0m\u001b[0;34m)\u001b[0m\u001b[0;34m\u001b[0m\u001b[0;34m\u001b[0m\u001b[0m\n\u001b[1;32m      4\u001b[0m     \u001b[0mtmp\u001b[0m \u001b[0;34m=\u001b[0m \u001b[0mpc\u001b[0m\u001b[0;34m.\u001b[0m\u001b[0msort_values\u001b[0m\u001b[0;34m(\u001b[0m\u001b[0;34mf'{column}-abs'\u001b[0m\u001b[0;34m,\u001b[0m \u001b[0mascending\u001b[0m\u001b[0;34m=\u001b[0m\u001b[0;32mFalse\u001b[0m\u001b[0;34m)\u001b[0m\u001b[0;34m.\u001b[0m\u001b[0mhead\u001b[0m\u001b[0;34m(\u001b[0m\u001b[0;36m2\u001b[0m\u001b[0;34m)\u001b[0m\u001b[0;34m\u001b[0m\u001b[0;34m\u001b[0m\u001b[0m\n\u001b[1;32m      5\u001b[0m     \u001b[0mprint\u001b[0m\u001b[0;34m(\u001b[0m\u001b[0mcolumn\u001b[0m\u001b[0;34m)\u001b[0m\u001b[0;34m\u001b[0m\u001b[0;34m\u001b[0m\u001b[0m\n",
      "\u001b[0;31mNameError\u001b[0m: name 'columns_with_nan' is not defined"
     ]
    }
   ],
   "source": [
    "closest_columns = {}\n",
    "for column in columns_with_nan:\n",
    "    pc[f'{column}-abs'] = abs(pc[column])\n",
    "    tmp = pc.sort_values(f'{column}-abs', ascending=False).head(2)\n",
    "    print(column)\n",
    "    print(tmp.index)\n",
    "    print(tmp[f'{column}-abs'].values)\n",
    "    closest_columns[column] = tmp.index.values\n",
    "    print(\"------------------------------------------------------\")"
   ]
  },
  {
   "cell_type": "code",
   "execution_count": null,
   "metadata": {},
   "outputs": [],
   "source": [
    "train_data2 = train_data1.copy().drop(['Prediction'], axis=1)\n",
    "\n",
    "for column in columns_with_nan:\n",
    "    train_data2.loc[train_data2[column]==-999,column] = np.nan\n",
    "    \n",
    "k = 100\n",
    "#imputer = imp.KNNImputer(n_neighbors=k)\n",
    "n1=0\n",
    "n2=0\n",
    "for column in columns_with_nan:\n",
    "    columns = closest_columns[column]\n",
    "    train_data2 = train_data2.sort_values(columns[1])\n",
    "    train_data2.reset_index(inplace=True)\n",
    "    train_data2.drop('index', axis=1, inplace=True)\n",
    "    #tmp = train_data2[columns]\n",
    "\n",
    "    for i in range(k):\n",
    "        c = int(train_data2.shape[0]/k)\n",
    "        print(i*c,(i+1)*c)\n",
    "        curr_slice = train_data2.loc[i*c:((i+1)*c-1), column]\n",
    "        print(curr_slice.shape)\n",
    "        if curr_slice.count() ==c:\n",
    "            print(\"next\")\n",
    "            continue\n",
    "        if curr_slice.count()==0:\n",
    "            print(\"PROBLEM\")            \n",
    "            curr_slice[curr_slice.isna()] = train_data2.loc[:((i+1)*c-1),column].mean()\n",
    "        else:\n",
    "            curr_slice[curr_slice.isna()] = curr_slice.mean()\n",
    "            n2 += 1\n",
    "    "
   ]
  },
  {
   "cell_type": "code",
   "execution_count": 37,
   "metadata": {},
   "outputs": [
    {
     "ename": "NameError",
     "evalue": "name 'n1' is not defined",
     "output_type": "error",
     "traceback": [
      "\u001b[0;31m---------------------------------------------------------------------------\u001b[0m",
      "\u001b[0;31mNameError\u001b[0m                                 Traceback (most recent call last)",
      "\u001b[0;32m<ipython-input-37-e01c743923a1>\u001b[0m in \u001b[0;36m<module>\u001b[0;34m\u001b[0m\n\u001b[0;32m----> 1\u001b[0;31m \u001b[0mn1\u001b[0m\u001b[0;34m,\u001b[0m \u001b[0mn2\u001b[0m\u001b[0;34m\u001b[0m\u001b[0;34m\u001b[0m\u001b[0m\n\u001b[0m",
      "\u001b[0;31mNameError\u001b[0m: name 'n1' is not defined"
     ]
    }
   ],
   "source": [
    "n1, n2"
   ]
  },
  {
   "cell_type": "code",
   "execution_count": null,
   "metadata": {},
   "outputs": [],
   "source": [
    "train_data_backup=train_data2.copy()"
   ]
  },
  {
   "cell_type": "code",
   "execution_count": 38,
   "metadata": {},
   "outputs": [
    {
     "ename": "NameError",
     "evalue": "name 'train_data_backup' is not defined",
     "output_type": "error",
     "traceback": [
      "\u001b[0;31m---------------------------------------------------------------------------\u001b[0m",
      "\u001b[0;31mNameError\u001b[0m                                 Traceback (most recent call last)",
      "\u001b[0;32m<ipython-input-38-198870802674>\u001b[0m in \u001b[0;36m<module>\u001b[0;34m\u001b[0m\n\u001b[0;32m----> 1\u001b[0;31m \u001b[0;32mfor\u001b[0m \u001b[0mcolumn\u001b[0m \u001b[0;32min\u001b[0m \u001b[0mtrain_data_backup\u001b[0m\u001b[0;34m.\u001b[0m\u001b[0mcolumns\u001b[0m\u001b[0;34m:\u001b[0m\u001b[0;34m\u001b[0m\u001b[0;34m\u001b[0m\u001b[0m\n\u001b[0m\u001b[1;32m      2\u001b[0m     \u001b[0mtrain_data_backup\u001b[0m\u001b[0;34m[\u001b[0m\u001b[0mcolumn\u001b[0m\u001b[0;34m]\u001b[0m\u001b[0;34m.\u001b[0m\u001b[0mhist\u001b[0m\u001b[0;34m(\u001b[0m\u001b[0mbins\u001b[0m\u001b[0;34m=\u001b[0m\u001b[0;36m100\u001b[0m\u001b[0;34m)\u001b[0m\u001b[0;34m\u001b[0m\u001b[0;34m\u001b[0m\u001b[0m\n\u001b[1;32m      3\u001b[0m     \u001b[0mplt\u001b[0m\u001b[0;34m.\u001b[0m\u001b[0mshow\u001b[0m\u001b[0;34m(\u001b[0m\u001b[0;34m)\u001b[0m\u001b[0;34m\u001b[0m\u001b[0;34m\u001b[0m\u001b[0m\n",
      "\u001b[0;31mNameError\u001b[0m: name 'train_data_backup' is not defined"
     ]
    }
   ],
   "source": [
    "for column in train_data_backup.columns:\n",
    "    train_data_backup[column].hist(bins=100)\n",
    "    plt.show()"
   ]
  },
  {
   "cell_type": "markdown",
   "metadata": {},
   "source": [
    "# Standardizing data"
   ]
  },
  {
   "cell_type": "code",
   "execution_count": 39,
   "metadata": {},
   "outputs": [],
   "source": [
    "def standardize(df):\n",
    "    for column in df.columns:\n",
    "        if column == 'Prediction' or column =='Id':\n",
    "            continue\n",
    "        df[column] = (df[column]-df[column].min())/(df[column].max()-df[column].min())\n",
    "    return df"
   ]
  },
  {
   "cell_type": "markdown",
   "metadata": {},
   "source": [
    "# Augmentation functions"
   ]
  },
  {
   "cell_type": "code",
   "execution_count": 40,
   "metadata": {},
   "outputs": [],
   "source": [
    "def feature_exp_expansion(train_data, columns):\n",
    "    for column in columns:\n",
    "        if column in ['PRI_jet_num0', 'PRI_jet_num1', 'PRI_jet_num2', 'PRI_jet_num3', 'Prediction']:\n",
    "            continue\n",
    "       \n",
    "        train_data[f'exp_{column}'] = np.exp(train_data[column])\n",
    "    return train_data\n",
    "            \n",
    "\n",
    "def feature_log_expansion(train_data, columns):\n",
    "    for column in columns:\n",
    "        if train_data[column].min() > 0:\n",
    "            train_data[f'log_{column}'] = np.log(train_data[column])\n",
    "    return train_data"
   ]
  },
  {
   "cell_type": "code",
   "execution_count": 41,
   "metadata": {},
   "outputs": [],
   "source": [
    "def feature_polynomial_expansion(x, columns, d):\n",
    "    if d == 1:\n",
    "        return x\n",
    "    \n",
    "    if d == 0:\n",
    "        new_x = x.drop(columns, axis=1)\n",
    "        return new_x\n",
    "    \n",
    "    new_x = x.copy()\n",
    "    for column in columns:\n",
    "        if column in ['PRI_jet_num0', 'PRI_jet_num1', 'PRI_jet_num2', 'PRI_jet_num3']:\n",
    "            continue\n",
    "        for i in range(2,d+1):\n",
    "            new_x[f'{column}^{i}'] = x[column] ** i\n",
    "            \n",
    "    return new_x"
   ]
  },
  {
   "cell_type": "code",
   "execution_count": 42,
   "metadata": {},
   "outputs": [],
   "source": [
    "def add_constant_attribute(x):\n",
    "    N, _ = x.shape\n",
    "    new_x = x.copy()\n",
    "    new_x['Constant'] = 1\n",
    "    return new_x"
   ]
  },
  {
   "cell_type": "markdown",
   "metadata": {},
   "source": [
    "# Splitting function"
   ]
  },
  {
   "cell_type": "code",
   "execution_count": 43,
   "metadata": {},
   "outputs": [],
   "source": [
    "def split (data, ycolumn, train_ratio=0.50, seed=42):\n",
    "    np.random.seed(seed)\n",
    "    \n",
    "    # default extreme value for train_ratio\n",
    "    if train_ratio > 0.90:\n",
    "        train_ratio = 0.90\n",
    "    train_size = round(train_ratio * len(data))\n",
    "    \n",
    "    boson = data[data[ycolumn]==1].to_numpy()\n",
    "    spiner = data[data[ycolumn]==0].to_numpy()\n",
    "    np.random.shuffle(boson)\n",
    "    np.random.shuffle(spiner)\n",
    "    train = np.concatenate((boson[:round(train_size/2)], spiner[:round(train_size/2)]))\n",
    "    test = np.concatenate((boson[round(train_size/2):], spiner[round(train_size/2):]))\n",
    "    \n",
    "    columns = data.columns\n",
    "    return pd.DataFrame(train, columns=columns), pd.DataFrame(test, columns=columns)"
   ]
  },
  {
   "cell_type": "markdown",
   "metadata": {},
   "source": [
    "# Predicting functions"
   ]
  },
  {
   "cell_type": "code",
   "execution_count": 44,
   "metadata": {},
   "outputs": [],
   "source": [
    "def predict(x, w):\n",
    "    p = sigmoid(np.dot(x,w))\n",
    "    return np.array([int(i>0.5) for i in p])\n",
    "\n",
    "def get_accuracy(y,y_predict):\n",
    "    return 1 - np.sum(abs(y-y_predict))/ len(y)     \n",
    "\n",
    "def get_recall(y,y_predict):\n",
    "    return np.count_nonzero(np.logical_and(y,y_predict)) / np.count_nonzero(y)\n",
    "\n",
    "def get_precision(y,y_predict):\n",
    "    if np.count_nonzero(y_predict) == 0:\n",
    "        return 0\n",
    "    return np.count_nonzero(np.logical_and(y,y_predict)) / np.count_nonzero(y_predict)\n",
    "\n",
    "def evaluate_on_set(w, x, y):\n",
    "    y_predict = predict(x, w)\n",
    "    accuracy = get_accuracy(y,y_predict)\n",
    "    recall = get_recall(y,y_predict)\n",
    "    precision = get_precision(y,y_predict)\n",
    "    if recall+precision == 0:\n",
    "        return 0\n",
    "    f1_score = 2*recall*precision/(recall+precision)\n",
    "    return {'accuracy' : accuracy, 'recall': recall, 'precision':precision, 'f1_score':f1_score}\n"
   ]
  },
  {
   "cell_type": "code",
   "execution_count": 45,
   "metadata": {},
   "outputs": [
    {
     "data": {
      "text/plain": [
       "1"
      ]
     },
     "execution_count": 45,
     "metadata": {},
     "output_type": "execute_result"
    }
   ],
   "source": [
    "y = np.array([0,1,23])\n",
    "x = np.array([1,0,2])\n",
    "r = np.logical_and(x, y)\n",
    "np.count_nonzero(r)"
   ]
  },
  {
   "cell_type": "markdown",
   "metadata": {},
   "source": [
    "# Transform data"
   ]
  },
  {
   "cell_type": "code",
   "execution_count": 46,
   "metadata": {},
   "outputs": [],
   "source": [
    "def split_train_test(data, ratio=0.5, seed=42):\n",
    "    train_df, test_df = split(data, 'Prediction', ratio, seed)\n",
    "    x_train = train_df.drop(['Prediction'], axis=1)\n",
    "    y_train = train_df['Prediction']\n",
    "    x_test = test_df.drop(['Prediction'], axis=1)\n",
    "    y_test = test_df['Prediction']\n",
    "    return x_train.values, y_train.values, x_test.values, y_test.values"
   ]
  },
  {
   "cell_type": "markdown",
   "metadata": {},
   "source": [
    "# Experiment 1"
   ]
  },
  {
   "cell_type": "code",
   "execution_count": 47,
   "metadata": {},
   "outputs": [
    {
     "ename": "NameError",
     "evalue": "name 'train_data' is not defined",
     "output_type": "error",
     "traceback": [
      "\u001b[0;31m---------------------------------------------------------------------------\u001b[0m",
      "\u001b[0;31mNameError\u001b[0m                                 Traceback (most recent call last)",
      "\u001b[0;32m<ipython-input-47-432c06a6fbcf>\u001b[0m in \u001b[0;36m<module>\u001b[0;34m\u001b[0m\n\u001b[0;32m----> 1\u001b[0;31m \u001b[0my\u001b[0m \u001b[0;34m=\u001b[0m \u001b[0mtrain_data\u001b[0m\u001b[0;34m[\u001b[0m\u001b[0;34m'Prediction'\u001b[0m\u001b[0;34m]\u001b[0m\u001b[0;34m\u001b[0m\u001b[0;34m\u001b[0m\u001b[0m\n\u001b[0m\u001b[1;32m      2\u001b[0m \u001b[0mprint\u001b[0m\u001b[0;34m(\u001b[0m\u001b[0mnp\u001b[0m\u001b[0;34m.\u001b[0m\u001b[0mcount_nonzero\u001b[0m\u001b[0;34m(\u001b[0m\u001b[0my\u001b[0m\u001b[0;34m)\u001b[0m\u001b[0;34m)\u001b[0m\u001b[0;34m\u001b[0m\u001b[0;34m\u001b[0m\u001b[0m\n\u001b[1;32m      3\u001b[0m \u001b[0mprint\u001b[0m\u001b[0;34m(\u001b[0m\u001b[0mnp\u001b[0m\u001b[0;34m.\u001b[0m\u001b[0mcount_nonzero\u001b[0m\u001b[0;34m(\u001b[0m\u001b[0my\u001b[0m\u001b[0;34m==\u001b[0m\u001b[0;36m0\u001b[0m\u001b[0;34m)\u001b[0m\u001b[0;34m)\u001b[0m\u001b[0;34m\u001b[0m\u001b[0;34m\u001b[0m\u001b[0m\n",
      "\u001b[0;31mNameError\u001b[0m: name 'train_data' is not defined"
     ]
    }
   ],
   "source": [
    "y = train_data['Prediction']\n",
    "print(np.count_nonzero(y))\n",
    "print(np.count_nonzero(y==0))"
   ]
  },
  {
   "cell_type": "code",
   "execution_count": 48,
   "metadata": {},
   "outputs": [
    {
     "ename": "NameError",
     "evalue": "name 'train_data' is not defined",
     "output_type": "error",
     "traceback": [
      "\u001b[0;31m---------------------------------------------------------------------------\u001b[0m",
      "\u001b[0;31mNameError\u001b[0m                                 Traceback (most recent call last)",
      "\u001b[0;32m<ipython-input-48-b4111acfe8a5>\u001b[0m in \u001b[0;36m<module>\u001b[0;34m\u001b[0m\n\u001b[0;32m----> 1\u001b[0;31m \u001b[0mcolumns\u001b[0m \u001b[0;34m=\u001b[0m \u001b[0mtrain_data\u001b[0m\u001b[0;34m.\u001b[0m\u001b[0mcolumns\u001b[0m\u001b[0;34m[\u001b[0m\u001b[0;36m2\u001b[0m\u001b[0;34m:\u001b[0m\u001b[0;34m]\u001b[0m\u001b[0;34m\u001b[0m\u001b[0;34m\u001b[0m\u001b[0m\n\u001b[0m\u001b[1;32m      2\u001b[0m \u001b[0mcurr_data\u001b[0m \u001b[0;34m=\u001b[0m \u001b[0mfeature_polynomial_expansion\u001b[0m\u001b[0;34m(\u001b[0m\u001b[0mtrain_data\u001b[0m\u001b[0;34m,\u001b[0m \u001b[0mcolumns\u001b[0m\u001b[0;34m,\u001b[0m \u001b[0;36m2\u001b[0m\u001b[0;34m)\u001b[0m\u001b[0;34m\u001b[0m\u001b[0;34m\u001b[0m\u001b[0m\n\u001b[1;32m      3\u001b[0m \u001b[0mcurr_data\u001b[0m \u001b[0;34m=\u001b[0m \u001b[0madd_constant_attribute\u001b[0m\u001b[0;34m(\u001b[0m\u001b[0mcurr_data\u001b[0m\u001b[0;34m)\u001b[0m\u001b[0;34m\u001b[0m\u001b[0;34m\u001b[0m\u001b[0m\n\u001b[1;32m      4\u001b[0m \u001b[0;34m\u001b[0m\u001b[0m\n\u001b[1;32m      5\u001b[0m \u001b[0mx_train\u001b[0m\u001b[0;34m,\u001b[0m \u001b[0my_train\u001b[0m\u001b[0;34m,\u001b[0m \u001b[0mx_test\u001b[0m\u001b[0;34m,\u001b[0m \u001b[0my_test\u001b[0m \u001b[0;34m=\u001b[0m \u001b[0msplit_train_test\u001b[0m\u001b[0;34m(\u001b[0m\u001b[0mcurr_data\u001b[0m\u001b[0;34m)\u001b[0m\u001b[0;34m\u001b[0m\u001b[0;34m\u001b[0m\u001b[0m\n",
      "\u001b[0;31mNameError\u001b[0m: name 'train_data' is not defined"
     ]
    }
   ],
   "source": [
    "\n",
    "columns = train_data.columns[2:]\n",
    "curr_data = feature_polynomial_expansion(train_data, columns, 2)\n",
    "curr_data = add_constant_attribute(curr_data)\n",
    "\n",
    "x_train, y_train, x_test, y_test = split_train_test(curr_data)\n",
    "\n",
    "print(np.unique(y_train))\n",
    "print(np.unique(y_test))\n",
    "\n",
    "lambda_ = 0.0001\n",
    "gamma = 0.00001\n",
    "max_iters = 10000000\n",
    "initial_w = x_train.mean(axis=0)\n",
    "\n",
    "w, loss, df = reg_logistic_regression(y_train, x_train, lambda_, initial_w, max_iters, gamma, 0, x_test=x_test, y_test=y_test, log=f'Test.csv')\n",
    "\n",
    "    \n",
    "print(f'lambda = {lambda_}; gamma = {gamma}')\n",
    "print(f'TRAIN precision: {evaluate_on_set(w,x_train, y_train)}')\n",
    "print(f'TEST precision: {evaluate_on_set(w,x_test, y_test)}')\n",
    "\n",
    "df.head()\n"
   ]
  },
  {
   "cell_type": "code",
   "execution_count": null,
   "metadata": {},
   "outputs": [],
   "source": [
    "test_data = feature_polynomial_expansion(test_data, columns, 2)\n",
    "test_data = add_constant_attribute(test_data)\n",
    "x = test_data.drop(['Id', 'Prediction'], axis=1)\n",
    "y_predict = pd.DataFrame(predict(x, w), columns=['Prediction'])\n",
    "\n",
    "submission = pd.read_csv('./data/sample-submission.csv')\n",
    "print(submission.columns)\n",
    "submission.drop(['Prediction'], axis=1, inplace=True)\n",
    "\n",
    "new = pd.merge(submission, y_predict, left_index=True, right_index=True)\n",
    "submission.to_csv(\"SubmissionTest.csv\")"
   ]
  },
  {
   "cell_type": "markdown",
   "metadata": {},
   "source": [
    "# First bigger experiment"
   ]
  },
  {
   "cell_type": "code",
   "execution_count": 49,
   "metadata": {},
   "outputs": [
    {
     "ename": "NameError",
     "evalue": "name 'df' is not defined",
     "output_type": "error",
     "traceback": [
      "\u001b[0;31m---------------------------------------------------------------------------\u001b[0m",
      "\u001b[0;31mNameError\u001b[0m                                 Traceback (most recent call last)",
      "\u001b[0;32m<ipython-input-49-ea8415b8a3ee>\u001b[0m in \u001b[0;36m<module>\u001b[0;34m\u001b[0m\n\u001b[0;32m----> 1\u001b[0;31m \u001b[0mdf\u001b[0m\u001b[0;34m.\u001b[0m\u001b[0mdescribe\u001b[0m\u001b[0;34m(\u001b[0m\u001b[0;34m)\u001b[0m\u001b[0;34m\u001b[0m\u001b[0;34m\u001b[0m\u001b[0m\n\u001b[0m",
      "\u001b[0;31mNameError\u001b[0m: name 'df' is not defined"
     ]
    }
   ],
   "source": [
    "df.describe()"
   ]
  },
  {
   "cell_type": "code",
   "execution_count": 50,
   "metadata": {},
   "outputs": [
    {
     "ename": "NameError",
     "evalue": "name 'train_data' is not defined",
     "output_type": "error",
     "traceback": [
      "\u001b[0;31m---------------------------------------------------------------------------\u001b[0m",
      "\u001b[0;31mNameError\u001b[0m                                 Traceback (most recent call last)",
      "\u001b[0;32m<ipython-input-50-4e242353465b>\u001b[0m in \u001b[0;36m<module>\u001b[0;34m\u001b[0m\n\u001b[1;32m      9\u001b[0m \u001b[0;34m\u001b[0m\u001b[0m\n\u001b[1;32m     10\u001b[0m \u001b[0;32mfor\u001b[0m \u001b[0md\u001b[0m \u001b[0;32min\u001b[0m \u001b[0md_range\u001b[0m\u001b[0;34m:\u001b[0m\u001b[0;34m\u001b[0m\u001b[0;34m\u001b[0m\u001b[0m\n\u001b[0;32m---> 11\u001b[0;31m     \u001b[0mcolumns\u001b[0m \u001b[0;34m=\u001b[0m \u001b[0mtrain_data\u001b[0m\u001b[0;34m.\u001b[0m\u001b[0mcolumns\u001b[0m\u001b[0;34m[\u001b[0m\u001b[0;36m2\u001b[0m\u001b[0;34m:\u001b[0m\u001b[0;34m-\u001b[0m\u001b[0;36m4\u001b[0m\u001b[0;34m]\u001b[0m\u001b[0;34m\u001b[0m\u001b[0;34m\u001b[0m\u001b[0m\n\u001b[0m\u001b[1;32m     12\u001b[0m     \u001b[0mcurr_data\u001b[0m \u001b[0;34m=\u001b[0m \u001b[0mfeature_polynomial_expansion\u001b[0m\u001b[0;34m(\u001b[0m\u001b[0mtrain_data\u001b[0m\u001b[0;34m,\u001b[0m \u001b[0mcolumns\u001b[0m\u001b[0;34m,\u001b[0m \u001b[0md\u001b[0m\u001b[0;34m)\u001b[0m\u001b[0;34m\u001b[0m\u001b[0;34m\u001b[0m\u001b[0m\n\u001b[1;32m     13\u001b[0m     \u001b[0mcurr_data\u001b[0m \u001b[0;34m=\u001b[0m \u001b[0madd_constant_attribute\u001b[0m\u001b[0;34m(\u001b[0m\u001b[0mcurr_data\u001b[0m\u001b[0;34m)\u001b[0m\u001b[0;34m\u001b[0m\u001b[0;34m\u001b[0m\u001b[0m\n",
      "\u001b[0;31mNameError\u001b[0m: name 'train_data' is not defined"
     ]
    }
   ],
   "source": [
    "def_lambda_ = 0.0001\n",
    "def_gamma = 0.0001\n",
    "def_d = 3\n",
    "max_iters = 100000000\n",
    "\n",
    "lambda_range = [0.0001, 0.0005, 0.001, 0.005]\n",
    "gamma_range = [0.00001, 0.0005, 0.001]\n",
    "d_range = [2,3,4,5]\n",
    "\n",
    "for d in d_range:\n",
    "    columns = train_data.columns[2:-4]\n",
    "    curr_data = feature_polynomial_expansion(train_data, columns, d)\n",
    "    curr_data = add_constant_attribute(curr_data)\n",
    "\n",
    "    x_train, y_train, x_test, y_test = split_train_test(curr_data)\n",
    "    initial_w = x_train.mean(axis=0)\n",
    "    \n",
    "    w, loss, df = reg_logistic_regression(y_train, x_train, def_lambda_, initial_w, max_iters, \n",
    "                                            def_gamma, frequency=max_iters/10, x_test=x_test, y_test=y_test, \n",
    "                                          log=f'd={d};gamma={def_gamma};lambda={def_lambda_}.csv')\n",
    "    plt.plot(loss)\n",
    "    plt.ylim(0,1)\n",
    "    plt.title(f'd={d};gamma={def_gamma};lambda={def_lambda_}.png')\n",
    "    plt.savefig(f'd={d};gamma={def_gamma};lambda={def_lambda_}.png')\n",
    "    plt.show()\n",
    "    \n",
    "    print(f'lambda = {def_lambda_}; gamma = {def_gamma}')\n",
    "    print(f'TRAIN precision: {evaluate_on_set(w,x_train, y_train)}')\n",
    "    print(f'TEST precision: {evaluate_on_set(w,x_test, y_test)}')\n",
    "\n",
    "columns = train_data.columns[2:-4]\n",
    "curr_data = feature_polynomial_expansion(train_data, columns, def_d)\n",
    "curr_data = add_constant_attribute(curr_data)\n",
    "x_train, y_train, x_test, y_test = split_train_test(curr_data)\n",
    "initial_w = x_train.mean(axis=0)\n",
    "\n",
    "for lambda_ in lambda_range:\n",
    "    w, loss, df = reg_logistic_regression(y_train, x_train, lambda_, initial_w, max_iters, \n",
    "                                            def_gamma, 0, x_test=x_test, y_test=y_test, \n",
    "                                          log=f'd={def_d};gamma={def_gamma};lambda={lambda_}.csv')\n",
    "    plt.plot(loss)\n",
    "    plt.ylim(0,1)\n",
    "    plt.savefig(f'd={def_d};gamma={def_gamma};lambda={lambda_}.png')\n",
    "    plt.title(f'd={def_d};gamma={def_gamma};lambda={lambda_}.png')\n",
    "    plt.show()\n",
    "    \n",
    "    print(f'lambda = {lambda_}; gamma = {def_gamma}')\n",
    "    print(f'TRAIN precision: {evaluate_on_set(w,x_train, y_train)}')\n",
    "    print(f'TEST precision: {evaluate_on_set(w,x_test, y_test)}')\n",
    "\n",
    "    \n",
    "    \n"
   ]
  },
  {
   "cell_type": "code",
   "execution_count": null,
   "metadata": {},
   "outputs": [],
   "source": [
    "for gamma in gamma_range:\n",
    "    w, loss, df = reg_logistic_regression(y_train, x_train, def_lambda_, initial_w, max_iters, \n",
    "                                            gamma, frequency=0, x_test=x_test, y_test=y_test, \n",
    "                                          log=f'd={def_d};gamma={gamma};lambda={def_lambda_}.csv')\n",
    "    plt.plot(loss)\n",
    "    plt.title(f'd={def_d};gamma={gamma};lambda={def_lambda_}.png')\n",
    "    plt.savefig(f'd={def_d};gamma={gamma};lambda={def_lambda_}.png')\n",
    "    plt.ylim(0,1)\n",
    "    plt.show()\n",
    "    \n",
    "    print(f'lambda = {def_lambda_}; gamma = {gamma}')\n",
    "    print(f'TRAIN precision: {evaluate_on_set(w,x_train, y_train)}')\n",
    "    print(f'TEST precision: {evaluate_on_set(w,x_test, y_test)}')"
   ]
  },
  {
   "cell_type": "markdown",
   "metadata": {},
   "source": [
    "# Reading the results"
   ]
  },
  {
   "cell_type": "code",
   "execution_count": 51,
   "metadata": {},
   "outputs": [],
   "source": [
    "from os import walk\n"
   ]
  },
  {
   "cell_type": "code",
   "execution_count": 52,
   "metadata": {},
   "outputs": [],
   "source": [
    "mypath = './output/'\n",
    "filenames = next(walk(mypath), (None, None, []))[2]\n",
    "\n",
    "i = 0\n",
    "frames = {}\n",
    "d = {}\n",
    "for file in filenames:\n",
    "    if '.csv' in file:\n",
    "        d[i] = int(file[2])\n",
    "        frames[i] = pd.read_csv(mypath+file)\n",
    "        frames[i]['d'] = d[i]\n",
    "        frames[i]['Id'] = i\n",
    "        i += 1\n",
    "        \n",
    "n = len(frames)"
   ]
  },
  {
   "cell_type": "code",
   "execution_count": 53,
   "metadata": {},
   "outputs": [
    {
     "data": {
      "text/html": [
       "<div>\n",
       "<style scoped>\n",
       "    .dataframe tbody tr th:only-of-type {\n",
       "        vertical-align: middle;\n",
       "    }\n",
       "\n",
       "    .dataframe tbody tr th {\n",
       "        vertical-align: top;\n",
       "    }\n",
       "\n",
       "    .dataframe thead th {\n",
       "        text-align: right;\n",
       "    }\n",
       "</style>\n",
       "<table border=\"1\" class=\"dataframe\">\n",
       "  <thead>\n",
       "    <tr style=\"text-align: right;\">\n",
       "      <th></th>\n",
       "      <th>Id</th>\n",
       "      <th>loss</th>\n",
       "      <th>gamma</th>\n",
       "      <th>lambda</th>\n",
       "      <th>acc_train</th>\n",
       "      <th>acc_test</th>\n",
       "      <th>iteration</th>\n",
       "      <th>d</th>\n",
       "    </tr>\n",
       "  </thead>\n",
       "  <tbody>\n",
       "    <tr>\n",
       "      <th>5</th>\n",
       "      <td>0</td>\n",
       "      <td>0.618316</td>\n",
       "      <td>0.00100</td>\n",
       "      <td>0.1000</td>\n",
       "      <td>0.674471</td>\n",
       "      <td>0.668781</td>\n",
       "      <td>500000</td>\n",
       "      <td>3</td>\n",
       "    </tr>\n",
       "    <tr>\n",
       "      <th>99</th>\n",
       "      <td>1</td>\n",
       "      <td>0.589074</td>\n",
       "      <td>0.00001</td>\n",
       "      <td>0.0100</td>\n",
       "      <td>0.682986</td>\n",
       "      <td>0.675358</td>\n",
       "      <td>9900000</td>\n",
       "      <td>3</td>\n",
       "    </tr>\n",
       "    <tr>\n",
       "      <th>49</th>\n",
       "      <td>2</td>\n",
       "      <td>0.585554</td>\n",
       "      <td>0.01000</td>\n",
       "      <td>0.0100</td>\n",
       "      <td>0.686333</td>\n",
       "      <td>0.680879</td>\n",
       "      <td>4900000</td>\n",
       "      <td>3</td>\n",
       "    </tr>\n",
       "    <tr>\n",
       "      <th>84</th>\n",
       "      <td>3</td>\n",
       "      <td>0.538104</td>\n",
       "      <td>0.00100</td>\n",
       "      <td>0.0005</td>\n",
       "      <td>0.724054</td>\n",
       "      <td>0.720930</td>\n",
       "      <td>8400000</td>\n",
       "      <td>3</td>\n",
       "    </tr>\n",
       "    <tr>\n",
       "      <th>15</th>\n",
       "      <td>4</td>\n",
       "      <td>0.604871</td>\n",
       "      <td>0.00100</td>\n",
       "      <td>0.0500</td>\n",
       "      <td>0.675743</td>\n",
       "      <td>0.667136</td>\n",
       "      <td>1500000</td>\n",
       "      <td>3</td>\n",
       "    </tr>\n",
       "    <tr>\n",
       "      <th>40</th>\n",
       "      <td>5</td>\n",
       "      <td>0.585332</td>\n",
       "      <td>0.00500</td>\n",
       "      <td>0.0100</td>\n",
       "      <td>0.682300</td>\n",
       "      <td>0.676885</td>\n",
       "      <td>4000000</td>\n",
       "      <td>3</td>\n",
       "    </tr>\n",
       "    <tr>\n",
       "      <th>30</th>\n",
       "      <td>6</td>\n",
       "      <td>0.585780</td>\n",
       "      <td>0.00050</td>\n",
       "      <td>0.0100</td>\n",
       "      <td>0.684943</td>\n",
       "      <td>0.673538</td>\n",
       "      <td>3000000</td>\n",
       "      <td>3</td>\n",
       "    </tr>\n",
       "    <tr>\n",
       "      <th>30</th>\n",
       "      <td>7</td>\n",
       "      <td>0.582588</td>\n",
       "      <td>0.00100</td>\n",
       "      <td>0.0100</td>\n",
       "      <td>0.687409</td>\n",
       "      <td>0.675887</td>\n",
       "      <td>3000000</td>\n",
       "      <td>5</td>\n",
       "    </tr>\n",
       "    <tr>\n",
       "      <th>48</th>\n",
       "      <td>8</td>\n",
       "      <td>0.551948</td>\n",
       "      <td>0.00100</td>\n",
       "      <td>0.0010</td>\n",
       "      <td>0.712720</td>\n",
       "      <td>0.706307</td>\n",
       "      <td>4800000</td>\n",
       "      <td>3</td>\n",
       "    </tr>\n",
       "    <tr>\n",
       "      <th>53</th>\n",
       "      <td>9</td>\n",
       "      <td>0.577674</td>\n",
       "      <td>0.00100</td>\n",
       "      <td>0.0050</td>\n",
       "      <td>0.692029</td>\n",
       "      <td>0.683580</td>\n",
       "      <td>5300000</td>\n",
       "      <td>3</td>\n",
       "    </tr>\n",
       "    <tr>\n",
       "      <th>87</th>\n",
       "      <td>10</td>\n",
       "      <td>0.589586</td>\n",
       "      <td>0.00100</td>\n",
       "      <td>0.0100</td>\n",
       "      <td>0.683729</td>\n",
       "      <td>0.679469</td>\n",
       "      <td>8700000</td>\n",
       "      <td>2</td>\n",
       "    </tr>\n",
       "    <tr>\n",
       "      <th>54</th>\n",
       "      <td>11</td>\n",
       "      <td>0.657591</td>\n",
       "      <td>0.00100</td>\n",
       "      <td>0.5000</td>\n",
       "      <td>0.652684</td>\n",
       "      <td>0.607235</td>\n",
       "      <td>5400000</td>\n",
       "      <td>3</td>\n",
       "    </tr>\n",
       "    <tr>\n",
       "      <th>98</th>\n",
       "      <td>12</td>\n",
       "      <td>0.510683</td>\n",
       "      <td>0.00100</td>\n",
       "      <td>0.0001</td>\n",
       "      <td>0.747935</td>\n",
       "      <td>0.744186</td>\n",
       "      <td>9800000</td>\n",
       "      <td>3</td>\n",
       "    </tr>\n",
       "    <tr>\n",
       "      <th>81</th>\n",
       "      <td>13</td>\n",
       "      <td>0.585759</td>\n",
       "      <td>0.00100</td>\n",
       "      <td>0.0100</td>\n",
       "      <td>0.685530</td>\n",
       "      <td>0.679293</td>\n",
       "      <td>8100000</td>\n",
       "      <td>3</td>\n",
       "    </tr>\n",
       "    <tr>\n",
       "      <th>91</th>\n",
       "      <td>14</td>\n",
       "      <td>0.670975</td>\n",
       "      <td>0.00100</td>\n",
       "      <td>1.0000</td>\n",
       "      <td>0.629996</td>\n",
       "      <td>0.569121</td>\n",
       "      <td>9100000</td>\n",
       "      <td>3</td>\n",
       "    </tr>\n",
       "    <tr>\n",
       "      <th>86</th>\n",
       "      <td>15</td>\n",
       "      <td>0.583467</td>\n",
       "      <td>0.00100</td>\n",
       "      <td>0.0100</td>\n",
       "      <td>0.685589</td>\n",
       "      <td>0.673009</td>\n",
       "      <td>8600000</td>\n",
       "      <td>4</td>\n",
       "    </tr>\n",
       "  </tbody>\n",
       "</table>\n",
       "</div>"
      ],
      "text/plain": [
       "    Id      loss    gamma  lambda  acc_train  acc_test  iteration  d\n",
       "5    0  0.618316  0.00100  0.1000   0.674471  0.668781     500000  3\n",
       "99   1  0.589074  0.00001  0.0100   0.682986  0.675358    9900000  3\n",
       "49   2  0.585554  0.01000  0.0100   0.686333  0.680879    4900000  3\n",
       "84   3  0.538104  0.00100  0.0005   0.724054  0.720930    8400000  3\n",
       "15   4  0.604871  0.00100  0.0500   0.675743  0.667136    1500000  3\n",
       "40   5  0.585332  0.00500  0.0100   0.682300  0.676885    4000000  3\n",
       "30   6  0.585780  0.00050  0.0100   0.684943  0.673538    3000000  3\n",
       "30   7  0.582588  0.00100  0.0100   0.687409  0.675887    3000000  5\n",
       "48   8  0.551948  0.00100  0.0010   0.712720  0.706307    4800000  3\n",
       "53   9  0.577674  0.00100  0.0050   0.692029  0.683580    5300000  3\n",
       "87  10  0.589586  0.00100  0.0100   0.683729  0.679469    8700000  2\n",
       "54  11  0.657591  0.00100  0.5000   0.652684  0.607235    5400000  3\n",
       "98  12  0.510683  0.00100  0.0001   0.747935  0.744186    9800000  3\n",
       "81  13  0.585759  0.00100  0.0100   0.685530  0.679293    8100000  3\n",
       "91  14  0.670975  0.00100  1.0000   0.629996  0.569121    9100000  3\n",
       "86  15  0.583467  0.00100  0.0100   0.685589  0.673009    8600000  4"
      ]
     },
     "execution_count": 53,
     "metadata": {},
     "output_type": "execute_result"
    }
   ],
   "source": [
    "new_df = pd.DataFrame()\n",
    "for i in range(n):\n",
    "    new_df = pd.concat([new_df,frames[i]\n",
    "                        [['Id','loss', 'gamma', 'lambda', 'acc_train', 'acc_test'\n",
    "                          , 'iteration', 'd', ]].sort_values(['loss']).head(1)])\n",
    "    \n",
    "new_df"
   ]
  },
  {
   "cell_type": "code",
   "execution_count": 54,
   "metadata": {},
   "outputs": [
    {
     "data": {
      "image/png": "[encoded data removed]",
      "text/plain": [
       "<Figure size 432x288 with 1 Axes>"
      ]
     },
     "metadata": {
      "needs_background": "light"
     },
     "output_type": "display_data"
    },
    {
     "data": {
      "image/png": "[encoded data removed]",
      "text/plain": [
       "<Figure size 432x288 with 1 Axes>"
      ]
     },
     "metadata": {
      "needs_background": "light"
     },
     "output_type": "display_data"
    }
   ],
   "source": [
    "df_gamma = new_df[(new_df['lambda']==0.01) & (new_df['d']==3)].sort_values('gamma')\n",
    "plt.plot(df_gamma['gamma'], df_gamma['loss'], label='loss')\n",
    "plt.xlabel('gamma')\n",
    "plt.legend()\n",
    "plt.show()\n",
    "plt.plot(df_gamma['gamma'], df_gamma['acc_test'], label='test')\n",
    "plt.plot(df_gamma['gamma'], df_gamma['acc_train'], label='train')\n",
    "plt.xlabel('gamma')\n",
    "plt.legend()\n",
    "plt.show()"
   ]
  },
  {
   "cell_type": "code",
   "execution_count": 55,
   "metadata": {},
   "outputs": [
    {
     "data": {
      "image/png": "[encoded data removed]",
      "text/plain": [
       "<Figure size 432x288 with 1 Axes>"
      ]
     },
     "metadata": {
      "needs_background": "light"
     },
     "output_type": "display_data"
    },
    {
     "data": {
      "image/png": "[encoded data removed]",
      "text/plain": [
       "<Figure size 432x288 with 1 Axes>"
      ]
     },
     "metadata": {
      "needs_background": "light"
     },
     "output_type": "display_data"
    }
   ],
   "source": [
    "df_lambda = new_df[(new_df['gamma']==0.001) & (new_df['d']==3)].sort_values('lambda')\n",
    "plt.plot(df_lambda['lambda'], df_lambda['loss'], label='loss')\n",
    "plt.xlabel('lambda')\n",
    "plt.legend()\n",
    "plt.show()\n",
    "plt.plot(df_lambda['lambda'], df_lambda['acc_test'], label='test')\n",
    "plt.plot(df_lambda['lambda'], df_lambda['acc_train'], label='train')\n",
    "plt.xlabel('lambda')\n",
    "plt.legend()\n",
    "plt.show()"
   ]
  },
  {
   "cell_type": "code",
   "execution_count": 56,
   "metadata": {},
   "outputs": [
    {
     "data": {
      "image/png": "[encoded data removed]",
      "text/plain": [
       "<Figure size 432x288 with 1 Axes>"
      ]
     },
     "metadata": {
      "needs_background": "light"
     },
     "output_type": "display_data"
    },
    {
     "data": {
      "image/png": "[encoded data removed]",
      "text/plain": [
       "<Figure size 432x288 with 1 Axes>"
      ]
     },
     "metadata": {
      "needs_background": "light"
     },
     "output_type": "display_data"
    }
   ],
   "source": [
    "df_d = new_df[(new_df['gamma']==0.001) & (new_df['lambda']==0.01)].sort_values('d')\n",
    "plt.plot(df_d['d'], df_d['loss'], label='loss')\n",
    "plt.xlabel('d')\n",
    "plt.legend()\n",
    "plt.show()\n",
    "plt.plot(df_d['d'], df_d['acc_test'], label='test')\n",
    "plt.plot(df_d['d'], df_d['acc_train'], label='train')\n",
    "plt.xlabel('d')\n",
    "plt.legend()\n",
    "plt.show()"
   ]
  },
  {
   "cell_type": "markdown",
   "metadata": {},
   "source": [
    "Best $w$ obtained when $d = 3$, $\\lambda=0.0001$ and $\\gamma = 0.01$. We want to vary $\\gamma$. Let us read $w$ first"
   ]
  },
  {
   "cell_type": "code",
   "execution_count": 57,
   "metadata": {},
   "outputs": [],
   "source": [
    "best_id = 12 \n",
    "best_frame = frames[best_id]\n",
    "w_columns = list(filter(lambda x: 'w' in x, frames[best_id].columns)) \n",
    "best_w_df = best_frame[best_frame['iteration']==9800000][w_columns]\n",
    "best_w = best_w_df.values"
   ]
  },
  {
   "cell_type": "code",
   "execution_count": 58,
   "metadata": {},
   "outputs": [
    {
     "data": {
      "text/plain": [
       "w_7     6.850371\n",
       "w_3     5.945146\n",
       "w_1     5.637793\n",
       "w_45    5.538263\n",
       "w_13    4.488409\n",
       "w_30    4.044629\n",
       "w_10    3.760946\n",
       "w_44    3.136837\n",
       "w_38    2.658071\n",
       "w_34    2.540483\n",
       "Name: 98, dtype: float64"
      ]
     },
     "execution_count": 58,
     "metadata": {},
     "output_type": "execute_result"
    }
   ],
   "source": [
    "best_w_dft = best_w_df.transpose()\n",
    "best_w_dft.columns\n",
    "abs_best_df = abs(best_w_dft.iloc[:,0])\n",
    "abs_best_df.sort_values(ascending=False).head(10)"
   ]
  },
  {
   "cell_type": "code",
   "execution_count": 59,
   "metadata": {},
   "outputs": [],
   "source": [
    "gamma = 0.00001\n",
    "max_iter = 10000000\n",
    "lambda_range = [0.0001, 0.00005, 0.00001, 0]\n",
    "d = 3\n",
    "best_w = best_w.flatten()"
   ]
  },
  {
   "cell_type": "code",
   "execution_count": 60,
   "metadata": {},
   "outputs": [
    {
     "ename": "NameError",
     "evalue": "name 'train_data' is not defined",
     "output_type": "error",
     "traceback": [
      "\u001b[0;31m---------------------------------------------------------------------------\u001b[0m",
      "\u001b[0;31mNameError\u001b[0m                                 Traceback (most recent call last)",
      "\u001b[0;32m<ipython-input-60-6eac3f7e5253>\u001b[0m in \u001b[0;36m<module>\u001b[0;34m\u001b[0m\n\u001b[1;32m      1\u001b[0m \u001b[0;32mfor\u001b[0m \u001b[0mlambda_\u001b[0m \u001b[0;32min\u001b[0m \u001b[0mlambda_range\u001b[0m\u001b[0;34m:\u001b[0m\u001b[0;34m\u001b[0m\u001b[0;34m\u001b[0m\u001b[0m\n\u001b[0;32m----> 2\u001b[0;31m     \u001b[0mcolumns\u001b[0m \u001b[0;34m=\u001b[0m \u001b[0mtrain_data\u001b[0m\u001b[0;34m.\u001b[0m\u001b[0mcolumns\u001b[0m\u001b[0;34m[\u001b[0m\u001b[0;36m2\u001b[0m\u001b[0;34m:\u001b[0m\u001b[0;34m]\u001b[0m\u001b[0;34m\u001b[0m\u001b[0;34m\u001b[0m\u001b[0m\n\u001b[0m\u001b[1;32m      3\u001b[0m     \u001b[0mcurr_data\u001b[0m \u001b[0;34m=\u001b[0m \u001b[0mfeature_polynomial_expansion\u001b[0m\u001b[0;34m(\u001b[0m\u001b[0mtrain_data\u001b[0m\u001b[0;34m,\u001b[0m \u001b[0mcolumns\u001b[0m\u001b[0;34m,\u001b[0m \u001b[0md\u001b[0m\u001b[0;34m)\u001b[0m\u001b[0;34m\u001b[0m\u001b[0;34m\u001b[0m\u001b[0m\n\u001b[1;32m      4\u001b[0m     \u001b[0mcurr_data\u001b[0m \u001b[0;34m=\u001b[0m \u001b[0madd_constant_attribute\u001b[0m\u001b[0;34m(\u001b[0m\u001b[0mcurr_data\u001b[0m\u001b[0;34m)\u001b[0m\u001b[0;34m\u001b[0m\u001b[0;34m\u001b[0m\u001b[0m\n\u001b[1;32m      5\u001b[0m \u001b[0;34m\u001b[0m\u001b[0m\n",
      "\u001b[0;31mNameError\u001b[0m: name 'train_data' is not defined"
     ]
    }
   ],
   "source": [
    "for lambda_ in lambda_range:\n",
    "    columns = train_data.columns[2:]\n",
    "    curr_data = feature_polynomial_expansion(train_data, columns, d)\n",
    "    curr_data = add_constant_attribute(curr_data)\n",
    "\n",
    "    x_train, y_train, x_test, y_test = split_train_test(curr_data)\n",
    "    initial_w = best_w\n",
    "    \n",
    "    w, loss, df = reg_logistic_regression(y_train, x_train, lambda_, initial_w, max_iter, \n",
    "                                            gamma, frequency=max_iter/100, x_test=x_test, y_test=y_test, \n",
    "                                          log=f'd={d};gamma={gamma};lambda={lambda_}.csv')\n",
    "    plt.plot(loss)\n",
    "    plt.ylim(0,1)\n",
    "    plt.title(f'd={d};gamma={gamma};lambda={lambda_}.png')\n",
    "    plt.savefig(f'd={d};gamma={gamma};lambda={lambda_}.png')\n",
    "    plt.show()"
   ]
  },
  {
   "cell_type": "markdown",
   "metadata": {},
   "source": [
    "# Trying more complex models"
   ]
  },
  {
   "cell_type": "code",
   "execution_count": null,
   "metadata": {},
   "outputs": [],
   "source": [
    "lambda_ = 0.0001\n",
    "gamma = 0.0001\n",
    "d_range = range(3,4)\n",
    "max_iter = 10000000\n",
    "\n",
    "for d in d_range:\n",
    "    columns = train_data.columns[2:]\n",
    "    curr_data = feature_polynomial_expansion(train_data, columns, d)\n",
    "    curr_data = add_constant_attribute(curr_data)\n",
    "\n",
    "    x_train, y_train, x_test, y_test = split_train_test(curr_data)\n",
    "    initial_w = x_train.mean(axis=0)\n",
    "    \n",
    "    initial_w[:len(best_w)-1] = best_w[:-1]\n",
    "    initial_w[-1] = best_w[-1]\n",
    "    \n",
    "    w, loss, df = reg_logistic_regression(y_train, x_train, lambda_, initial_w, max_iter, \n",
    "                                            gamma, frequency=max_iter/100, x_test=x_test, y_test=y_test, \n",
    "                                          log=f'd={d};gamma={gamma};lambda={lambda_}.csv')\n",
    "    plt.plot(loss)\n",
    "    plt.ylim(0,1)\n",
    "    plt.title(f'd={d};gamma={gamma};lambda={lambda_}.png')\n",
    "    plt.savefig(f'd={d};gamma={gamma};lambda={lambda_}.png')\n",
    "    plt.show()"
   ]
  },
  {
   "cell_type": "markdown",
   "metadata": {},
   "source": [
    "# Reading previous data"
   ]
  },
  {
   "cell_type": "code",
   "execution_count": 61,
   "metadata": {},
   "outputs": [
    {
     "name": "stdout",
     "output_type": "stream",
     "text": [
      "d=4;gamma=0.0001;lambda=0.0001.csv\n",
      "16\n",
      "d=3;gamma=1e-05;lambda=0.0001.png\n",
      "17\n",
      "d=3;gamma=1e-05;lambda=0.csv\n",
      "17\n",
      "d=3;gamma=1e-05;lambda=0.0001.csv\n",
      "18\n",
      "d=7;gamma=0.0001;lambda=0.0001.csv\n",
      "19\n",
      "d=3;gamma=1e-05;lambda=5e-05.csv\n",
      "20\n",
      "d=3;gamma=1e-05;lambda=1e-05.csv\n",
      "21\n",
      "d=6;gamma=0.0001;lambda=0.0001.png\n",
      "22\n",
      "d=8;gamma=0.0001;lambda=0.0001.csv\n",
      "22\n",
      "d=3;gamma=0.0001;lambda=0.0001.csv\n",
      "23\n",
      "d=5;gamma=0.0001;lambda=0.0001.png\n",
      "24\n",
      "d=4;gamma=0.0001;lambda=0.0001.png\n",
      "24\n",
      "d=5;gamma=0.0001;lambda=0.0001.csv\n",
      "24\n",
      "d=9;gamma=0.0001;lambda=0.0001.csv\n",
      "25\n",
      "d=6;gamma=0.0001;lambda=0.0001.csv\n",
      "26\n",
      "d=3;gamma=1e-05;lambda=1e-05.png\n",
      "27\n",
      "d=3;gamma=1e-05;lambda=0.png\n",
      "27\n",
      "d=3;gamma=0.0001;lambda=0.0001.png\n",
      "27\n",
      "d=3;gamma=1e-05;lambda=5e-05.png\n",
      "27\n",
      "d=7;gamma=0.0001;lambda=0.0001.png\n",
      "27\n",
      "d=9;gamma=0.0001;lambda=0.0001.png\n",
      "27\n",
      "d=8;gamma=0.0001;lambda=0.0001.png\n",
      "27\n",
      "16 27\n"
     ]
    }
   ],
   "source": [
    "mypath = './output2/'\n",
    "filenames = next(walk(mypath), (None, None, []))[2]\n",
    "\n",
    "i = len(frames)\n",
    "frames2 = frames.copy()\n",
    "for file in filenames:\n",
    "    print(file)\n",
    "    print(i)\n",
    "    if '.csv' in file:\n",
    "        curr_d = int(file[2])\n",
    "        frames2[i] = pd.read_csv(mypath+file)\n",
    "        frames2[i]['d'] = curr_d\n",
    "        frames2[i]['Id'] = i\n",
    "        i += 1\n",
    "        \n",
    "print(len(frames), len(frames2))\n",
    "n = len(frames2)"
   ]
  },
  {
   "cell_type": "code",
   "execution_count": 62,
   "metadata": {},
   "outputs": [
    {
     "name": "stdout",
     "output_type": "stream",
     "text": [
      "27\n"
     ]
    }
   ],
   "source": [
    "print(n)"
   ]
  },
  {
   "cell_type": "code",
   "execution_count": 63,
   "metadata": {},
   "outputs": [
    {
     "name": "stdout",
     "output_type": "stream",
     "text": [
      "16\n",
      "17\n",
      "18\n",
      "19\n",
      "20\n",
      "21\n",
      "22\n",
      "23\n",
      "24\n",
      "25\n",
      "26\n"
     ]
    },
    {
     "data": {
      "text/html": [
       "<div>\n",
       "<style scoped>\n",
       "    .dataframe tbody tr th:only-of-type {\n",
       "        vertical-align: middle;\n",
       "    }\n",
       "\n",
       "    .dataframe tbody tr th {\n",
       "        vertical-align: top;\n",
       "    }\n",
       "\n",
       "    .dataframe thead th {\n",
       "        text-align: right;\n",
       "    }\n",
       "</style>\n",
       "<table border=\"1\" class=\"dataframe\">\n",
       "  <thead>\n",
       "    <tr style=\"text-align: right;\">\n",
       "      <th></th>\n",
       "      <th>Id</th>\n",
       "      <th>loss</th>\n",
       "      <th>gamma</th>\n",
       "      <th>lambda</th>\n",
       "      <th>acc_train</th>\n",
       "      <th>acc_test</th>\n",
       "      <th>iteration</th>\n",
       "      <th>d</th>\n",
       "    </tr>\n",
       "  </thead>\n",
       "  <tbody>\n",
       "    <tr>\n",
       "      <th>5</th>\n",
       "      <td>0</td>\n",
       "      <td>0.618316</td>\n",
       "      <td>0.00100</td>\n",
       "      <td>0.10000</td>\n",
       "      <td>0.674471</td>\n",
       "      <td>0.668781</td>\n",
       "      <td>500000</td>\n",
       "      <td>3</td>\n",
       "    </tr>\n",
       "    <tr>\n",
       "      <th>99</th>\n",
       "      <td>1</td>\n",
       "      <td>0.589074</td>\n",
       "      <td>0.00001</td>\n",
       "      <td>0.01000</td>\n",
       "      <td>0.682986</td>\n",
       "      <td>0.675358</td>\n",
       "      <td>9900000</td>\n",
       "      <td>3</td>\n",
       "    </tr>\n",
       "    <tr>\n",
       "      <th>49</th>\n",
       "      <td>2</td>\n",
       "      <td>0.585554</td>\n",
       "      <td>0.01000</td>\n",
       "      <td>0.01000</td>\n",
       "      <td>0.686333</td>\n",
       "      <td>0.680879</td>\n",
       "      <td>4900000</td>\n",
       "      <td>3</td>\n",
       "    </tr>\n",
       "    <tr>\n",
       "      <th>84</th>\n",
       "      <td>3</td>\n",
       "      <td>0.538104</td>\n",
       "      <td>0.00100</td>\n",
       "      <td>0.00050</td>\n",
       "      <td>0.724054</td>\n",
       "      <td>0.720930</td>\n",
       "      <td>8400000</td>\n",
       "      <td>3</td>\n",
       "    </tr>\n",
       "    <tr>\n",
       "      <th>15</th>\n",
       "      <td>4</td>\n",
       "      <td>0.604871</td>\n",
       "      <td>0.00100</td>\n",
       "      <td>0.05000</td>\n",
       "      <td>0.675743</td>\n",
       "      <td>0.667136</td>\n",
       "      <td>1500000</td>\n",
       "      <td>3</td>\n",
       "    </tr>\n",
       "    <tr>\n",
       "      <th>40</th>\n",
       "      <td>5</td>\n",
       "      <td>0.585332</td>\n",
       "      <td>0.00500</td>\n",
       "      <td>0.01000</td>\n",
       "      <td>0.682300</td>\n",
       "      <td>0.676885</td>\n",
       "      <td>4000000</td>\n",
       "      <td>3</td>\n",
       "    </tr>\n",
       "    <tr>\n",
       "      <th>30</th>\n",
       "      <td>6</td>\n",
       "      <td>0.585780</td>\n",
       "      <td>0.00050</td>\n",
       "      <td>0.01000</td>\n",
       "      <td>0.684943</td>\n",
       "      <td>0.673538</td>\n",
       "      <td>3000000</td>\n",
       "      <td>3</td>\n",
       "    </tr>\n",
       "    <tr>\n",
       "      <th>30</th>\n",
       "      <td>7</td>\n",
       "      <td>0.582588</td>\n",
       "      <td>0.00100</td>\n",
       "      <td>0.01000</td>\n",
       "      <td>0.687409</td>\n",
       "      <td>0.675887</td>\n",
       "      <td>3000000</td>\n",
       "      <td>5</td>\n",
       "    </tr>\n",
       "    <tr>\n",
       "      <th>48</th>\n",
       "      <td>8</td>\n",
       "      <td>0.551948</td>\n",
       "      <td>0.00100</td>\n",
       "      <td>0.00100</td>\n",
       "      <td>0.712720</td>\n",
       "      <td>0.706307</td>\n",
       "      <td>4800000</td>\n",
       "      <td>3</td>\n",
       "    </tr>\n",
       "    <tr>\n",
       "      <th>53</th>\n",
       "      <td>9</td>\n",
       "      <td>0.577674</td>\n",
       "      <td>0.00100</td>\n",
       "      <td>0.00500</td>\n",
       "      <td>0.692029</td>\n",
       "      <td>0.683580</td>\n",
       "      <td>5300000</td>\n",
       "      <td>3</td>\n",
       "    </tr>\n",
       "    <tr>\n",
       "      <th>87</th>\n",
       "      <td>10</td>\n",
       "      <td>0.589586</td>\n",
       "      <td>0.00100</td>\n",
       "      <td>0.01000</td>\n",
       "      <td>0.683729</td>\n",
       "      <td>0.679469</td>\n",
       "      <td>8700000</td>\n",
       "      <td>2</td>\n",
       "    </tr>\n",
       "    <tr>\n",
       "      <th>54</th>\n",
       "      <td>11</td>\n",
       "      <td>0.657591</td>\n",
       "      <td>0.00100</td>\n",
       "      <td>0.50000</td>\n",
       "      <td>0.652684</td>\n",
       "      <td>0.607235</td>\n",
       "      <td>5400000</td>\n",
       "      <td>3</td>\n",
       "    </tr>\n",
       "    <tr>\n",
       "      <th>98</th>\n",
       "      <td>12</td>\n",
       "      <td>0.510683</td>\n",
       "      <td>0.00100</td>\n",
       "      <td>0.00010</td>\n",
       "      <td>0.747935</td>\n",
       "      <td>0.744186</td>\n",
       "      <td>9800000</td>\n",
       "      <td>3</td>\n",
       "    </tr>\n",
       "    <tr>\n",
       "      <th>81</th>\n",
       "      <td>13</td>\n",
       "      <td>0.585759</td>\n",
       "      <td>0.00100</td>\n",
       "      <td>0.01000</td>\n",
       "      <td>0.685530</td>\n",
       "      <td>0.679293</td>\n",
       "      <td>8100000</td>\n",
       "      <td>3</td>\n",
       "    </tr>\n",
       "    <tr>\n",
       "      <th>91</th>\n",
       "      <td>14</td>\n",
       "      <td>0.670975</td>\n",
       "      <td>0.00100</td>\n",
       "      <td>1.00000</td>\n",
       "      <td>0.629996</td>\n",
       "      <td>0.569121</td>\n",
       "      <td>9100000</td>\n",
       "      <td>3</td>\n",
       "    </tr>\n",
       "    <tr>\n",
       "      <th>86</th>\n",
       "      <td>15</td>\n",
       "      <td>0.583467</td>\n",
       "      <td>0.00100</td>\n",
       "      <td>0.01000</td>\n",
       "      <td>0.685589</td>\n",
       "      <td>0.673009</td>\n",
       "      <td>8600000</td>\n",
       "      <td>4</td>\n",
       "    </tr>\n",
       "    <tr>\n",
       "      <th>99</th>\n",
       "      <td>16</td>\n",
       "      <td>0.518574</td>\n",
       "      <td>0.00010</td>\n",
       "      <td>0.00010</td>\n",
       "      <td>0.739870</td>\n",
       "      <td>0.736317</td>\n",
       "      <td>9900000</td>\n",
       "      <td>4</td>\n",
       "    </tr>\n",
       "    <tr>\n",
       "      <th>98</th>\n",
       "      <td>17</td>\n",
       "      <td>0.510602</td>\n",
       "      <td>0.00001</td>\n",
       "      <td>0.00000</td>\n",
       "      <td>0.747622</td>\n",
       "      <td>0.743423</td>\n",
       "      <td>980000</td>\n",
       "      <td>3</td>\n",
       "    </tr>\n",
       "    <tr>\n",
       "      <th>99</th>\n",
       "      <td>18</td>\n",
       "      <td>0.510637</td>\n",
       "      <td>0.00001</td>\n",
       "      <td>0.00010</td>\n",
       "      <td>0.747602</td>\n",
       "      <td>0.743834</td>\n",
       "      <td>990000</td>\n",
       "      <td>3</td>\n",
       "    </tr>\n",
       "    <tr>\n",
       "      <th>99</th>\n",
       "      <td>19</td>\n",
       "      <td>0.514985</td>\n",
       "      <td>0.00010</td>\n",
       "      <td>0.00010</td>\n",
       "      <td>0.742787</td>\n",
       "      <td>0.740780</td>\n",
       "      <td>9900000</td>\n",
       "      <td>7</td>\n",
       "    </tr>\n",
       "    <tr>\n",
       "      <th>99</th>\n",
       "      <td>20</td>\n",
       "      <td>0.510622</td>\n",
       "      <td>0.00001</td>\n",
       "      <td>0.00005</td>\n",
       "      <td>0.747426</td>\n",
       "      <td>0.744010</td>\n",
       "      <td>990000</td>\n",
       "      <td>3</td>\n",
       "    </tr>\n",
       "    <tr>\n",
       "      <th>97</th>\n",
       "      <td>21</td>\n",
       "      <td>0.510609</td>\n",
       "      <td>0.00001</td>\n",
       "      <td>0.00001</td>\n",
       "      <td>0.748013</td>\n",
       "      <td>0.743364</td>\n",
       "      <td>970000</td>\n",
       "      <td>3</td>\n",
       "    </tr>\n",
       "    <tr>\n",
       "      <th>99</th>\n",
       "      <td>22</td>\n",
       "      <td>0.515706</td>\n",
       "      <td>0.00010</td>\n",
       "      <td>0.00010</td>\n",
       "      <td>0.742669</td>\n",
       "      <td>0.738783</td>\n",
       "      <td>9900000</td>\n",
       "      <td>8</td>\n",
       "    </tr>\n",
       "    <tr>\n",
       "      <th>99</th>\n",
       "      <td>23</td>\n",
       "      <td>0.509809</td>\n",
       "      <td>0.00010</td>\n",
       "      <td>0.00010</td>\n",
       "      <td>0.747720</td>\n",
       "      <td>0.744480</td>\n",
       "      <td>9900000</td>\n",
       "      <td>3</td>\n",
       "    </tr>\n",
       "    <tr>\n",
       "      <th>99</th>\n",
       "      <td>24</td>\n",
       "      <td>0.516286</td>\n",
       "      <td>0.00010</td>\n",
       "      <td>0.00010</td>\n",
       "      <td>0.742004</td>\n",
       "      <td>0.738490</td>\n",
       "      <td>9900000</td>\n",
       "      <td>5</td>\n",
       "    </tr>\n",
       "    <tr>\n",
       "      <th>99</th>\n",
       "      <td>25</td>\n",
       "      <td>0.515649</td>\n",
       "      <td>0.00010</td>\n",
       "      <td>0.00010</td>\n",
       "      <td>0.742728</td>\n",
       "      <td>0.738548</td>\n",
       "      <td>9900000</td>\n",
       "      <td>9</td>\n",
       "    </tr>\n",
       "    <tr>\n",
       "      <th>98</th>\n",
       "      <td>26</td>\n",
       "      <td>0.516741</td>\n",
       "      <td>0.00010</td>\n",
       "      <td>0.00010</td>\n",
       "      <td>0.741338</td>\n",
       "      <td>0.738020</td>\n",
       "      <td>9800000</td>\n",
       "      <td>6</td>\n",
       "    </tr>\n",
       "  </tbody>\n",
       "</table>\n",
       "</div>"
      ],
      "text/plain": [
       "    Id      loss    gamma   lambda  acc_train  acc_test  iteration  d\n",
       "5    0  0.618316  0.00100  0.10000   0.674471  0.668781     500000  3\n",
       "99   1  0.589074  0.00001  0.01000   0.682986  0.675358    9900000  3\n",
       "49   2  0.585554  0.01000  0.01000   0.686333  0.680879    4900000  3\n",
       "84   3  0.538104  0.00100  0.00050   0.724054  0.720930    8400000  3\n",
       "15   4  0.604871  0.00100  0.05000   0.675743  0.667136    1500000  3\n",
       "40   5  0.585332  0.00500  0.01000   0.682300  0.676885    4000000  3\n",
       "30   6  0.585780  0.00050  0.01000   0.684943  0.673538    3000000  3\n",
       "30   7  0.582588  0.00100  0.01000   0.687409  0.675887    3000000  5\n",
       "48   8  0.551948  0.00100  0.00100   0.712720  0.706307    4800000  3\n",
       "53   9  0.577674  0.00100  0.00500   0.692029  0.683580    5300000  3\n",
       "87  10  0.589586  0.00100  0.01000   0.683729  0.679469    8700000  2\n",
       "54  11  0.657591  0.00100  0.50000   0.652684  0.607235    5400000  3\n",
       "98  12  0.510683  0.00100  0.00010   0.747935  0.744186    9800000  3\n",
       "81  13  0.585759  0.00100  0.01000   0.685530  0.679293    8100000  3\n",
       "91  14  0.670975  0.00100  1.00000   0.629996  0.569121    9100000  3\n",
       "86  15  0.583467  0.00100  0.01000   0.685589  0.673009    8600000  4\n",
       "99  16  0.518574  0.00010  0.00010   0.739870  0.736317    9900000  4\n",
       "98  17  0.510602  0.00001  0.00000   0.747622  0.743423     980000  3\n",
       "99  18  0.510637  0.00001  0.00010   0.747602  0.743834     990000  3\n",
       "99  19  0.514985  0.00010  0.00010   0.742787  0.740780    9900000  7\n",
       "99  20  0.510622  0.00001  0.00005   0.747426  0.744010     990000  3\n",
       "97  21  0.510609  0.00001  0.00001   0.748013  0.743364     970000  3\n",
       "99  22  0.515706  0.00010  0.00010   0.742669  0.738783    9900000  8\n",
       "99  23  0.509809  0.00010  0.00010   0.747720  0.744480    9900000  3\n",
       "99  24  0.516286  0.00010  0.00010   0.742004  0.738490    9900000  5\n",
       "99  25  0.515649  0.00010  0.00010   0.742728  0.738548    9900000  9\n",
       "98  26  0.516741  0.00010  0.00010   0.741338  0.738020    9800000  6"
      ]
     },
     "execution_count": 63,
     "metadata": {},
     "output_type": "execute_result"
    }
   ],
   "source": [
    "for i in range(len(frames), len(frames2)):\n",
    "    print(i)\n",
    "    new_df = pd.concat([new_df,frames2[i]\n",
    "                        [['Id','loss', 'gamma', 'lambda', 'acc_train', 'acc_test'\n",
    "                          , 'iteration', 'd', ]].sort_values(['loss']).head(1)])\n",
    "    \n",
    "new_df"
   ]
  },
  {
   "cell_type": "code",
   "execution_count": 64,
   "metadata": {},
   "outputs": [
    {
     "data": {
      "image/png": "[encoded data removed]",
      "text/plain": [
       "<Figure size 432x288 with 1 Axes>"
      ]
     },
     "metadata": {
      "needs_background": "light"
     },
     "output_type": "display_data"
    },
    {
     "data": {
      "image/png": "[encoded data removed]",
      "text/plain": [
       "<Figure size 432x288 with 1 Axes>"
      ]
     },
     "metadata": {
      "needs_background": "light"
     },
     "output_type": "display_data"
    }
   ],
   "source": [
    "d_df2 = new_df[(new_df['lambda']==0.0001) & (new_df['gamma']==0.0001)]\n",
    "d_df2 = d_df2.sort_values('d')\n",
    "plt.plot(d_df2['d'], d_df2['loss'], label='loss')\n",
    "plt.xlabel('d')\n",
    "plt.legend()\n",
    "plt.show()\n",
    "plt.plot(d_df2['d'], d_df2['acc_test'], label='test')\n",
    "plt.plot(d_df2['d'], d_df2['acc_train'], label='train')\n",
    "plt.xlabel('d')\n",
    "plt.legend()\n",
    "plt.show()"
   ]
  },
  {
   "cell_type": "markdown",
   "metadata": {},
   "source": [
    "# Comments on previous plots"
   ]
  },
  {
   "cell_type": "markdown",
   "metadata": {},
   "source": [
    "Previous plots show us that loss for $d=3$ is less than loss for $d > 3$. This means that we trained model for $d=3$ more than other ones. Thus, we will run these again, with propriate initial parameters."
   ]
  },
  {
   "cell_type": "code",
   "execution_count": 65,
   "metadata": {},
   "outputs": [
    {
     "ename": "NameError",
     "evalue": "name 'train_data' is not defined",
     "output_type": "error",
     "traceback": [
      "\u001b[0;31m---------------------------------------------------------------------------\u001b[0m",
      "\u001b[0;31mNameError\u001b[0m                                 Traceback (most recent call last)",
      "\u001b[0;32m<ipython-input-65-4ae30423c2ec>\u001b[0m in \u001b[0;36m<module>\u001b[0;34m\u001b[0m\n\u001b[1;32m      3\u001b[0m \u001b[0mgamma\u001b[0m \u001b[0;34m=\u001b[0m \u001b[0;36m0.0005\u001b[0m\u001b[0;34m\u001b[0m\u001b[0;34m\u001b[0m\u001b[0m\n\u001b[1;32m      4\u001b[0m \u001b[0;34m\u001b[0m\u001b[0m\n\u001b[0;32m----> 5\u001b[0;31m \u001b[0mcolumns\u001b[0m \u001b[0;34m=\u001b[0m \u001b[0mtrain_data\u001b[0m\u001b[0;34m.\u001b[0m\u001b[0mcolumns\u001b[0m\u001b[0;34m[\u001b[0m\u001b[0;36m2\u001b[0m\u001b[0;34m:\u001b[0m\u001b[0;34m]\u001b[0m\u001b[0;34m\u001b[0m\u001b[0;34m\u001b[0m\u001b[0m\n\u001b[0m\u001b[1;32m      6\u001b[0m \u001b[0mcurr_data\u001b[0m \u001b[0;34m=\u001b[0m \u001b[0mfeature_polynomial_expansion\u001b[0m\u001b[0;34m(\u001b[0m\u001b[0mtrain_data\u001b[0m\u001b[0;34m,\u001b[0m \u001b[0mcolumns\u001b[0m\u001b[0;34m,\u001b[0m \u001b[0md\u001b[0m\u001b[0;34m)\u001b[0m\u001b[0;34m\u001b[0m\u001b[0;34m\u001b[0m\u001b[0m\n\u001b[1;32m      7\u001b[0m \u001b[0mcurr_data\u001b[0m \u001b[0;34m=\u001b[0m \u001b[0madd_constant_attribute\u001b[0m\u001b[0;34m(\u001b[0m\u001b[0mcurr_data\u001b[0m\u001b[0;34m)\u001b[0m\u001b[0;34m\u001b[0m\u001b[0;34m\u001b[0m\u001b[0m\n",
      "\u001b[0;31mNameError\u001b[0m: name 'train_data' is not defined"
     ]
    }
   ],
   "source": [
    "d = 15\n",
    "max_iter = 10000000\n",
    "gamma = 0.0005\n",
    "\n",
    "columns = train_data.columns[2:]\n",
    "curr_data = feature_polynomial_expansion(train_data, columns, d)\n",
    "curr_data = add_constant_attribute(curr_data)\n",
    "\n",
    "x_train, y_train, x_test, y_test = split_train_test(curr_data)\n",
    "initial_w = x_train.mean(axis=0)\n",
    "    \n",
    "initial_w[:len(best_w)-1] = best_w[:-1]\n",
    "initial_w[-1] = best_w[-1]\n",
    "\n",
    "    \n",
    "w, loss, df = reg_logistic_regression(y_train, x_train, lambda_, w, max_iter, \n",
    "                                            gamma, frequency=max_iter/100, x_test=x_test, y_test=y_test, \n",
    "                                          log=f'd={d};gamma={gamma};lambda={lambda_}.csv')\n",
    "plt.plot(loss)\n",
    "plt.title(f'd={d};gamma={gamma};lambda={lambda_}.png')\n",
    "plt.savefig(f'd={d};gamma={gamma};lambda={lambda_}.png')\n",
    "plt.show()"
   ]
  },
  {
   "cell_type": "code",
   "execution_count": null,
   "metadata": {},
   "outputs": [],
   "source": [
    "print(gamma)"
   ]
  },
  {
   "cell_type": "markdown",
   "metadata": {},
   "source": [
    "# Statistiacal tests"
   ]
  },
  {
   "cell_type": "markdown",
   "metadata": {},
   "source": [
    "## Mutual information"
   ]
  },
  {
   "cell_type": "code",
   "execution_count": 66,
   "metadata": {},
   "outputs": [
    {
     "ename": "NameError",
     "evalue": "name 'train_data' is not defined",
     "output_type": "error",
     "traceback": [
      "\u001b[0;31m---------------------------------------------------------------------------\u001b[0m",
      "\u001b[0;31mNameError\u001b[0m                                 Traceback (most recent call last)",
      "\u001b[0;32m<ipython-input-66-b7268fe5dd88>\u001b[0m in \u001b[0;36m<module>\u001b[0;34m\u001b[0m\n\u001b[1;32m      3\u001b[0m \u001b[0;34m\u001b[0m\u001b[0m\n\u001b[1;32m      4\u001b[0m \u001b[0;34m\u001b[0m\u001b[0m\n\u001b[0;32m----> 5\u001b[0;31m \u001b[0mcolumns\u001b[0m \u001b[0;34m=\u001b[0m \u001b[0mtrain_data\u001b[0m\u001b[0;34m.\u001b[0m\u001b[0mcolumns\u001b[0m\u001b[0;34m[\u001b[0m\u001b[0;36m2\u001b[0m\u001b[0;34m:\u001b[0m\u001b[0;34m]\u001b[0m\u001b[0;34m\u001b[0m\u001b[0;34m\u001b[0m\u001b[0m\n\u001b[0m\u001b[1;32m      6\u001b[0m \u001b[0mcurr_data\u001b[0m \u001b[0;34m=\u001b[0m \u001b[0mfeature_polynomial_expansion\u001b[0m\u001b[0;34m(\u001b[0m\u001b[0mtrain_data\u001b[0m\u001b[0;34m,\u001b[0m \u001b[0mcolumns\u001b[0m\u001b[0;34m,\u001b[0m \u001b[0;36m3\u001b[0m\u001b[0;34m)\u001b[0m\u001b[0;34m\u001b[0m\u001b[0;34m\u001b[0m\u001b[0m\n\u001b[1;32m      7\u001b[0m \u001b[0;34m\u001b[0m\u001b[0m\n",
      "\u001b[0;31mNameError\u001b[0m: name 'train_data' is not defined"
     ]
    }
   ],
   "source": [
    "from sklearn.feature_selection import mutual_info_classif\n",
    "\n",
    "\n",
    "\n",
    "columns = train_data.columns[2:]\n",
    "curr_data = feature_polynomial_expansion(train_data, columns, 3)\n",
    "    \n",
    "mutual_info = mutual_info_classif(curr_data.drop(['Id', 'Prediction'], axis=1), curr_data['Prediction'])    "
   ]
  },
  {
   "cell_type": "code",
   "execution_count": 67,
   "metadata": {},
   "outputs": [
    {
     "ename": "NameError",
     "evalue": "name 'mutual_info' is not defined",
     "output_type": "error",
     "traceback": [
      "\u001b[0;31m---------------------------------------------------------------------------\u001b[0m",
      "\u001b[0;31mNameError\u001b[0m                                 Traceback (most recent call last)",
      "\u001b[0;32m<ipython-input-67-45db6519d7f4>\u001b[0m in \u001b[0;36m<module>\u001b[0;34m\u001b[0m\n\u001b[0;32m----> 1\u001b[0;31m \u001b[0mmutual_info\u001b[0m\u001b[0;34m.\u001b[0m\u001b[0mshape\u001b[0m\u001b[0;34m\u001b[0m\u001b[0;34m\u001b[0m\u001b[0m\n\u001b[0m",
      "\u001b[0;31mNameError\u001b[0m: name 'mutual_info' is not defined"
     ]
    }
   ],
   "source": [
    "mutual_info.shape"
   ]
  },
  {
   "cell_type": "code",
   "execution_count": 68,
   "metadata": {},
   "outputs": [
    {
     "data": {
      "text/plain": [
       "(91,)"
      ]
     },
     "execution_count": 68,
     "metadata": {},
     "output_type": "execute_result"
    }
   ],
   "source": [
    "best_w.shape"
   ]
  },
  {
   "cell_type": "code",
   "execution_count": 69,
   "metadata": {},
   "outputs": [
    {
     "ename": "NameError",
     "evalue": "name 'mutual_info' is not defined",
     "output_type": "error",
     "traceback": [
      "\u001b[0;31m---------------------------------------------------------------------------\u001b[0m",
      "\u001b[0;31mNameError\u001b[0m                                 Traceback (most recent call last)",
      "\u001b[0;32m<ipython-input-69-7210ddbd5a9f>\u001b[0m in \u001b[0;36m<module>\u001b[0;34m\u001b[0m\n\u001b[0;32m----> 1\u001b[0;31m \u001b[0mmutual_df\u001b[0m \u001b[0;34m=\u001b[0m \u001b[0mpd\u001b[0m\u001b[0;34m.\u001b[0m\u001b[0mDataFrame\u001b[0m\u001b[0;34m(\u001b[0m\u001b[0mnp\u001b[0m\u001b[0;34m.\u001b[0m\u001b[0marray\u001b[0m\u001b[0;34m(\u001b[0m\u001b[0;34m[\u001b[0m\u001b[0mmutual_info\u001b[0m\u001b[0;34m,\u001b[0m \u001b[0mbest_w\u001b[0m\u001b[0;34m[\u001b[0m\u001b[0;34m:\u001b[0m\u001b[0;34m-\u001b[0m\u001b[0;36m1\u001b[0m\u001b[0;34m]\u001b[0m\u001b[0;34m]\u001b[0m\u001b[0;34m)\u001b[0m\u001b[0;34m.\u001b[0m\u001b[0mT\u001b[0m\u001b[0;34m,\u001b[0m \u001b[0mcolumns\u001b[0m \u001b[0;34m=\u001b[0m\u001b[0;34m[\u001b[0m\u001b[0;34m'mutual_info'\u001b[0m\u001b[0;34m,\u001b[0m \u001b[0;34m'weights'\u001b[0m\u001b[0;34m]\u001b[0m\u001b[0;34m)\u001b[0m\u001b[0;34m\u001b[0m\u001b[0;34m\u001b[0m\u001b[0m\n\u001b[0m",
      "\u001b[0;31mNameError\u001b[0m: name 'mutual_info' is not defined"
     ]
    }
   ],
   "source": [
    "mutual_df = pd.DataFrame(np.array([mutual_info, best_w[:-1]]).T, columns =['mutual_info', 'weights'])"
   ]
  },
  {
   "cell_type": "code",
   "execution_count": 70,
   "metadata": {},
   "outputs": [
    {
     "ename": "NameError",
     "evalue": "name 'train_daa' is not defined",
     "output_type": "error",
     "traceback": [
      "\u001b[0;31m---------------------------------------------------------------------------\u001b[0m",
      "\u001b[0;31mNameError\u001b[0m                                 Traceback (most recent call last)",
      "\u001b[0;32m<ipython-input-70-f7374012d764>\u001b[0m in \u001b[0;36m<module>\u001b[0;34m\u001b[0m\n\u001b[1;32m      1\u001b[0m \u001b[0;32mfrom\u001b[0m \u001b[0msklearn\u001b[0m\u001b[0;34m.\u001b[0m\u001b[0mfeature_selection\u001b[0m \u001b[0;32mimport\u001b[0m \u001b[0mf_classif\u001b[0m\u001b[0;34m\u001b[0m\u001b[0;34m\u001b[0m\u001b[0m\n\u001b[1;32m      2\u001b[0m \u001b[0;34m\u001b[0m\u001b[0m\n\u001b[0;32m----> 3\u001b[0;31m \u001b[0mcolumns\u001b[0m \u001b[0;34m=\u001b[0m \u001b[0mtrain_daa\u001b[0m\u001b[0;34m.\u001b[0m\u001b[0mcolumns\u001b[0m\u001b[0;34m[\u001b[0m\u001b[0;36m2\u001b[0m\u001b[0;34m:\u001b[0m\u001b[0;34m]\u001b[0m\u001b[0;34m\u001b[0m\u001b[0;34m\u001b[0m\u001b[0m\n\u001b[0m\u001b[1;32m      4\u001b[0m \u001b[0mcurr_data\u001b[0m \u001b[0;34m=\u001b[0m \u001b[0mfeature_polynomial_expansion\u001b[0m\u001b[0;34m(\u001b[0m\u001b[0mtrain_data\u001b[0m\u001b[0;34m,\u001b[0m \u001b[0mcolumns\u001b[0m\u001b[0;34m,\u001b[0m \u001b[0;36m3\u001b[0m\u001b[0;34m)\u001b[0m\u001b[0;34m\u001b[0m\u001b[0;34m\u001b[0m\u001b[0m\n\u001b[1;32m      5\u001b[0m \u001b[0;34m\u001b[0m\u001b[0m\n",
      "\u001b[0;31mNameError\u001b[0m: name 'train_daa' is not defined"
     ]
    }
   ],
   "source": [
    "from sklearn.feature_selection import f_classif\n",
    "\n",
    "columns = train_daa.columns[2:]\n",
    "curr_data = feature_polynomial_expansion(train_data, columns, 3)\n",
    "    \n",
    "anova_info = f_classif(curr_data.drop(['Id', 'Prediction'], axis=1), curr_data['Prediction'])    "
   ]
  },
  {
   "cell_type": "code",
   "execution_count": null,
   "metadata": {},
   "outputs": [],
   "source": [
    "mutual_df['f_stat'] = anova_info[0]\n",
    "mutual_df['p_value_ANOVA'] = anova_info[1]"
   ]
  },
  {
   "cell_type": "code",
   "execution_count": 71,
   "metadata": {},
   "outputs": [
    {
     "ename": "NameError",
     "evalue": "name 'mutual_df' is not defined",
     "output_type": "error",
     "traceback": [
      "\u001b[0;31m---------------------------------------------------------------------------\u001b[0m",
      "\u001b[0;31mNameError\u001b[0m                                 Traceback (most recent call last)",
      "\u001b[0;32m<ipython-input-71-38aa9d72f905>\u001b[0m in \u001b[0;36m<module>\u001b[0;34m\u001b[0m\n\u001b[0;32m----> 1\u001b[0;31m \u001b[0mmutual_df\u001b[0m\u001b[0;34m\u001b[0m\u001b[0;34m\u001b[0m\u001b[0m\n\u001b[0m",
      "\u001b[0;31mNameError\u001b[0m: name 'mutual_df' is not defined"
     ]
    }
   ],
   "source": [
    "mutual_df"
   ]
  },
  {
   "cell_type": "code",
   "execution_count": 72,
   "metadata": {},
   "outputs": [
    {
     "ename": "NameError",
     "evalue": "name 'anova_df' is not defined",
     "output_type": "error",
     "traceback": [
      "\u001b[0;31m---------------------------------------------------------------------------\u001b[0m",
      "\u001b[0;31mNameError\u001b[0m                                 Traceback (most recent call last)",
      "\u001b[0;32m<ipython-input-72-09550f730188>\u001b[0m in \u001b[0;36m<module>\u001b[0;34m\u001b[0m\n\u001b[0;32m----> 1\u001b[0;31m \u001b[0manova_df\u001b[0m \u001b[0;34m=\u001b[0m \u001b[0manova_df\u001b[0m\u001b[0;34m.\u001b[0m\u001b[0msort_values\u001b[0m\u001b[0;34m(\u001b[0m\u001b[0;34m'p-value'\u001b[0m\u001b[0;34m,\u001b[0m \u001b[0mascending\u001b[0m\u001b[0;34m=\u001b[0m\u001b[0;32mFalse\u001b[0m\u001b[0;34m)\u001b[0m\u001b[0;34m.\u001b[0m\u001b[0mhead\u001b[0m\u001b[0;34m(\u001b[0m\u001b[0;36m20\u001b[0m\u001b[0;34m)\u001b[0m\u001b[0;34m\u001b[0m\u001b[0;34m\u001b[0m\u001b[0m\n\u001b[0m",
      "\u001b[0;31mNameError\u001b[0m: name 'anova_df' is not defined"
     ]
    }
   ],
   "source": [
    "anova_df = anova_df.sort_values('p-value', ascending=False).head(20)"
   ]
  },
  {
   "cell_type": "code",
   "execution_count": null,
   "metadata": {},
   "outputs": [],
   "source": [
    "n = anova_df.shape[0]\n",
    "\n",
    "plt.plot(range(n), anova_df['p-value'], label='p_value')\n",
    "plt.plot(range(n), abs(anova_df['weights']), label='abs weights')\n",
    "plt.show()"
   ]
  },
  {
   "cell_type": "markdown",
   "metadata": {},
   "source": [
    "## Kendall"
   ]
  },
  {
   "cell_type": "code",
   "execution_count": 73,
   "metadata": {},
   "outputs": [
    {
     "ename": "NameError",
     "evalue": "name 'train_data' is not defined",
     "output_type": "error",
     "traceback": [
      "\u001b[0;31m---------------------------------------------------------------------------\u001b[0m",
      "\u001b[0;31mNameError\u001b[0m                                 Traceback (most recent call last)",
      "\u001b[0;32m<ipython-input-73-7d7f72654b7f>\u001b[0m in \u001b[0;36m<module>\u001b[0;34m\u001b[0m\n\u001b[1;32m      1\u001b[0m \u001b[0;32mimport\u001b[0m \u001b[0mscipy\u001b[0m\u001b[0;34m.\u001b[0m\u001b[0mstats\u001b[0m \u001b[0;32mas\u001b[0m \u001b[0mstats\u001b[0m\u001b[0;34m\u001b[0m\u001b[0;34m\u001b[0m\u001b[0m\n\u001b[1;32m      2\u001b[0m \u001b[0;34m\u001b[0m\u001b[0m\n\u001b[0;32m----> 3\u001b[0;31m \u001b[0mcolumns\u001b[0m \u001b[0;34m=\u001b[0m \u001b[0mtrain_data\u001b[0m\u001b[0;34m.\u001b[0m\u001b[0mcolumns\u001b[0m\u001b[0;34m[\u001b[0m\u001b[0;36m2\u001b[0m\u001b[0;34m:\u001b[0m\u001b[0;34m]\u001b[0m\u001b[0;34m\u001b[0m\u001b[0;34m\u001b[0m\u001b[0m\n\u001b[0m\u001b[1;32m      4\u001b[0m \u001b[0mcurr_data\u001b[0m \u001b[0;34m=\u001b[0m \u001b[0mfeature_polynomial_expansion\u001b[0m\u001b[0;34m(\u001b[0m\u001b[0mtrain_data\u001b[0m\u001b[0;34m,\u001b[0m \u001b[0mcolumns\u001b[0m\u001b[0;34m,\u001b[0m \u001b[0;36m3\u001b[0m\u001b[0;34m)\u001b[0m\u001b[0;34m\u001b[0m\u001b[0;34m\u001b[0m\u001b[0m\n\u001b[1;32m      5\u001b[0m \u001b[0my\u001b[0m \u001b[0;34m=\u001b[0m \u001b[0mcurr_data\u001b[0m\u001b[0;34m[\u001b[0m\u001b[0;34m'Prediction'\u001b[0m\u001b[0;34m]\u001b[0m\u001b[0;34m.\u001b[0m\u001b[0mvalues\u001b[0m\u001b[0;34m\u001b[0m\u001b[0;34m\u001b[0m\u001b[0m\n",
      "\u001b[0;31mNameError\u001b[0m: name 'train_data' is not defined"
     ]
    }
   ],
   "source": [
    "import scipy.stats as stats\n",
    "\n",
    "columns = train_data.columns[2:]\n",
    "curr_data = feature_polynomial_expansion(train_data, columns, 3)\n",
    "y = curr_data['Prediction'].values \n",
    "x = curr_data.drop(['Id', 'Prediction'], axis=1).values    \n",
    "_, D = x.shape\n",
    "\n",
    "i = 0\n",
    "\n",
    "kendall = np.array([stats.kendalltau(x[:,i], y) for i in range(D)])\n",
    "kendall.shape"
   ]
  },
  {
   "cell_type": "code",
   "execution_count": 74,
   "metadata": {},
   "outputs": [
    {
     "ename": "NameError",
     "evalue": "name 'kendall' is not defined",
     "output_type": "error",
     "traceback": [
      "\u001b[0;31m---------------------------------------------------------------------------\u001b[0m",
      "\u001b[0;31mNameError\u001b[0m                                 Traceback (most recent call last)",
      "\u001b[0;32m<ipython-input-74-ebd59c2bcb4f>\u001b[0m in \u001b[0;36m<module>\u001b[0;34m\u001b[0m\n\u001b[0;32m----> 1\u001b[0;31m \u001b[0mmutual_df\u001b[0m\u001b[0;34m[\u001b[0m\u001b[0;34m'kendall-correlation'\u001b[0m\u001b[0;34m]\u001b[0m \u001b[0;34m=\u001b[0m \u001b[0mkendall\u001b[0m\u001b[0;34m[\u001b[0m\u001b[0;34m:\u001b[0m\u001b[0;34m,\u001b[0m\u001b[0;36m0\u001b[0m\u001b[0;34m]\u001b[0m\u001b[0;34m\u001b[0m\u001b[0;34m\u001b[0m\u001b[0m\n\u001b[0m\u001b[1;32m      2\u001b[0m \u001b[0mmutual_df\u001b[0m\u001b[0;34m[\u001b[0m\u001b[0;34m'kendall-p_value'\u001b[0m\u001b[0;34m]\u001b[0m \u001b[0;34m=\u001b[0m \u001b[0mkendall\u001b[0m\u001b[0;34m[\u001b[0m\u001b[0;34m:\u001b[0m\u001b[0;34m,\u001b[0m\u001b[0;36m1\u001b[0m\u001b[0;34m]\u001b[0m\u001b[0;34m\u001b[0m\u001b[0;34m\u001b[0m\u001b[0m\n",
      "\u001b[0;31mNameError\u001b[0m: name 'kendall' is not defined"
     ]
    }
   ],
   "source": [
    "mutual_df['kendall-correlation'] = kendall[:,0]\n",
    "mutual_df['kendall-p_value'] = kendall[:,1]"
   ]
  },
  {
   "cell_type": "markdown",
   "metadata": {},
   "source": [
    "# New testings"
   ]
  },
  {
   "cell_type": "markdown",
   "metadata": {},
   "source": [
    "$k, \\gamma, \\lambda, d$\n",
    "GD / SGD"
   ]
  },
  {
   "cell_type": "markdown",
   "metadata": {},
   "source": [
    "# For Johann"
   ]
  },
  {
   "cell_type": "code",
   "execution_count": 75,
   "metadata": {},
   "outputs": [
    {
     "ename": "TypeError",
     "evalue": "'list' object is not callable",
     "output_type": "error",
     "traceback": [
      "\u001b[0;31m---------------------------------------------------------------------------\u001b[0m",
      "\u001b[0;31mTypeError\u001b[0m                                 Traceback (most recent call last)",
      "\u001b[0;32m<ipython-input-75-444aa88e42df>\u001b[0m in \u001b[0;36m<module>\u001b[0;34m\u001b[0m\n\u001b[1;32m      7\u001b[0m \u001b[0;34m\u001b[0m\u001b[0m\n\u001b[1;32m      8\u001b[0m \u001b[0;34m\u001b[0m\u001b[0m\n\u001b[0;32m----> 9\u001b[0;31m \u001b[0;32mfor\u001b[0m \u001b[0mk\u001b[0m \u001b[0;32min\u001b[0m \u001b[0mk_range\u001b[0m\u001b[0;34m(\u001b[0m\u001b[0;34m)\u001b[0m\u001b[0;34m:\u001b[0m\u001b[0;34m\u001b[0m\u001b[0;34m\u001b[0m\u001b[0m\n\u001b[0m\u001b[1;32m     10\u001b[0m     \u001b[0mdata\u001b[0m \u001b[0;34m=\u001b[0m \u001b[0mfill_nan\u001b[0m\u001b[0;34m(\u001b[0m\u001b[0mtrain_data\u001b[0m\u001b[0;34m,\u001b[0m \u001b[0mk\u001b[0m\u001b[0;34m,\u001b[0m \u001b[0mhow\u001b[0m\u001b[0;34m=\u001b[0m\u001b[0;34m\"mean\"\u001b[0m\u001b[0;34m)\u001b[0m\u001b[0;34m\u001b[0m\u001b[0;34m\u001b[0m\u001b[0m\n\u001b[1;32m     11\u001b[0m     \u001b[0;32mfor\u001b[0m \u001b[0md\u001b[0m \u001b[0;32min\u001b[0m \u001b[0md_range\u001b[0m\u001b[0;34m:\u001b[0m\u001b[0;34m\u001b[0m\u001b[0;34m\u001b[0m\u001b[0m\n",
      "\u001b[0;31mTypeError\u001b[0m: 'list' object is not callable"
     ]
    }
   ],
   "source": [
    "### try LR with SGD\n",
    "\n",
    "k_range = [1,10, 20, 50, 100, 500, 1000]\n",
    "lambda_range = [0,0.00001, 0.00005, 0.0001, 0.005]\n",
    "gamma_range = [0.000001, 0.000005, 0.00001, 0.00005, 0.0001, 0.0005]\n",
    "d_range = [2,3,4,5]\n",
    "\n",
    "\n",
    "for k in k_range():\n",
    "    data = fill_nan(train_data, k, how=\"mean\")\n",
    "    for d in d_range:\n",
    "        for lambda_ in lambda_range:\n",
    "            for gamma in gamma_range:\n",
    "                columns = data.columns[2:]\n",
    "                curr_data = feature_polynomial_expansion(data, columns, d)\n",
    "                curr_data = add_constant_attribute(curr_data)\n",
    "\n",
    "                x_train, y_train, x_test, y_test = split_train_test(curr_data)\n",
    "                initial_w = x_train.mean(axis=0)\n",
    "    \n",
    "                w, loss, df = reg_logistic_regression(y_train, x_train, def_lambda_, initial_w, max_iters, \n",
    "                                            def_gamma, 0, x_test=x_test, y_test=y_test, \n",
    "                                          log=f'd={d};gamma={def_gamma};lambda={def_lambda_}.csv')\n",
    "       \n",
    "    \n",
    "        \n",
    "    \n"
   ]
  },
  {
   "cell_type": "code",
   "execution_count": null,
   "metadata": {},
   "outputs": [],
   "source": []
  },
  {
   "cell_type": "code",
   "execution_count": 76,
   "metadata": {},
   "outputs": [
    {
     "ename": "NameError",
     "evalue": "name 'df' is not defined",
     "output_type": "error",
     "traceback": [
      "\u001b[0;31m---------------------------------------------------------------------------\u001b[0m",
      "\u001b[0;31mNameError\u001b[0m                                 Traceback (most recent call last)",
      "\u001b[0;32m<ipython-input-76-da7bc800c4bf>\u001b[0m in \u001b[0;36m<module>\u001b[0;34m\u001b[0m\n\u001b[0;32m----> 1\u001b[0;31m \u001b[0mdf\u001b[0m\u001b[0;34m.\u001b[0m\u001b[0mhead\u001b[0m\u001b[0;34m(\u001b[0m\u001b[0;34m)\u001b[0m\u001b[0;34m\u001b[0m\u001b[0;34m\u001b[0m\u001b[0m\n\u001b[0m\u001b[1;32m      2\u001b[0m \u001b[0mdf\u001b[0m\u001b[0;34m.\u001b[0m\u001b[0mto_csv\u001b[0m\u001b[0;34m(\u001b[0m\u001b[0;34m\"testKKN.csv\"\u001b[0m\u001b[0;34m)\u001b[0m\u001b[0;34m\u001b[0m\u001b[0;34m\u001b[0m\u001b[0m\n",
      "\u001b[0;31mNameError\u001b[0m: name 'df' is not defined"
     ]
    }
   ],
   "source": [
    "df.head()\n",
    "df.to_csv(\"testKKN.csv\")\n"
   ]
  },
  {
   "cell_type": "markdown",
   "metadata": {},
   "source": [
    "# Genetic algorithm"
   ]
  },
  {
   "cell_type": "code",
   "execution_count": 77,
   "metadata": {},
   "outputs": [
    {
     "name": "stdout",
     "output_type": "stream",
     "text": [
      "Index(['Id', 'Prediction', 'DER_mass_MMC', 'DER_mass_transverse_met_lep',\n",
      "       'DER_mass_vis', 'DER_pt_h', 'DER_deltaeta_jet_jet', 'DER_mass_jet_jet',\n",
      "       'DER_prodeta_jet_jet', 'DER_deltar_tau_lep', 'DER_pt_tot', 'DER_sum_pt',\n",
      "       'DER_pt_ratio_lep_tau', 'DER_met_phi_centrality',\n",
      "       'DER_lep_eta_centrality', 'PRI_tau_pt', 'PRI_tau_eta', 'PRI_tau_phi',\n",
      "       'PRI_lep_pt', 'PRI_lep_eta', 'PRI_lep_phi', 'PRI_met', 'PRI_met_phi',\n",
      "       'PRI_met_sumet', 'PRI_jet_num', 'PRI_jet_leading_pt',\n",
      "       'PRI_jet_leading_eta', 'PRI_jet_leading_phi', 'PRI_jet_subleading_pt',\n",
      "       'PRI_jet_subleading_eta', 'PRI_jet_subleading_phi', 'PRI_jet_all_pt'],\n",
      "      dtype='object')\n",
      "(250000, 32) (568238, 32)\n",
      "(250000, 31) (568238, 31)\n",
      "(250000, 34) (568238, 34)\n",
      "(250000, 34) (568238, 34)\n"
     ]
    },
    {
     "data": {
      "text/plain": [
       "((250000, 72), (568238, 72))"
      ]
     },
     "execution_count": 77,
     "metadata": {},
     "output_type": "execute_result"
    }
   ],
   "source": [
    "train_data, test_data = load_data()\n",
    "print(train_data.columns)\n",
    "print(train_data.shape, test_data.shape)\n",
    "train_data['Prediction'] = train_data['Prediction'].apply(lambda x: int(x=='b'))\n",
    "train_data.drop(['Id'], axis=1, inplace=True)\n",
    "test_data.drop(['Id'], axis=1, inplace=True)\n",
    "print(train_data.shape, test_data.shape)\n",
    "train_data, test_data = transform_categorical_data(train_data, test_data)\n",
    "\n",
    "print(train_data.shape, test_data.shape)\n",
    "train_data = fill_nans_with_median(train_data)\n",
    "print(train_data.shape, test_data.shape)\n",
    "\n",
    "not_categorical = lambda x: (x!='Prediction') and (x[:-1] != 'PRI_jet_num') and (x!='Constant')\n",
    "non_categorical_columns = list(filter(not_categorical, train_data.columns))\n",
    "\n",
    "### Izdvojiti sve kolone gde je min veci od nule\n",
    "positive_columns = []\n",
    "for column in non_categorical_columns:\n",
    "    if train_data[column].min() > 0 and test_data[column].min()>0:\n",
    "        positive_columns.append(column)\n",
    "\n",
    "train_data = feature_log_expansion(train_data, positive_columns)\n",
    "test_data = feature_log_expansion(test_data, positive_columns)\n",
    "\n",
    "\n",
    "train_data = standardize(train_data)\n",
    "test_data = standardize(test_data)\n",
    "train_data = feature_exp_expansion(train_data, non_categorical_columns)\n",
    "test_data = feature_exp_expansion(test_data, non_categorical_columns)\n",
    "\n",
    "train_data = standardize(train_data)\n",
    "test_data = standardize(test_data)\n",
    "\n",
    "train_data = add_constant_attribute(train_data)\n",
    "test_data = add_constant_attribute(test_data)\n",
    "\n",
    "param_columns = train_data.columns[1:]\n",
    "train_data.shape, test_data.shape"
   ]
  },
  {
   "cell_type": "code",
   "execution_count": 78,
   "metadata": {},
   "outputs": [
    {
     "data": {
      "text/html": [
       "<div>\n",
       "<style scoped>\n",
       "    .dataframe tbody tr th:only-of-type {\n",
       "        vertical-align: middle;\n",
       "    }\n",
       "\n",
       "    .dataframe tbody tr th {\n",
       "        vertical-align: top;\n",
       "    }\n",
       "\n",
       "    .dataframe thead th {\n",
       "        text-align: right;\n",
       "    }\n",
       "</style>\n",
       "<table border=\"1\" class=\"dataframe\">\n",
       "  <thead>\n",
       "    <tr style=\"text-align: right;\">\n",
       "      <th></th>\n",
       "      <th>Prediction</th>\n",
       "      <th>DER_mass_MMC</th>\n",
       "      <th>DER_mass_transverse_met_lep</th>\n",
       "      <th>DER_mass_vis</th>\n",
       "      <th>DER_pt_h</th>\n",
       "      <th>DER_deltaeta_jet_jet</th>\n",
       "      <th>DER_mass_jet_jet</th>\n",
       "      <th>DER_prodeta_jet_jet</th>\n",
       "      <th>DER_deltar_tau_lep</th>\n",
       "      <th>DER_pt_tot</th>\n",
       "      <th>...</th>\n",
       "      <th>exp_PRI_met_phi</th>\n",
       "      <th>exp_PRI_met_sumet</th>\n",
       "      <th>exp_PRI_jet_leading_pt</th>\n",
       "      <th>exp_PRI_jet_leading_eta</th>\n",
       "      <th>exp_PRI_jet_leading_phi</th>\n",
       "      <th>exp_PRI_jet_subleading_pt</th>\n",
       "      <th>exp_PRI_jet_subleading_eta</th>\n",
       "      <th>exp_PRI_jet_subleading_phi</th>\n",
       "      <th>exp_PRI_jet_all_pt</th>\n",
       "      <th>Constant</th>\n",
       "    </tr>\n",
       "  </thead>\n",
       "  <tbody>\n",
       "    <tr>\n",
       "      <th>0</th>\n",
       "      <td>0</td>\n",
       "      <td>0.109407</td>\n",
       "      <td>0.074854</td>\n",
       "      <td>0.068128</td>\n",
       "      <td>0.009869</td>\n",
       "      <td>0.107021</td>\n",
       "      <td>0.022395</td>\n",
       "      <td>0.596501</td>\n",
       "      <td>0.521549</td>\n",
       "      <td>0.014789</td>\n",
       "      <td>...</td>\n",
       "      <td>0.336164</td>\n",
       "      <td>0.076254</td>\n",
       "      <td>0.020324</td>\n",
       "      <td>0.636519</td>\n",
       "      <td>0.447882</td>\n",
       "      <td>0.013677</td>\n",
       "      <td>0.519281</td>\n",
       "      <td>0.065170</td>\n",
       "      <td>0.041876</td>\n",
       "      <td>1</td>\n",
       "    </tr>\n",
       "    <tr>\n",
       "      <th>1</th>\n",
       "      <td>1</td>\n",
       "      <td>0.128398</td>\n",
       "      <td>0.099653</td>\n",
       "      <td>0.072155</td>\n",
       "      <td>0.016983</td>\n",
       "      <td>0.247795</td>\n",
       "      <td>0.042787</td>\n",
       "      <td>0.512775</td>\n",
       "      <td>0.596238</td>\n",
       "      <td>0.000733</td>\n",
       "      <td>...</td>\n",
       "      <td>0.125376</td>\n",
       "      <td>0.045830</td>\n",
       "      <td>0.008724</td>\n",
       "      <td>0.458052</td>\n",
       "      <td>0.571824</td>\n",
       "      <td>0.015264</td>\n",
       "      <td>0.376475</td>\n",
       "      <td>0.377235</td>\n",
       "      <td>0.016705</td>\n",
       "      <td>1</td>\n",
       "    </tr>\n",
       "    <tr>\n",
       "      <th>2</th>\n",
       "      <td>1</td>\n",
       "      <td>0.087374</td>\n",
       "      <td>0.235006</td>\n",
       "      <td>0.089071</td>\n",
       "      <td>0.012570</td>\n",
       "      <td>0.247795</td>\n",
       "      <td>0.042787</td>\n",
       "      <td>0.512775</td>\n",
       "      <td>0.536888</td>\n",
       "      <td>0.003293</td>\n",
       "      <td>...</td>\n",
       "      <td>0.095627</td>\n",
       "      <td>0.076810</td>\n",
       "      <td>0.007655</td>\n",
       "      <td>0.623454</td>\n",
       "      <td>0.112900</td>\n",
       "      <td>0.015264</td>\n",
       "      <td>0.376475</td>\n",
       "      <td>0.377235</td>\n",
       "      <td>0.015982</td>\n",
       "      <td>1</td>\n",
       "    </tr>\n",
       "    <tr>\n",
       "      <th>3</th>\n",
       "      <td>1</td>\n",
       "      <td>0.114001</td>\n",
       "      <td>0.117983</td>\n",
       "      <td>0.055557</td>\n",
       "      <td>0.000146</td>\n",
       "      <td>0.247795</td>\n",
       "      <td>0.042787</td>\n",
       "      <td>0.512775</td>\n",
       "      <td>0.566472</td>\n",
       "      <td>0.000146</td>\n",
       "      <td>...</td>\n",
       "      <td>0.386746</td>\n",
       "      <td>0.021555</td>\n",
       "      <td>0.019290</td>\n",
       "      <td>0.377541</td>\n",
       "      <td>0.372590</td>\n",
       "      <td>0.015264</td>\n",
       "      <td>0.376475</td>\n",
       "      <td>0.377235</td>\n",
       "      <td>0.000000</td>\n",
       "      <td>1</td>\n",
       "    </tr>\n",
       "    <tr>\n",
       "      <th>4</th>\n",
       "      <td>1</td>\n",
       "      <td>0.141017</td>\n",
       "      <td>0.024512</td>\n",
       "      <td>0.095662</td>\n",
       "      <td>0.005787</td>\n",
       "      <td>0.247795</td>\n",
       "      <td>0.042787</td>\n",
       "      <td>0.512775</td>\n",
       "      <td>0.672571</td>\n",
       "      <td>0.005787</td>\n",
       "      <td>...</td>\n",
       "      <td>0.253351</td>\n",
       "      <td>0.011651</td>\n",
       "      <td>0.019290</td>\n",
       "      <td>0.377541</td>\n",
       "      <td>0.372590</td>\n",
       "      <td>0.015264</td>\n",
       "      <td>0.376475</td>\n",
       "      <td>0.377235</td>\n",
       "      <td>0.000000</td>\n",
       "      <td>1</td>\n",
       "    </tr>\n",
       "  </tbody>\n",
       "</table>\n",
       "<p>5 rows × 72 columns</p>\n",
       "</div>"
      ],
      "text/plain": [
       "   Prediction  DER_mass_MMC  DER_mass_transverse_met_lep  DER_mass_vis  \\\n",
       "0           0      0.109407                     0.074854      0.068128   \n",
       "1           1      0.128398                     0.099653      0.072155   \n",
       "2           1      0.087374                     0.235006      0.089071   \n",
       "3           1      0.114001                     0.117983      0.055557   \n",
       "4           1      0.141017                     0.024512      0.095662   \n",
       "\n",
       "   DER_pt_h  DER_deltaeta_jet_jet  DER_mass_jet_jet  DER_prodeta_jet_jet  \\\n",
       "0  0.009869              0.107021          0.022395             0.596501   \n",
       "1  0.016983              0.247795          0.042787             0.512775   \n",
       "2  0.012570              0.247795          0.042787             0.512775   \n",
       "3  0.000146              0.247795          0.042787             0.512775   \n",
       "4  0.005787              0.247795          0.042787             0.512775   \n",
       "\n",
       "   DER_deltar_tau_lep  DER_pt_tot  ...  exp_PRI_met_phi  exp_PRI_met_sumet  \\\n",
       "0            0.521549    0.014789  ...         0.336164           0.076254   \n",
       "1            0.596238    0.000733  ...         0.125376           0.045830   \n",
       "2            0.536888    0.003293  ...         0.095627           0.076810   \n",
       "3            0.566472    0.000146  ...         0.386746           0.021555   \n",
       "4            0.672571    0.005787  ...         0.253351           0.011651   \n",
       "\n",
       "   exp_PRI_jet_leading_pt  exp_PRI_jet_leading_eta  exp_PRI_jet_leading_phi  \\\n",
       "0                0.020324                 0.636519                 0.447882   \n",
       "1                0.008724                 0.458052                 0.571824   \n",
       "2                0.007655                 0.623454                 0.112900   \n",
       "3                0.019290                 0.377541                 0.372590   \n",
       "4                0.019290                 0.377541                 0.372590   \n",
       "\n",
       "   exp_PRI_jet_subleading_pt  exp_PRI_jet_subleading_eta  \\\n",
       "0                   0.013677                    0.519281   \n",
       "1                   0.015264                    0.376475   \n",
       "2                   0.015264                    0.376475   \n",
       "3                   0.015264                    0.376475   \n",
       "4                   0.015264                    0.376475   \n",
       "\n",
       "   exp_PRI_jet_subleading_phi  exp_PRI_jet_all_pt  Constant  \n",
       "0                    0.065170            0.041876         1  \n",
       "1                    0.377235            0.016705         1  \n",
       "2                    0.377235            0.015982         1  \n",
       "3                    0.377235            0.000000         1  \n",
       "4                    0.377235            0.000000         1  \n",
       "\n",
       "[5 rows x 72 columns]"
      ]
     },
     "execution_count": 78,
     "metadata": {},
     "output_type": "execute_result"
    }
   ],
   "source": [
    "train_data.head()"
   ]
  },
  {
   "cell_type": "code",
   "execution_count": 79,
   "metadata": {},
   "outputs": [],
   "source": [
    "def run(train_data, parameters, GD=False):\n",
    "    curr_data= train_data.copy()\n",
    "    for key, value in parameters.items():\n",
    "        if key in ['lambda', 'gamma']:\n",
    "            continue\n",
    "        curr_data = feature_polynomial_expansion(curr_data, [key], value)\n",
    "\n",
    "    seed = random.randint(1,100)\n",
    "    x_train, y_train, x_test, y_test = split_train_test(curr_data, seed=seed)\n",
    "    \n",
    "    lambda_ = parameters['lambda']\n",
    "    gamma = parameters['gamma']\n",
    "    initial_w = x_train.mean(axis=0)\n",
    "    \n",
    "    if GD:\n",
    "        max_iters = 200\n",
    "        w, loss = reg_logistic_regression_GD(y_train, x_train, lambda_ ,initial_w, max_iters, gamma)\n",
    "    else:\n",
    "        max_iters = 1000000\n",
    "        w, loss = reg_logistic_regression(y_train, x_train, lambda_ ,initial_w, max_iters, gamma)\n",
    "                                  \n",
    "    evaluation_test = evaluate_on_set(w, x_test, y_test)\n",
    "    evaluation_train = evaluate_on_set(w, x_train, y_train)\n",
    "    \n",
    "    return w, evaluation_test, evaluation_train"
   ]
  },
  {
   "cell_type": "code",
   "execution_count": 80,
   "metadata": {},
   "outputs": [],
   "source": [
    "parameters = {}\n",
    "for column in train_data.columns:\n",
    "    if column == 'Prediction' or column=='Constant':\n",
    "        continue\n",
    "    parameters[column] = 1\n",
    "parameters['lambda'] = 0\n",
    "parameters['gamma'] = 0.00001\n",
    "w, evaluation_test, evaluation_train = run(train_data, parameters, GD=True)"
   ]
  },
  {
   "cell_type": "code",
   "execution_count": 81,
   "metadata": {},
   "outputs": [
    {
     "name": "stdout",
     "output_type": "stream",
     "text": [
      "{'accuracy': 0.503112, 'recall': 0.40627301562361906, 'precision': 0.9616475291711217, 'f1_score': 0.5712194953574264}\n"
     ]
    }
   ],
   "source": [
    "print(evaluation_test)"
   ]
  },
  {
   "cell_type": "code",
   "execution_count": 82,
   "metadata": {},
   "outputs": [],
   "source": [
    "submission = pd.read_csv('./data/sample-submission.csv')"
   ]
  },
  {
   "cell_type": "code",
   "execution_count": 83,
   "metadata": {},
   "outputs": [
    {
     "data": {
      "text/html": [
       "<div>\n",
       "<style scoped>\n",
       "    .dataframe tbody tr th:only-of-type {\n",
       "        vertical-align: middle;\n",
       "    }\n",
       "\n",
       "    .dataframe tbody tr th {\n",
       "        vertical-align: top;\n",
       "    }\n",
       "\n",
       "    .dataframe thead th {\n",
       "        text-align: right;\n",
       "    }\n",
       "</style>\n",
       "<table border=\"1\" class=\"dataframe\">\n",
       "  <thead>\n",
       "    <tr style=\"text-align: right;\">\n",
       "      <th></th>\n",
       "      <th>Id</th>\n",
       "      <th>Prediction</th>\n",
       "    </tr>\n",
       "  </thead>\n",
       "  <tbody>\n",
       "    <tr>\n",
       "      <th>0</th>\n",
       "      <td>350000</td>\n",
       "      <td>-1</td>\n",
       "    </tr>\n",
       "    <tr>\n",
       "      <th>1</th>\n",
       "      <td>350001</td>\n",
       "      <td>-1</td>\n",
       "    </tr>\n",
       "    <tr>\n",
       "      <th>2</th>\n",
       "      <td>350002</td>\n",
       "      <td>-1</td>\n",
       "    </tr>\n",
       "    <tr>\n",
       "      <th>3</th>\n",
       "      <td>350003</td>\n",
       "      <td>-1</td>\n",
       "    </tr>\n",
       "    <tr>\n",
       "      <th>4</th>\n",
       "      <td>350004</td>\n",
       "      <td>-1</td>\n",
       "    </tr>\n",
       "  </tbody>\n",
       "</table>\n",
       "</div>"
      ],
      "text/plain": [
       "       Id  Prediction\n",
       "0  350000          -1\n",
       "1  350001          -1\n",
       "2  350002          -1\n",
       "3  350003          -1\n",
       "4  350004          -1"
      ]
     },
     "execution_count": 83,
     "metadata": {},
     "output_type": "execute_result"
    }
   ],
   "source": [
    "submission.head()"
   ]
  },
  {
   "cell_type": "code",
   "execution_count": 84,
   "metadata": {},
   "outputs": [],
   "source": [
    "for key, value in parameters.items():\n",
    "    if key in ['lambda', 'gamma']:\n",
    "        continue\n",
    "    \n",
    "    test_data = feature_polynomial_expansion(test_data, [key], value)\n"
   ]
  },
  {
   "cell_type": "code",
   "execution_count": 85,
   "metadata": {},
   "outputs": [
    {
     "data": {
      "text/html": [
       "<div>\n",
       "<style scoped>\n",
       "    .dataframe tbody tr th:only-of-type {\n",
       "        vertical-align: middle;\n",
       "    }\n",
       "\n",
       "    .dataframe tbody tr th {\n",
       "        vertical-align: top;\n",
       "    }\n",
       "\n",
       "    .dataframe thead th {\n",
       "        text-align: right;\n",
       "    }\n",
       "</style>\n",
       "<table border=\"1\" class=\"dataframe\">\n",
       "  <thead>\n",
       "    <tr style=\"text-align: right;\">\n",
       "      <th></th>\n",
       "      <th>Prediction</th>\n",
       "      <th>DER_mass_MMC</th>\n",
       "      <th>DER_mass_transverse_met_lep</th>\n",
       "      <th>DER_mass_vis</th>\n",
       "      <th>DER_pt_h</th>\n",
       "      <th>DER_deltaeta_jet_jet</th>\n",
       "      <th>DER_mass_jet_jet</th>\n",
       "      <th>DER_prodeta_jet_jet</th>\n",
       "      <th>DER_deltar_tau_lep</th>\n",
       "      <th>DER_pt_tot</th>\n",
       "      <th>...</th>\n",
       "      <th>exp_PRI_met_phi</th>\n",
       "      <th>exp_PRI_met_sumet</th>\n",
       "      <th>exp_PRI_jet_leading_pt</th>\n",
       "      <th>exp_PRI_jet_leading_eta</th>\n",
       "      <th>exp_PRI_jet_leading_phi</th>\n",
       "      <th>exp_PRI_jet_subleading_pt</th>\n",
       "      <th>exp_PRI_jet_subleading_eta</th>\n",
       "      <th>exp_PRI_jet_subleading_phi</th>\n",
       "      <th>exp_PRI_jet_all_pt</th>\n",
       "      <th>Constant</th>\n",
       "    </tr>\n",
       "  </thead>\n",
       "  <tbody>\n",
       "    <tr>\n",
       "      <th>0</th>\n",
       "      <td>?</td>\n",
       "      <td>0.000000</td>\n",
       "      <td>0.082163</td>\n",
       "      <td>0.013596</td>\n",
       "      <td>0.002270</td>\n",
       "      <td>0.00000</td>\n",
       "      <td>0.000000</td>\n",
       "      <td>0.000000</td>\n",
       "      <td>0.120783</td>\n",
       "      <td>0.003998</td>\n",
       "      <td>...</td>\n",
       "      <td>0.741742</td>\n",
       "      <td>0.023098</td>\n",
       "      <td>0.000000</td>\n",
       "      <td>0.000000</td>\n",
       "      <td>0.000000</td>\n",
       "      <td>0.000000</td>\n",
       "      <td>0.000000</td>\n",
       "      <td>0.000000</td>\n",
       "      <td>0.000000</td>\n",
       "      <td>1</td>\n",
       "    </tr>\n",
       "    <tr>\n",
       "      <th>1</th>\n",
       "      <td>?</td>\n",
       "      <td>0.374932</td>\n",
       "      <td>0.069673</td>\n",
       "      <td>0.064490</td>\n",
       "      <td>0.037387</td>\n",
       "      <td>0.00000</td>\n",
       "      <td>0.000000</td>\n",
       "      <td>0.000000</td>\n",
       "      <td>0.328437</td>\n",
       "      <td>0.003528</td>\n",
       "      <td>...</td>\n",
       "      <td>0.218603</td>\n",
       "      <td>0.045088</td>\n",
       "      <td>0.362291</td>\n",
       "      <td>0.992054</td>\n",
       "      <td>0.993712</td>\n",
       "      <td>0.000000</td>\n",
       "      <td>0.000000</td>\n",
       "      <td>0.000000</td>\n",
       "      <td>0.015076</td>\n",
       "      <td>1</td>\n",
       "    </tr>\n",
       "    <tr>\n",
       "      <th>2</th>\n",
       "      <td>?</td>\n",
       "      <td>0.378798</td>\n",
       "      <td>0.058045</td>\n",
       "      <td>0.071174</td>\n",
       "      <td>0.003094</td>\n",
       "      <td>0.00000</td>\n",
       "      <td>0.000000</td>\n",
       "      <td>0.000000</td>\n",
       "      <td>0.456656</td>\n",
       "      <td>0.005448</td>\n",
       "      <td>...</td>\n",
       "      <td>0.130800</td>\n",
       "      <td>0.026708</td>\n",
       "      <td>0.000000</td>\n",
       "      <td>0.000000</td>\n",
       "      <td>0.000000</td>\n",
       "      <td>0.000000</td>\n",
       "      <td>0.000000</td>\n",
       "      <td>0.000000</td>\n",
       "      <td>0.000000</td>\n",
       "      <td>1</td>\n",
       "    </tr>\n",
       "    <tr>\n",
       "      <th>3</th>\n",
       "      <td>?</td>\n",
       "      <td>0.384926</td>\n",
       "      <td>0.031594</td>\n",
       "      <td>0.071913</td>\n",
       "      <td>0.006808</td>\n",
       "      <td>0.00000</td>\n",
       "      <td>0.000000</td>\n",
       "      <td>0.000000</td>\n",
       "      <td>0.466812</td>\n",
       "      <td>0.011989</td>\n",
       "      <td>...</td>\n",
       "      <td>0.574272</td>\n",
       "      <td>0.041771</td>\n",
       "      <td>0.000000</td>\n",
       "      <td>0.000000</td>\n",
       "      <td>0.000000</td>\n",
       "      <td>0.000000</td>\n",
       "      <td>0.000000</td>\n",
       "      <td>0.000000</td>\n",
       "      <td>0.000000</td>\n",
       "      <td>1</td>\n",
       "    </tr>\n",
       "    <tr>\n",
       "      <th>4</th>\n",
       "      <td>?</td>\n",
       "      <td>0.363997</td>\n",
       "      <td>0.085449</td>\n",
       "      <td>0.041268</td>\n",
       "      <td>0.067041</td>\n",
       "      <td>0.99268</td>\n",
       "      <td>0.265052</td>\n",
       "      <td>0.982306</td>\n",
       "      <td>0.143453</td>\n",
       "      <td>0.101681</td>\n",
       "      <td>...</td>\n",
       "      <td>0.342909</td>\n",
       "      <td>0.280345</td>\n",
       "      <td>0.456913</td>\n",
       "      <td>0.991333</td>\n",
       "      <td>0.994522</td>\n",
       "      <td>0.535241</td>\n",
       "      <td>0.993448</td>\n",
       "      <td>0.999124</td>\n",
       "      <td>0.221186</td>\n",
       "      <td>1</td>\n",
       "    </tr>\n",
       "  </tbody>\n",
       "</table>\n",
       "<p>5 rows × 72 columns</p>\n",
       "</div>"
      ],
      "text/plain": [
       "  Prediction  DER_mass_MMC  DER_mass_transverse_met_lep  DER_mass_vis  \\\n",
       "0          ?      0.000000                     0.082163      0.013596   \n",
       "1          ?      0.374932                     0.069673      0.064490   \n",
       "2          ?      0.378798                     0.058045      0.071174   \n",
       "3          ?      0.384926                     0.031594      0.071913   \n",
       "4          ?      0.363997                     0.085449      0.041268   \n",
       "\n",
       "   DER_pt_h  DER_deltaeta_jet_jet  DER_mass_jet_jet  DER_prodeta_jet_jet  \\\n",
       "0  0.002270               0.00000          0.000000             0.000000   \n",
       "1  0.037387               0.00000          0.000000             0.000000   \n",
       "2  0.003094               0.00000          0.000000             0.000000   \n",
       "3  0.006808               0.00000          0.000000             0.000000   \n",
       "4  0.067041               0.99268          0.265052             0.982306   \n",
       "\n",
       "   DER_deltar_tau_lep  DER_pt_tot  ...  exp_PRI_met_phi  exp_PRI_met_sumet  \\\n",
       "0            0.120783    0.003998  ...         0.741742           0.023098   \n",
       "1            0.328437    0.003528  ...         0.218603           0.045088   \n",
       "2            0.456656    0.005448  ...         0.130800           0.026708   \n",
       "3            0.466812    0.011989  ...         0.574272           0.041771   \n",
       "4            0.143453    0.101681  ...         0.342909           0.280345   \n",
       "\n",
       "   exp_PRI_jet_leading_pt  exp_PRI_jet_leading_eta  exp_PRI_jet_leading_phi  \\\n",
       "0                0.000000                 0.000000                 0.000000   \n",
       "1                0.362291                 0.992054                 0.993712   \n",
       "2                0.000000                 0.000000                 0.000000   \n",
       "3                0.000000                 0.000000                 0.000000   \n",
       "4                0.456913                 0.991333                 0.994522   \n",
       "\n",
       "   exp_PRI_jet_subleading_pt  exp_PRI_jet_subleading_eta  \\\n",
       "0                   0.000000                    0.000000   \n",
       "1                   0.000000                    0.000000   \n",
       "2                   0.000000                    0.000000   \n",
       "3                   0.000000                    0.000000   \n",
       "4                   0.535241                    0.993448   \n",
       "\n",
       "   exp_PRI_jet_subleading_phi  exp_PRI_jet_all_pt  Constant  \n",
       "0                    0.000000            0.000000         1  \n",
       "1                    0.000000            0.015076         1  \n",
       "2                    0.000000            0.000000         1  \n",
       "3                    0.000000            0.000000         1  \n",
       "4                    0.999124            0.221186         1  \n",
       "\n",
       "[5 rows x 72 columns]"
      ]
     },
     "execution_count": 85,
     "metadata": {},
     "output_type": "execute_result"
    }
   ],
   "source": [
    "test_data.head()\n"
   ]
  },
  {
   "cell_type": "code",
   "execution_count": 86,
   "metadata": {},
   "outputs": [
    {
     "data": {
      "text/plain": [
       "(568238, 72)"
      ]
     },
     "execution_count": 86,
     "metadata": {},
     "output_type": "execute_result"
    }
   ],
   "source": [
    "test_data.shape"
   ]
  },
  {
   "cell_type": "code",
   "execution_count": 87,
   "metadata": {},
   "outputs": [
    {
     "data": {
      "text/plain": [
       "(71,)"
      ]
     },
     "execution_count": 87,
     "metadata": {},
     "output_type": "execute_result"
    }
   ],
   "source": [
    "w.shape"
   ]
  },
  {
   "cell_type": "code",
   "execution_count": 88,
   "metadata": {},
   "outputs": [
    {
     "ename": "ValueError",
     "evalue": "shapes (568238,72) and (71,) not aligned: 72 (dim 1) != 71 (dim 0)",
     "output_type": "error",
     "traceback": [
      "\u001b[0;31m---------------------------------------------------------------------------\u001b[0m",
      "\u001b[0;31mValueError\u001b[0m                                Traceback (most recent call last)",
      "\u001b[0;32m<ipython-input-88-3cf41b89bcb4>\u001b[0m in \u001b[0;36m<module>\u001b[0;34m\u001b[0m\n\u001b[0;32m----> 1\u001b[0;31m \u001b[0my_predict\u001b[0m \u001b[0;34m=\u001b[0m \u001b[0mpredict\u001b[0m\u001b[0;34m(\u001b[0m\u001b[0mtest_data\u001b[0m\u001b[0;34m,\u001b[0m \u001b[0mw\u001b[0m\u001b[0;34m)\u001b[0m\u001b[0;34m\u001b[0m\u001b[0;34m\u001b[0m\u001b[0m\n\u001b[0m",
      "\u001b[0;32m<ipython-input-44-a84fc6cb2b13>\u001b[0m in \u001b[0;36mpredict\u001b[0;34m(x, w)\u001b[0m\n\u001b[1;32m      1\u001b[0m \u001b[0;32mdef\u001b[0m \u001b[0mpredict\u001b[0m\u001b[0;34m(\u001b[0m\u001b[0mx\u001b[0m\u001b[0;34m,\u001b[0m \u001b[0mw\u001b[0m\u001b[0;34m)\u001b[0m\u001b[0;34m:\u001b[0m\u001b[0;34m\u001b[0m\u001b[0;34m\u001b[0m\u001b[0m\n\u001b[0;32m----> 2\u001b[0;31m     \u001b[0mp\u001b[0m \u001b[0;34m=\u001b[0m \u001b[0msigmoid\u001b[0m\u001b[0;34m(\u001b[0m\u001b[0mnp\u001b[0m\u001b[0;34m.\u001b[0m\u001b[0mdot\u001b[0m\u001b[0;34m(\u001b[0m\u001b[0mx\u001b[0m\u001b[0;34m,\u001b[0m\u001b[0mw\u001b[0m\u001b[0;34m)\u001b[0m\u001b[0;34m)\u001b[0m\u001b[0;34m\u001b[0m\u001b[0;34m\u001b[0m\u001b[0m\n\u001b[0m\u001b[1;32m      3\u001b[0m     \u001b[0;32mreturn\u001b[0m \u001b[0mnp\u001b[0m\u001b[0;34m.\u001b[0m\u001b[0marray\u001b[0m\u001b[0;34m(\u001b[0m\u001b[0;34m[\u001b[0m\u001b[0mint\u001b[0m\u001b[0;34m(\u001b[0m\u001b[0mi\u001b[0m\u001b[0;34m>\u001b[0m\u001b[0;36m0.5\u001b[0m\u001b[0;34m)\u001b[0m \u001b[0;32mfor\u001b[0m \u001b[0mi\u001b[0m \u001b[0;32min\u001b[0m \u001b[0mp\u001b[0m\u001b[0;34m]\u001b[0m\u001b[0;34m)\u001b[0m\u001b[0;34m\u001b[0m\u001b[0;34m\u001b[0m\u001b[0m\n\u001b[1;32m      4\u001b[0m \u001b[0;34m\u001b[0m\u001b[0m\n\u001b[1;32m      5\u001b[0m \u001b[0;32mdef\u001b[0m \u001b[0mget_accuracy\u001b[0m\u001b[0;34m(\u001b[0m\u001b[0my\u001b[0m\u001b[0;34m,\u001b[0m\u001b[0my_predict\u001b[0m\u001b[0;34m)\u001b[0m\u001b[0;34m:\u001b[0m\u001b[0;34m\u001b[0m\u001b[0;34m\u001b[0m\u001b[0m\n",
      "\u001b[0;32m<__array_function__ internals>\u001b[0m in \u001b[0;36mdot\u001b[0;34m(*args, **kwargs)\u001b[0m\n",
      "\u001b[0;31mValueError\u001b[0m: shapes (568238,72) and (71,) not aligned: 72 (dim 1) != 71 (dim 0)"
     ]
    }
   ],
   "source": [
    "y_predict = predict(test_data, w)"
   ]
  },
  {
   "cell_type": "code",
   "execution_count": null,
   "metadata": {},
   "outputs": [],
   "source": [
    "y_predict"
   ]
  },
  {
   "cell_type": "code",
   "execution_count": null,
   "metadata": {},
   "outputs": [],
   "source": [
    "y_predict.mean()"
   ]
  },
  {
   "cell_type": "code",
   "execution_count": null,
   "metadata": {},
   "outputs": [],
   "source": [
    "submission['Prediction'] = y_predict"
   ]
  },
  {
   "cell_type": "code",
   "execution_count": null,
   "metadata": {},
   "outputs": [],
   "source": [
    "def to_boson(x):\n",
    "    if x == 0:\n",
    "        return -1\n",
    "    return 1\n",
    "\n",
    "submission['Prediction'] = submission['Prediction'].apply(to_boson)"
   ]
  },
  {
   "cell_type": "code",
   "execution_count": null,
   "metadata": {},
   "outputs": [],
   "source": [
    "submission.head()\n",
    "submission.to_csv('submission2.csv')"
   ]
  },
  {
   "cell_type": "markdown",
   "metadata": {},
   "source": [
    "# Genetic algorithm"
   ]
  },
  {
   "cell_type": "code",
   "execution_count": 89,
   "metadata": {},
   "outputs": [],
   "source": [
    "def make_population(population_size):\n",
    "    population = []\n",
    "    for i in range(population_size):\n",
    "        lambda_ = random.choice([0, 0.00001, 0.00005, 0.0001,0.0005,0.001])\n",
    "        gamma= random.choice([0.00001, 0.00005, 0.0001])\n",
    "        param = {'lambda' : lambda_, 'gamma' : gamma}\n",
    "        for key in param_columns:\n",
    "            if 'PRI_jet_num' in key:\n",
    "                param[key] = np.random.randint(1,2)\n",
    "            else:\n",
    "                param[key] = np.random.randint(1,4)\n",
    "        population.append(param)\n",
    "    return population\n",
    "\n",
    "def make_babies(parent1, parent2):\n",
    "    n = len(parent1)\n",
    "    baby1 = {}\n",
    "    baby2 = {}\n",
    "    crossing_point = np.random.randint(1,n-1)\n",
    "    for i,key in enumerate(parent1.keys()):\n",
    "        mutation_indicator = np.random.uniform(0,1)\n",
    "        if mutation_indicator > 0.05:\n",
    "            if i > crossing_point:\n",
    "                baby1[key] = parent1[key]\n",
    "                baby2[key] = parent2[key]\n",
    "            else:\n",
    "                baby2[key] = parent1[key]\n",
    "                baby1[key] = parent2[key]\n",
    "        else:\n",
    "            if key =='lambda':\n",
    "                baby2[key] = random.choice([0, 0.00001, 0.00005, 0.0001,0.0005,0.001])\n",
    "                baby1[key] =  random.choice([0, 0.00001, 0.00005, 0.0001,0.0005,0.001])\n",
    "            elif key == 'gamma':\n",
    "                baby2[key] = random.choice([0.00001, 0.00005, 0.0001])\n",
    "                baby1[key] = random.choice([0.00001, 0.00005, 0.0001])\n",
    "            elif 'PRI_num_jet' in key:\n",
    "                baby2[key] = random.choice([1])\n",
    "                baby1[key] = random.choice([1])\n",
    "            else:\n",
    "                baby2[key] = random.choice([1, 2, 3])\n",
    "                baby1[key] = random.choice([1, 2, 3])\n",
    "    return baby1, baby2\n"
   ]
  },
  {
   "cell_type": "code",
   "execution_count": 90,
   "metadata": {},
   "outputs": [],
   "source": [
    "def take_best_from_population(population, fitness, size):\n",
    "    sorted_population = sorted(population, key=lambda x: -fitness[str(x)])\n",
    "    return sorted_population[:size]"
   ]
  },
  {
   "cell_type": "code",
   "execution_count": 91,
   "metadata": {},
   "outputs": [],
   "source": [
    "def get_min(d1, d2):\n",
    "    return min(d1['accuracy'], d2['accuracy'])\n"
   ]
  },
  {
   "cell_type": "code",
   "execution_count": 92,
   "metadata": {},
   "outputs": [],
   "source": [
    "def optimize(train_data, log, GD, population_size=20, size=10, max_iters=40):\n",
    "    f = open(log, 'a')\n",
    "    population = make_population(population_size)\n",
    "    \n",
    "    fitness = {}\n",
    "    w = {}\n",
    "    for i in range(max_iters):\n",
    "        print(i)\n",
    "        for param in population:\n",
    "            if str(param) in fitness:\n",
    "                continue\n",
    "            w[str(param)], test_evaluation, train_evaluation = run(train_data, param, GD)\n",
    "            fitness[str(param)] = get_min(test_evaluation, train_evaluation)\n",
    "            f.write(str(w[str(param)]))\n",
    "            f.write('\\n')\n",
    "            f.write(str(param))\n",
    "            f.write('\\n')\n",
    "            f.write(str(fitness[str(param)]))\n",
    "            f.write('\\n-----------------------------------------------\\n')\n",
    "            \n",
    "        best = take_best_from_population(population, fitness, size)\n",
    "        random.shuffle(best)\n",
    "        \n",
    "        for i in range(len(best)//2):\n",
    "            baby1, baby2 = make_babies(best[2*i], best[2*i+1])\n",
    "            best.append(baby1)\n",
    "            best.append(baby2)\n",
    "            \n",
    "        population = best\n",
    "    \n",
    "    f.close()\n",
    "        \n",
    "    return fitness, w"
   ]
  },
  {
   "cell_type": "code",
   "execution_count": null,
   "metadata": {},
   "outputs": [
    {
     "name": "stdout",
     "output_type": "stream",
     "text": [
      "0\n"
     ]
    }
   ],
   "source": [
    "fitness1, w1 = optimize(train_data, \"fileGD.txt\", True)\n",
    "fintess2, w2 = optimize(train_data, \"fileSGD.txt\", False)\n"
   ]
  },
  {
   "cell_type": "code",
   "execution_count": 94,
   "metadata": {},
   "outputs": [
    {
     "ename": "NameError",
     "evalue": "name 'fitness' is not defined",
     "output_type": "error",
     "traceback": [
      "\u001b[0;31m---------------------------------------------------------------------------\u001b[0m",
      "\u001b[0;31mNameError\u001b[0m                                 Traceback (most recent call last)",
      "\u001b[0;32m<ipython-input-94-47e5bb25734b>\u001b[0m in \u001b[0;36m<module>\u001b[0;34m\u001b[0m\n\u001b[0;32m----> 1\u001b[0;31m \u001b[0mmax\u001b[0m\u001b[0;34m(\u001b[0m\u001b[0;34m[\u001b[0m\u001b[0mk\u001b[0m \u001b[0;32mfor\u001b[0m \u001b[0m_\u001b[0m\u001b[0;34m,\u001b[0m\u001b[0mk\u001b[0m \u001b[0;32min\u001b[0m \u001b[0mfitness\u001b[0m\u001b[0;34m.\u001b[0m\u001b[0mitems\u001b[0m\u001b[0;34m(\u001b[0m\u001b[0;34m)\u001b[0m\u001b[0;34m]\u001b[0m\u001b[0;34m)\u001b[0m\u001b[0;34m\u001b[0m\u001b[0;34m\u001b[0m\u001b[0m\n\u001b[0m",
      "\u001b[0;31mNameError\u001b[0m: name 'fitness' is not defined"
     ]
    }
   ],
   "source": [
    "max([k for _,k in fitness.items()])"
   ]
  },
  {
   "cell_type": "code",
   "execution_count": 63,
   "metadata": {},
   "outputs": [
    {
     "data": {
      "text/plain": [
       "\"{'lambda': 5e-05, 'gamma': 1e-05, 'DER_mass_MMC': 2, 'DER_mass_transverse_met_lep': 3, 'DER_mass_vis': 2, 'DER_pt_h': 3, 'DER_deltaeta_jet_jet': 3, 'DER_mass_jet_jet': 2, 'DER_prodeta_jet_jet': 3, 'DER_deltar_tau_lep': 1, 'DER_pt_tot': 3, 'DER_sum_pt': 1, 'DER_pt_ratio_lep_tau': 1, 'DER_met_phi_centrality': 1, 'DER_lep_eta_centrality': 3, 'PRI_tau_pt': 2, 'PRI_tau_eta': 1, 'PRI_tau_phi': 1, 'PRI_lep_pt': 1, 'PRI_lep_eta': 2, 'PRI_lep_phi': 1, 'PRI_met': 3, 'PRI_met_phi': 3, 'PRI_met_sumet': 1, 'PRI_jet_leading_pt': 3, 'PRI_jet_leading_eta': 1, 'PRI_jet_leading_phi': 3, 'PRI_jet_subleading_pt': 3, 'PRI_jet_subleading_eta': 3, 'PRI_jet_subleading_phi': 1, 'PRI_jet_all_pt': 3, 'PRI_jet_num0': 1, 'PRI_jet_num1': 1, 'PRI_jet_num2': 1, 'PRI_jet_num3': 1, 'log_DER_mass_vis': 1, 'log_DER_deltar_tau_lep': 2, 'log_DER_sum_pt': 3, 'log_DER_pt_ratio_lep_tau': 2, 'log_PRI_tau_pt': 3, 'log_PRI_lep_pt': 2, 'log_PRI_met': 3, 'log_PRI_met_sumet': 1, 'exp_DER_mass_MMC': 3, 'exp_DER_mass_transverse_met_lep': 3, 'exp_DER_mass_vis': 2, 'exp_DER_pt_h': 3, 'exp_DER_deltaeta_jet_jet': 1, 'exp_DER_mass_jet_jet': 1, 'exp_DER_prodeta_jet_jet': 3, 'exp_DER_deltar_tau_lep': 2, 'exp_DER_pt_tot': 3, 'exp_DER_sum_pt': 1, 'exp_DER_pt_ratio_lep_tau': 2, 'exp_DER_met_phi_centrality': 2, 'exp_DER_lep_eta_centrality': 1, 'exp_PRI_tau_pt': 1, 'exp_PRI_tau_eta': 1, 'exp_PRI_tau_phi': 1, 'exp_PRI_lep_pt': 2, 'exp_PRI_lep_eta': 1, 'exp_PRI_lep_phi': 1, 'exp_PRI_met': 3, 'exp_PRI_met_phi': 3, 'exp_PRI_met_sumet': 3, 'exp_PRI_jet_leading_pt': 2, 'exp_PRI_jet_leading_eta': 2, 'exp_PRI_jet_leading_phi': 2, 'exp_PRI_jet_subleading_pt': 1, 'exp_PRI_jet_subleading_eta': 1, 'exp_PRI_jet_subleading_phi': 2, 'exp_PRI_jet_all_pt': 2, 'Constant': 1}\""
      ]
     },
     "execution_count": 63,
     "metadata": {},
     "output_type": "execute_result"
    }
   ],
   "source": [
    "max_key = max(fitness, key=fitness.get)\n",
    "max_key"
   ]
  },
  {
   "cell_type": "code",
   "execution_count": 64,
   "metadata": {},
   "outputs": [
    {
     "data": {
      "text/plain": [
       "5e-05"
      ]
     },
     "execution_count": 64,
     "metadata": {},
     "output_type": "execute_result"
    }
   ],
   "source": [
    "float(\"5e-05\")"
   ]
  },
  {
   "cell_type": "code",
   "execution_count": 65,
   "metadata": {},
   "outputs": [],
   "source": [
    "def get_parameters_from_str(s):\n",
    "    arr = max_key.split(',')\n",
    "    param = {}\n",
    "    for i in range(0, len(arr)):\n",
    "        j1 = arr[i].find('\\'')+1\n",
    "        j2 = arr[i][j1:].find('\\'')\n",
    "        key = arr[i][j1:][:j2]\n",
    "        i1 = arr[i].find(':')+1\n",
    "        if arr[i].find('}') > 0:\n",
    "            arr[i] = arr[i][:-1]\n",
    "        if i < 2:\n",
    "            num = float(arr[i][i1:])\n",
    "        else:\n",
    "            num = int(arr[i][i1:])\n",
    "        param[key] = num\n",
    "    return param"
   ]
  },
  {
   "cell_type": "code",
   "execution_count": 67,
   "metadata": {},
   "outputs": [
    {
     "data": {
      "text/plain": [
       "{'lambda': 5e-05,\n",
       " 'gamma': 1e-05,\n",
       " 'DER_mass_MMC': 2,\n",
       " 'DER_mass_transverse_met_lep': 3,\n",
       " 'DER_mass_vis': 2,\n",
       " 'DER_pt_h': 3,\n",
       " 'DER_deltaeta_jet_jet': 3,\n",
       " 'DER_mass_jet_jet': 2,\n",
       " 'DER_prodeta_jet_jet': 3,\n",
       " 'DER_deltar_tau_lep': 1,\n",
       " 'DER_pt_tot': 3,\n",
       " 'DER_sum_pt': 1,\n",
       " 'DER_pt_ratio_lep_tau': 1,\n",
       " 'DER_met_phi_centrality': 1,\n",
       " 'DER_lep_eta_centrality': 3,\n",
       " 'PRI_tau_pt': 2,\n",
       " 'PRI_tau_eta': 1,\n",
       " 'PRI_tau_phi': 1,\n",
       " 'PRI_lep_pt': 1,\n",
       " 'PRI_lep_eta': 2,\n",
       " 'PRI_lep_phi': 1,\n",
       " 'PRI_met': 3,\n",
       " 'PRI_met_phi': 3,\n",
       " 'PRI_met_sumet': 1,\n",
       " 'PRI_jet_leading_pt': 3,\n",
       " 'PRI_jet_leading_eta': 1,\n",
       " 'PRI_jet_leading_phi': 3,\n",
       " 'PRI_jet_subleading_pt': 3,\n",
       " 'PRI_jet_subleading_eta': 3,\n",
       " 'PRI_jet_subleading_phi': 1,\n",
       " 'PRI_jet_all_pt': 3,\n",
       " 'PRI_jet_num0': 1,\n",
       " 'PRI_jet_num1': 1,\n",
       " 'PRI_jet_num2': 1,\n",
       " 'PRI_jet_num3': 1,\n",
       " 'log_DER_mass_vis': 1,\n",
       " 'log_DER_deltar_tau_lep': 2,\n",
       " 'log_DER_sum_pt': 3,\n",
       " 'log_DER_pt_ratio_lep_tau': 2,\n",
       " 'log_PRI_tau_pt': 3,\n",
       " 'log_PRI_lep_pt': 2,\n",
       " 'log_PRI_met': 3,\n",
       " 'log_PRI_met_sumet': 1,\n",
       " 'exp_DER_mass_MMC': 3,\n",
       " 'exp_DER_mass_transverse_met_lep': 3,\n",
       " 'exp_DER_mass_vis': 2,\n",
       " 'exp_DER_pt_h': 3,\n",
       " 'exp_DER_deltaeta_jet_jet': 1,\n",
       " 'exp_DER_mass_jet_jet': 1,\n",
       " 'exp_DER_prodeta_jet_jet': 3,\n",
       " 'exp_DER_deltar_tau_lep': 2,\n",
       " 'exp_DER_pt_tot': 3,\n",
       " 'exp_DER_sum_pt': 1,\n",
       " 'exp_DER_pt_ratio_lep_tau': 2,\n",
       " 'exp_DER_met_phi_centrality': 2,\n",
       " 'exp_DER_lep_eta_centrality': 1,\n",
       " 'exp_PRI_tau_pt': 1,\n",
       " 'exp_PRI_tau_eta': 1,\n",
       " 'exp_PRI_tau_phi': 1,\n",
       " 'exp_PRI_lep_pt': 2,\n",
       " 'exp_PRI_lep_eta': 1,\n",
       " 'exp_PRI_lep_phi': 1,\n",
       " 'exp_PRI_met': 3,\n",
       " 'exp_PRI_met_phi': 3,\n",
       " 'exp_PRI_met_sumet': 3,\n",
       " 'exp_PRI_jet_leading_pt': 2,\n",
       " 'exp_PRI_jet_leading_eta': 2,\n",
       " 'exp_PRI_jet_leading_phi': 2,\n",
       " 'exp_PRI_jet_subleading_pt': 1,\n",
       " 'exp_PRI_jet_subleading_eta': 1,\n",
       " 'exp_PRI_jet_subleading_phi': 2,\n",
       " 'exp_PRI_jet_all_pt': 2,\n",
       " 'Constant': 1}"
      ]
     },
     "execution_count": 67,
     "metadata": {},
     "output_type": "execute_result"
    }
   ],
   "source": [
    "parameters = get_parameters_from_str(max_key)\n",
    "parameters"
   ]
  },
  {
   "cell_type": "code",
   "execution_count": 68,
   "metadata": {},
   "outputs": [],
   "source": [
    "curr_data= train_data.copy()\n",
    "for key, value in parameters.items():\n",
    "    if key in ['lambda', 'gamma']:\n",
    "        continue\n",
    "    curr_data = feature_polynomial_expansion(curr_data, [key], value)\n",
    "    test_data = feature_polynomial_expansion(test_data, [key], value)\n",
    "\n",
    "x_train = curr_data.drop('Prediction', axis=1)\n",
    "y_train = curr_data['Prediction']\n",
    "lambda_ = parameters['lambda']\n",
    "gamma = parameters['gamma']\n",
    "    #initial_w = x_train.mean(axis=0)\n",
    "initial_w = x_train.means(axis=0)\n",
    "GD= True\n",
    "if GD:\n",
    "    max_iters = 100\n",
    "    w, loss = reg_logistic_regression_GD(y_train, x_train, lambda_ ,initial_w, max_iters, gamma)\n",
    "else:\n",
    "    max_iters = 1000000\n",
    "    w, loss = reg_logistic_regression(y_train, x_train, lambda_ ,initial_w, max_iters, gamma)\n",
    "                                  \n",
    "\n",
    "evaluation_train = evaluate_on_set(w, x_train, y_train)"
   ]
  },
  {
   "cell_type": "code",
   "execution_count": 69,
   "metadata": {},
   "outputs": [
    {
     "data": {
      "text/plain": [
       "{'accuracy': 0.6933279999999999,\n",
       " 'recall': 0.9831926636768026,\n",
       " 'precision': 0.686143445007368,\n",
       " 'f1_score': 0.808238913483905}"
      ]
     },
     "execution_count": 69,
     "metadata": {},
     "output_type": "execute_result"
    }
   ],
   "source": [
    "evaluation_train"
   ]
  },
  {
   "cell_type": "code",
   "execution_count": 70,
   "metadata": {},
   "outputs": [],
   "source": [
    "test_data.head()\n",
    "\n",
    "for key, value in parameters.items():\n",
    "    if key == 'lambda' or key == 'gamma':\n",
    "        continue\n",
    "    test_data =feature_polynomial_expansion(test_data, [key], value)\n",
    "    \n",
    "y_predict = predict(test_data.drop('Prediction', axis=1), w)"
   ]
  },
  {
   "cell_type": "code",
   "execution_count": 71,
   "metadata": {},
   "outputs": [
    {
     "data": {
      "text/plain": [
       "0.9999225676565101"
      ]
     },
     "execution_count": 71,
     "metadata": {},
     "output_type": "execute_result"
    }
   ],
   "source": [
    "y_predict.mean()"
   ]
  },
  {
   "cell_type": "code",
   "execution_count": 6,
   "metadata": {},
   "outputs": [],
   "source": [
    "import numpy as np\n",
    "a = np.array([[1,2],[3,4]])\n",
    "c = a[:,0]\n",
    "m = np.median(c[c!=3])\n",
    "c[c==3] = m"
   ]
  },
  {
   "cell_type": "code",
   "execution_count": 19,
   "metadata": {},
   "outputs": [
    {
     "ename": "AxisError",
     "evalue": "axis 1 is out of bounds for array of dimension 1",
     "output_type": "error",
     "traceback": [
      "\u001b[0;31m---------------------------------------------------------------------------\u001b[0m",
      "\u001b[0;31mAxisError\u001b[0m                                 Traceback (most recent call last)",
      "\u001b[0;32m<ipython-input-19-eea3c1ca4174>\u001b[0m in \u001b[0;36m<module>\u001b[0;34m\u001b[0m\n\u001b[1;32m      3\u001b[0m     \u001b[0;32mreturn\u001b[0m \u001b[0mnp\u001b[0m\u001b[0;34m.\u001b[0m\u001b[0mconcatenate\u001b[0m\u001b[0;34m(\u001b[0m\u001b[0;34m(\u001b[0m\u001b[0mdata\u001b[0m\u001b[0;34m,\u001b[0m \u001b[0mtmp\u001b[0m\u001b[0;34m)\u001b[0m\u001b[0;34m,\u001b[0m \u001b[0maxis\u001b[0m\u001b[0;34m=\u001b[0m\u001b[0;36m1\u001b[0m\u001b[0;34m)\u001b[0m\u001b[0;34m\u001b[0m\u001b[0;34m\u001b[0m\u001b[0m\n\u001b[1;32m      4\u001b[0m \u001b[0;34m\u001b[0m\u001b[0m\n\u001b[0;32m----> 5\u001b[0;31m \u001b[0ma\u001b[0m \u001b[0;34m=\u001b[0m \u001b[0madd_column\u001b[0m\u001b[0;34m(\u001b[0m\u001b[0ma\u001b[0m\u001b[0;34m,\u001b[0m \u001b[0mnp\u001b[0m\u001b[0;34m.\u001b[0m\u001b[0marray\u001b[0m\u001b[0;34m(\u001b[0m\u001b[0;34m[\u001b[0m\u001b[0;36m1\u001b[0m\u001b[0;34m,\u001b[0m\u001b[0;36m2\u001b[0m\u001b[0;34m]\u001b[0m\u001b[0;34m)\u001b[0m\u001b[0;34m)\u001b[0m\u001b[0;34m\u001b[0m\u001b[0;34m\u001b[0m\u001b[0m\n\u001b[0m",
      "\u001b[0;32m<ipython-input-19-eea3c1ca4174>\u001b[0m in \u001b[0;36madd_column\u001b[0;34m(data, column)\u001b[0m\n\u001b[1;32m      1\u001b[0m \u001b[0;32mdef\u001b[0m \u001b[0madd_column\u001b[0m\u001b[0;34m(\u001b[0m\u001b[0mdata\u001b[0m\u001b[0;34m,\u001b[0m \u001b[0mcolumn\u001b[0m\u001b[0;34m)\u001b[0m\u001b[0;34m:\u001b[0m\u001b[0;34m\u001b[0m\u001b[0;34m\u001b[0m\u001b[0m\n\u001b[1;32m      2\u001b[0m     \u001b[0mtmp\u001b[0m \u001b[0;34m=\u001b[0m \u001b[0mnp\u001b[0m\u001b[0;34m.\u001b[0m\u001b[0masmatrix\u001b[0m\u001b[0;34m(\u001b[0m\u001b[0mcolumn\u001b[0m\u001b[0;34m)\u001b[0m\u001b[0;34m.\u001b[0m\u001b[0mT\u001b[0m\u001b[0;34m\u001b[0m\u001b[0;34m\u001b[0m\u001b[0m\n\u001b[0;32m----> 3\u001b[0;31m     \u001b[0;32mreturn\u001b[0m \u001b[0mnp\u001b[0m\u001b[0;34m.\u001b[0m\u001b[0mconcatenate\u001b[0m\u001b[0;34m(\u001b[0m\u001b[0;34m(\u001b[0m\u001b[0mdata\u001b[0m\u001b[0;34m,\u001b[0m \u001b[0mtmp\u001b[0m\u001b[0;34m)\u001b[0m\u001b[0;34m,\u001b[0m \u001b[0maxis\u001b[0m\u001b[0;34m=\u001b[0m\u001b[0;36m1\u001b[0m\u001b[0;34m)\u001b[0m\u001b[0;34m\u001b[0m\u001b[0;34m\u001b[0m\u001b[0m\n\u001b[0m\u001b[1;32m      4\u001b[0m \u001b[0;34m\u001b[0m\u001b[0m\n\u001b[1;32m      5\u001b[0m \u001b[0ma\u001b[0m \u001b[0;34m=\u001b[0m \u001b[0madd_column\u001b[0m\u001b[0;34m(\u001b[0m\u001b[0ma\u001b[0m\u001b[0;34m,\u001b[0m \u001b[0mnp\u001b[0m\u001b[0;34m.\u001b[0m\u001b[0marray\u001b[0m\u001b[0;34m(\u001b[0m\u001b[0;34m[\u001b[0m\u001b[0;36m1\u001b[0m\u001b[0;34m,\u001b[0m\u001b[0;36m2\u001b[0m\u001b[0;34m]\u001b[0m\u001b[0;34m)\u001b[0m\u001b[0;34m)\u001b[0m\u001b[0;34m\u001b[0m\u001b[0;34m\u001b[0m\u001b[0m\n",
      "\u001b[0;32m<__array_function__ internals>\u001b[0m in \u001b[0;36mconcatenate\u001b[0;34m(*args, **kwargs)\u001b[0m\n",
      "\u001b[0;31mAxisError\u001b[0m: axis 1 is out of bounds for array of dimension 1"
     ]
    }
   ],
   "source": [
    "def add_column(data, column):\n",
    "    tmp = np.asmatrix(column).T\n",
    "    return np.concatenate((data, tmp), axis=1)\n",
    "    \n",
    "a = add_column(a, np.array([1,2]))"
   ]
  },
  {
   "cell_type": "code",
   "execution_count": 20,
   "metadata": {},
   "outputs": [
    {
     "data": {
      "text/plain": [
       "array(['lala', 'a', 'p'], dtype='<U4')"
      ]
     },
     "execution_count": 20,
     "metadata": {},
     "output_type": "execute_result"
    }
   ],
   "source": [
    "a"
   ]
  },
  {
   "cell_type": "code",
   "execution_count": 18,
   "metadata": {},
   "outputs": [
    {
     "ename": "IndexError",
     "evalue": "arrays used as indices must be of integer (or boolean) type",
     "output_type": "error",
     "traceback": [
      "\u001b[0;31m---------------------------------------------------------------------------\u001b[0m",
      "\u001b[0;31mIndexError\u001b[0m                                Traceback (most recent call last)",
      "\u001b[0;32m<ipython-input-18-abd373c4b121>\u001b[0m in \u001b[0;36m<module>\u001b[0;34m\u001b[0m\n\u001b[1;32m      1\u001b[0m \u001b[0ma\u001b[0m\u001b[0;34m=\u001b[0m\u001b[0mnp\u001b[0m\u001b[0;34m.\u001b[0m\u001b[0marray\u001b[0m\u001b[0;34m(\u001b[0m\u001b[0;34m[\u001b[0m\u001b[0;34m\"lala\"\u001b[0m\u001b[0;34m,\u001b[0m \u001b[0;34m\"a\"\u001b[0m\u001b[0;34m,\u001b[0m \u001b[0;34m\"p\"\u001b[0m\u001b[0;34m]\u001b[0m\u001b[0;34m)\u001b[0m\u001b[0;34m\u001b[0m\u001b[0;34m\u001b[0m\u001b[0m\n\u001b[0;32m----> 2\u001b[0;31m \u001b[0mnp\u001b[0m\u001b[0;34m.\u001b[0m\u001b[0mdelete\u001b[0m\u001b[0;34m(\u001b[0m\u001b[0ma\u001b[0m\u001b[0;34m,\u001b[0m \u001b[0;34m\"lala\"\u001b[0m\u001b[0;34m)\u001b[0m\u001b[0;34m\u001b[0m\u001b[0;34m\u001b[0m\u001b[0m\n\u001b[0m",
      "\u001b[0;32m<__array_function__ internals>\u001b[0m in \u001b[0;36mdelete\u001b[0;34m(*args, **kwargs)\u001b[0m\n",
      "\u001b[0;32m~/anaconda3/lib/python3.7/site-packages/numpy/lib/function_base.py\u001b[0m in \u001b[0;36mdelete\u001b[0;34m(arr, obj, axis)\u001b[0m\n\u001b[1;32m   4550\u001b[0m         \u001b[0;32melse\u001b[0m\u001b[0;34m:\u001b[0m\u001b[0;34m\u001b[0m\u001b[0;34m\u001b[0m\u001b[0m\n\u001b[1;32m   4551\u001b[0m             \u001b[0mkeep\u001b[0m \u001b[0;34m=\u001b[0m \u001b[0mones\u001b[0m\u001b[0;34m(\u001b[0m\u001b[0mN\u001b[0m\u001b[0;34m,\u001b[0m \u001b[0mdtype\u001b[0m\u001b[0;34m=\u001b[0m\u001b[0mbool\u001b[0m\u001b[0;34m)\u001b[0m\u001b[0;34m\u001b[0m\u001b[0;34m\u001b[0m\u001b[0m\n\u001b[0;32m-> 4552\u001b[0;31m             \u001b[0mkeep\u001b[0m\u001b[0;34m[\u001b[0m\u001b[0mobj\u001b[0m\u001b[0;34m,\u001b[0m\u001b[0;34m]\u001b[0m \u001b[0;34m=\u001b[0m \u001b[0;32mFalse\u001b[0m\u001b[0;34m\u001b[0m\u001b[0;34m\u001b[0m\u001b[0m\n\u001b[0m\u001b[1;32m   4553\u001b[0m \u001b[0;34m\u001b[0m\u001b[0m\n\u001b[1;32m   4554\u001b[0m         \u001b[0mslobj\u001b[0m\u001b[0;34m[\u001b[0m\u001b[0maxis\u001b[0m\u001b[0;34m]\u001b[0m \u001b[0;34m=\u001b[0m \u001b[0mkeep\u001b[0m\u001b[0;34m\u001b[0m\u001b[0;34m\u001b[0m\u001b[0m\n",
      "\u001b[0;31mIndexError\u001b[0m: arrays used as indices must be of integer (or boolean) type"
     ]
    }
   ],
   "source": [
    "a=np.array([\"lala\", \"a\", \"p\"])\n",
    "np.delete(a, \"lala\")"
   ]
  },
  {
   "cell_type": "code",
   "execution_count": 22,
   "metadata": {},
   "outputs": [
    {
     "data": {
      "text/plain": [
       "29"
      ]
     },
     "execution_count": 22,
     "metadata": {},
     "output_type": "execute_result"
    }
   ],
   "source": [
    "a = np.array([[1,2,3],[4,5,6]])\n",
    "np.sum(a[:,1] * a[:,1])"
   ]
  },
  {
   "cell_type": "code",
   "execution_count": 23,
   "metadata": {},
   "outputs": [
    {
     "data": {
      "text/plain": [
       "(2,)"
      ]
     },
     "execution_count": 23,
     "metadata": {},
     "output_type": "execute_result"
    }
   ],
   "source": [
    "a[:,1].shape"
   ]
  },
  {
   "cell_type": "code",
   "execution_count": null,
   "metadata": {},
   "outputs": [],
   "source": []
  }
 ],
 "metadata": {
  "kernelspec": {
   "display_name": "Python 3",
   "language": "python",
   "name": "python3"
  },
  "language_info": {
   "codemirror_mode": {
    "name": "ipython",
    "version": 3
   },
   "file_extension": ".py",
   "mimetype": "text/x-python",
   "name": "python",
   "nbconvert_exporter": "python",
   "pygments_lexer": "ipython3",
   "version": "3.7.6"
  }
 },
 "nbformat": 4,
 "nbformat_minor": 4
}
